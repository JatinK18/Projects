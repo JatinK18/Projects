{
 "cells": [
  {
   "cell_type": "markdown",
   "id": "064804cd",
   "metadata": {},
   "source": [
    "## Problem Statement"
   ]
  },
  {
   "cell_type": "markdown",
   "id": "a2a509a2",
   "metadata": {},
   "source": [
    "####             In this modern world where we are surrounding with a lot of technologies and other amenities that makes our work easier and faster, we all are becoming dependent on easier approaches to find solution for everything on our finger tip. But one of the most important thing which we are neglecting by going forward towards a easy and convenient work is our 'Health'. \n",
    "#### The more a person is adapting technologies and other amenities the more they are forgetting about their 'Health',also they are getting addicted to alot of bad habits which is leading to occurrence of several diseases and illness. "
   ]
  },
  {
   "cell_type": "markdown",
   "id": "4f5c353f",
   "metadata": {},
   "source": [
    "## Objective:"
   ]
  },
  {
   "cell_type": "markdown",
   "id": "011d0007",
   "metadata": {},
   "source": [
    "#### The given dataset provides the information about the records of a population who are addicted to several bad habits and are suffering from different diseases.\n",
    "#### (i) Your task is to perform an Exploratory Data Analysis on the given dataset to evaluate a person's Health on the basis of different criteria.\n",
    "#### (ii) Implement a Machine Learning Model to predict whether a person is having a HeartDisease or not on the basis of given criteria."
   ]
  },
  {
   "cell_type": "markdown",
   "id": "122679ca",
   "metadata": {},
   "source": [
    "####  "
   ]
  },
  {
   "cell_type": "markdown",
   "id": "a34dc23e",
   "metadata": {},
   "source": [
    "## Importing Libraries"
   ]
  },
  {
   "cell_type": "code",
   "execution_count": 1,
   "id": "c6e5e984",
   "metadata": {},
   "outputs": [],
   "source": [
    "import numpy as np                         # For numerical and array operations\n",
    "import pandas as pd                        # For reading dataset, creating DataFrame and Series Objects\n",
    "import matplotlib.pyplot as plt            # For Visualisation\n",
    "import seaborn as sns                      # For Visualisation\n",
    "import warnings                            # To skip any warning occur in the prog.\n",
    "warnings.filterwarnings('ignore')"
   ]
  },
  {
   "cell_type": "markdown",
   "id": "027ab261",
   "metadata": {},
   "source": [
    "## Reading the dataset"
   ]
  },
  {
   "cell_type": "code",
   "execution_count": 2,
   "id": "b1d729d7",
   "metadata": {},
   "outputs": [],
   "source": [
    "df = pd.read_csv('HeartDisease.csv')         # Reading a csv file named 'HeartDisease'"
   ]
  },
  {
   "cell_type": "markdown",
   "id": "e8b58b10",
   "metadata": {},
   "source": [
    "* Kaggle link -- https://www.kaggle.com/datasets/kamilpytlak/personal-key-indicators-of-heart-disease"
   ]
  },
  {
   "cell_type": "markdown",
   "id": "3d7b902f",
   "metadata": {},
   "source": [
    "### Printing the Dataset"
   ]
  },
  {
   "cell_type": "code",
   "execution_count": 3,
   "id": "2a4012f9",
   "metadata": {},
   "outputs": [
    {
     "data": {
      "text/html": [
       "<div>\n",
       "<style scoped>\n",
       "    .dataframe tbody tr th:only-of-type {\n",
       "        vertical-align: middle;\n",
       "    }\n",
       "\n",
       "    .dataframe tbody tr th {\n",
       "        vertical-align: top;\n",
       "    }\n",
       "\n",
       "    .dataframe thead th {\n",
       "        text-align: right;\n",
       "    }\n",
       "</style>\n",
       "<table border=\"1\" class=\"dataframe\">\n",
       "  <thead>\n",
       "    <tr style=\"text-align: right;\">\n",
       "      <th></th>\n",
       "      <th>HeartDisease</th>\n",
       "      <th>BMI</th>\n",
       "      <th>Smoking</th>\n",
       "      <th>AlcoholDrinking</th>\n",
       "      <th>Stroke</th>\n",
       "      <th>PhysicalHealth</th>\n",
       "      <th>MentalHealth</th>\n",
       "      <th>DiffWalking</th>\n",
       "      <th>Sex</th>\n",
       "      <th>AgeCategory</th>\n",
       "      <th>Race</th>\n",
       "      <th>Diabetic</th>\n",
       "      <th>PhysicalActivity</th>\n",
       "      <th>GenHealth</th>\n",
       "      <th>SleepTime</th>\n",
       "      <th>Asthma</th>\n",
       "      <th>KidneyDisease</th>\n",
       "      <th>SkinCancer</th>\n",
       "    </tr>\n",
       "  </thead>\n",
       "  <tbody>\n",
       "    <tr>\n",
       "      <th>0</th>\n",
       "      <td>No</td>\n",
       "      <td>16.60</td>\n",
       "      <td>Yes</td>\n",
       "      <td>No</td>\n",
       "      <td>No</td>\n",
       "      <td>3.0</td>\n",
       "      <td>30.0</td>\n",
       "      <td>No</td>\n",
       "      <td>Female</td>\n",
       "      <td>55-59</td>\n",
       "      <td>White</td>\n",
       "      <td>Yes</td>\n",
       "      <td>Yes</td>\n",
       "      <td>Very good</td>\n",
       "      <td>5.0</td>\n",
       "      <td>Yes</td>\n",
       "      <td>No</td>\n",
       "      <td>Yes</td>\n",
       "    </tr>\n",
       "    <tr>\n",
       "      <th>1</th>\n",
       "      <td>No</td>\n",
       "      <td>20.34</td>\n",
       "      <td>No</td>\n",
       "      <td>No</td>\n",
       "      <td>Yes</td>\n",
       "      <td>0.0</td>\n",
       "      <td>0.0</td>\n",
       "      <td>No</td>\n",
       "      <td>Female</td>\n",
       "      <td>80 or older</td>\n",
       "      <td>White</td>\n",
       "      <td>No</td>\n",
       "      <td>Yes</td>\n",
       "      <td>Very good</td>\n",
       "      <td>7.0</td>\n",
       "      <td>No</td>\n",
       "      <td>No</td>\n",
       "      <td>No</td>\n",
       "    </tr>\n",
       "    <tr>\n",
       "      <th>2</th>\n",
       "      <td>No</td>\n",
       "      <td>26.58</td>\n",
       "      <td>Yes</td>\n",
       "      <td>No</td>\n",
       "      <td>No</td>\n",
       "      <td>20.0</td>\n",
       "      <td>30.0</td>\n",
       "      <td>No</td>\n",
       "      <td>Male</td>\n",
       "      <td>65-69</td>\n",
       "      <td>White</td>\n",
       "      <td>Yes</td>\n",
       "      <td>Yes</td>\n",
       "      <td>Fair</td>\n",
       "      <td>8.0</td>\n",
       "      <td>Yes</td>\n",
       "      <td>No</td>\n",
       "      <td>No</td>\n",
       "    </tr>\n",
       "    <tr>\n",
       "      <th>3</th>\n",
       "      <td>No</td>\n",
       "      <td>24.21</td>\n",
       "      <td>No</td>\n",
       "      <td>No</td>\n",
       "      <td>No</td>\n",
       "      <td>0.0</td>\n",
       "      <td>0.0</td>\n",
       "      <td>No</td>\n",
       "      <td>Female</td>\n",
       "      <td>75-79</td>\n",
       "      <td>White</td>\n",
       "      <td>No</td>\n",
       "      <td>No</td>\n",
       "      <td>Good</td>\n",
       "      <td>6.0</td>\n",
       "      <td>No</td>\n",
       "      <td>No</td>\n",
       "      <td>Yes</td>\n",
       "    </tr>\n",
       "    <tr>\n",
       "      <th>4</th>\n",
       "      <td>No</td>\n",
       "      <td>23.71</td>\n",
       "      <td>No</td>\n",
       "      <td>No</td>\n",
       "      <td>No</td>\n",
       "      <td>28.0</td>\n",
       "      <td>0.0</td>\n",
       "      <td>Yes</td>\n",
       "      <td>Female</td>\n",
       "      <td>40-44</td>\n",
       "      <td>White</td>\n",
       "      <td>No</td>\n",
       "      <td>Yes</td>\n",
       "      <td>Very good</td>\n",
       "      <td>8.0</td>\n",
       "      <td>No</td>\n",
       "      <td>No</td>\n",
       "      <td>No</td>\n",
       "    </tr>\n",
       "    <tr>\n",
       "      <th>...</th>\n",
       "      <td>...</td>\n",
       "      <td>...</td>\n",
       "      <td>...</td>\n",
       "      <td>...</td>\n",
       "      <td>...</td>\n",
       "      <td>...</td>\n",
       "      <td>...</td>\n",
       "      <td>...</td>\n",
       "      <td>...</td>\n",
       "      <td>...</td>\n",
       "      <td>...</td>\n",
       "      <td>...</td>\n",
       "      <td>...</td>\n",
       "      <td>...</td>\n",
       "      <td>...</td>\n",
       "      <td>...</td>\n",
       "      <td>...</td>\n",
       "      <td>...</td>\n",
       "    </tr>\n",
       "    <tr>\n",
       "      <th>319790</th>\n",
       "      <td>Yes</td>\n",
       "      <td>27.41</td>\n",
       "      <td>Yes</td>\n",
       "      <td>No</td>\n",
       "      <td>No</td>\n",
       "      <td>7.0</td>\n",
       "      <td>0.0</td>\n",
       "      <td>Yes</td>\n",
       "      <td>Male</td>\n",
       "      <td>60-64</td>\n",
       "      <td>Hispanic</td>\n",
       "      <td>Yes</td>\n",
       "      <td>No</td>\n",
       "      <td>Fair</td>\n",
       "      <td>6.0</td>\n",
       "      <td>Yes</td>\n",
       "      <td>No</td>\n",
       "      <td>No</td>\n",
       "    </tr>\n",
       "    <tr>\n",
       "      <th>319791</th>\n",
       "      <td>No</td>\n",
       "      <td>29.84</td>\n",
       "      <td>Yes</td>\n",
       "      <td>No</td>\n",
       "      <td>No</td>\n",
       "      <td>0.0</td>\n",
       "      <td>0.0</td>\n",
       "      <td>No</td>\n",
       "      <td>Male</td>\n",
       "      <td>35-39</td>\n",
       "      <td>Hispanic</td>\n",
       "      <td>No</td>\n",
       "      <td>Yes</td>\n",
       "      <td>Very good</td>\n",
       "      <td>5.0</td>\n",
       "      <td>Yes</td>\n",
       "      <td>No</td>\n",
       "      <td>No</td>\n",
       "    </tr>\n",
       "    <tr>\n",
       "      <th>319792</th>\n",
       "      <td>No</td>\n",
       "      <td>24.24</td>\n",
       "      <td>No</td>\n",
       "      <td>No</td>\n",
       "      <td>No</td>\n",
       "      <td>0.0</td>\n",
       "      <td>0.0</td>\n",
       "      <td>No</td>\n",
       "      <td>Female</td>\n",
       "      <td>45-49</td>\n",
       "      <td>Hispanic</td>\n",
       "      <td>No</td>\n",
       "      <td>Yes</td>\n",
       "      <td>Good</td>\n",
       "      <td>6.0</td>\n",
       "      <td>No</td>\n",
       "      <td>No</td>\n",
       "      <td>No</td>\n",
       "    </tr>\n",
       "    <tr>\n",
       "      <th>319793</th>\n",
       "      <td>No</td>\n",
       "      <td>32.81</td>\n",
       "      <td>No</td>\n",
       "      <td>No</td>\n",
       "      <td>No</td>\n",
       "      <td>0.0</td>\n",
       "      <td>0.0</td>\n",
       "      <td>No</td>\n",
       "      <td>Female</td>\n",
       "      <td>25-29</td>\n",
       "      <td>Hispanic</td>\n",
       "      <td>No</td>\n",
       "      <td>No</td>\n",
       "      <td>Good</td>\n",
       "      <td>12.0</td>\n",
       "      <td>No</td>\n",
       "      <td>No</td>\n",
       "      <td>No</td>\n",
       "    </tr>\n",
       "    <tr>\n",
       "      <th>319794</th>\n",
       "      <td>No</td>\n",
       "      <td>46.56</td>\n",
       "      <td>No</td>\n",
       "      <td>No</td>\n",
       "      <td>No</td>\n",
       "      <td>0.0</td>\n",
       "      <td>0.0</td>\n",
       "      <td>No</td>\n",
       "      <td>Female</td>\n",
       "      <td>80 or older</td>\n",
       "      <td>Hispanic</td>\n",
       "      <td>No</td>\n",
       "      <td>Yes</td>\n",
       "      <td>Good</td>\n",
       "      <td>8.0</td>\n",
       "      <td>No</td>\n",
       "      <td>No</td>\n",
       "      <td>No</td>\n",
       "    </tr>\n",
       "  </tbody>\n",
       "</table>\n",
       "<p>319795 rows × 18 columns</p>\n",
       "</div>"
      ],
      "text/plain": [
       "       HeartDisease    BMI Smoking AlcoholDrinking Stroke  PhysicalHealth  \\\n",
       "0                No  16.60     Yes              No     No             3.0   \n",
       "1                No  20.34      No              No    Yes             0.0   \n",
       "2                No  26.58     Yes              No     No            20.0   \n",
       "3                No  24.21      No              No     No             0.0   \n",
       "4                No  23.71      No              No     No            28.0   \n",
       "...             ...    ...     ...             ...    ...             ...   \n",
       "319790          Yes  27.41     Yes              No     No             7.0   \n",
       "319791           No  29.84     Yes              No     No             0.0   \n",
       "319792           No  24.24      No              No     No             0.0   \n",
       "319793           No  32.81      No              No     No             0.0   \n",
       "319794           No  46.56      No              No     No             0.0   \n",
       "\n",
       "        MentalHealth DiffWalking     Sex  AgeCategory      Race Diabetic  \\\n",
       "0               30.0          No  Female        55-59     White      Yes   \n",
       "1                0.0          No  Female  80 or older     White       No   \n",
       "2               30.0          No    Male        65-69     White      Yes   \n",
       "3                0.0          No  Female        75-79     White       No   \n",
       "4                0.0         Yes  Female        40-44     White       No   \n",
       "...              ...         ...     ...          ...       ...      ...   \n",
       "319790           0.0         Yes    Male        60-64  Hispanic      Yes   \n",
       "319791           0.0          No    Male        35-39  Hispanic       No   \n",
       "319792           0.0          No  Female        45-49  Hispanic       No   \n",
       "319793           0.0          No  Female        25-29  Hispanic       No   \n",
       "319794           0.0          No  Female  80 or older  Hispanic       No   \n",
       "\n",
       "       PhysicalActivity  GenHealth  SleepTime Asthma KidneyDisease SkinCancer  \n",
       "0                   Yes  Very good        5.0    Yes            No        Yes  \n",
       "1                   Yes  Very good        7.0     No            No         No  \n",
       "2                   Yes       Fair        8.0    Yes            No         No  \n",
       "3                    No       Good        6.0     No            No        Yes  \n",
       "4                   Yes  Very good        8.0     No            No         No  \n",
       "...                 ...        ...        ...    ...           ...        ...  \n",
       "319790               No       Fair        6.0    Yes            No         No  \n",
       "319791              Yes  Very good        5.0    Yes            No         No  \n",
       "319792              Yes       Good        6.0     No            No         No  \n",
       "319793               No       Good       12.0     No            No         No  \n",
       "319794              Yes       Good        8.0     No            No         No  \n",
       "\n",
       "[319795 rows x 18 columns]"
      ]
     },
     "execution_count": 3,
     "metadata": {},
     "output_type": "execute_result"
    }
   ],
   "source": [
    "df"
   ]
  },
  {
   "cell_type": "markdown",
   "id": "d25eb9b1",
   "metadata": {},
   "source": [
    "### List the columns Present in the Dataset"
   ]
  },
  {
   "cell_type": "code",
   "execution_count": 4,
   "id": "de0f9905",
   "metadata": {
    "scrolled": true
   },
   "outputs": [
    {
     "data": {
      "text/plain": [
       "Index(['HeartDisease', 'BMI', 'Smoking', 'AlcoholDrinking', 'Stroke',\n",
       "       'PhysicalHealth', 'MentalHealth', 'DiffWalking', 'Sex', 'AgeCategory',\n",
       "       'Race', 'Diabetic', 'PhysicalActivity', 'GenHealth', 'SleepTime',\n",
       "       'Asthma', 'KidneyDisease', 'SkinCancer'],\n",
       "      dtype='object')"
      ]
     },
     "execution_count": 4,
     "metadata": {},
     "output_type": "execute_result"
    }
   ],
   "source": [
    "df.columns"
   ]
  },
  {
   "cell_type": "markdown",
   "id": "f705852f",
   "metadata": {},
   "source": [
    "### Description of Features of the dataset -- \n",
    "* HeartDisease -- Based on the mentioned conditions a person does have a Heart Disease or not\n",
    "* BMI -- Body mass index (BMI) is a measure of body fat based on height and weight that applies to adult men and women.\n",
    "* Smoking -- Whether a person is involved in smoking.\n",
    "* AlcoholDrinking -- Whether a person is involved in drinking Alcohol.\n",
    "* Stroke -- Occurs when something blocks blood supply to part of the brain or when a blood vessel in the brain bursts.\n",
    "* PhysicalHealth --  The condition of your body, taking into consideration everything from the absence of disease to fitness level.\n",
    "* MentalHealth --  Includes our emotional, psychological, and social well-being.\n",
    "* DiffWalking --Difficulty walking may arise from problems with the feet, ankles, knees, legs, hips, or back including.\n",
    "* Sex -- Whether the observation is about Male or Female.\n",
    "* AgeCategory -- Observations taken as per some Age Category.\n",
    "* Race --Groups that people often divided on the basis of physical traits.\n",
    "* Diabetic -- Health condition that affects how your body turns food into energy. \n",
    "* PhysicalActivity -- Whether a person is involved in any Physical Activity.\n",
    "* GenHealth -- Tells about the General Health of a person as per their routine.\n",
    "* SleepTime -- For how many hours a person used to sleep.\n",
    "* Asthma -- A condition in which your airways narrow and swell.\n",
    "* KidneyDisease -- Whether a person is suffering from Kidney Disease.\n",
    "* SkinCancer -- The abnormal growth of skin cells."
   ]
  },
  {
   "cell_type": "markdown",
   "id": "596325e2",
   "metadata": {},
   "source": [
    "### Check the no. of Rows and Columns"
   ]
  },
  {
   "cell_type": "code",
   "execution_count": 5,
   "id": "3393c15c",
   "metadata": {
    "scrolled": true
   },
   "outputs": [
    {
     "data": {
      "text/plain": [
       "(319795, 18)"
      ]
     },
     "execution_count": 5,
     "metadata": {},
     "output_type": "execute_result"
    }
   ],
   "source": [
    "df.shape"
   ]
  },
  {
   "cell_type": "markdown",
   "id": "7732fac4",
   "metadata": {},
   "source": [
    "### Observation :-\n",
    "* There are 18 Features in the Dataset.\n",
    "* 319795 Attributes are present the Dataset."
   ]
  },
  {
   "cell_type": "markdown",
   "id": "8c40ef00",
   "metadata": {},
   "source": [
    "### To print the first 5 records of the dataset"
   ]
  },
  {
   "cell_type": "code",
   "execution_count": 6,
   "id": "52b15cce",
   "metadata": {},
   "outputs": [
    {
     "data": {
      "text/html": [
       "<div>\n",
       "<style scoped>\n",
       "    .dataframe tbody tr th:only-of-type {\n",
       "        vertical-align: middle;\n",
       "    }\n",
       "\n",
       "    .dataframe tbody tr th {\n",
       "        vertical-align: top;\n",
       "    }\n",
       "\n",
       "    .dataframe thead th {\n",
       "        text-align: right;\n",
       "    }\n",
       "</style>\n",
       "<table border=\"1\" class=\"dataframe\">\n",
       "  <thead>\n",
       "    <tr style=\"text-align: right;\">\n",
       "      <th></th>\n",
       "      <th>HeartDisease</th>\n",
       "      <th>BMI</th>\n",
       "      <th>Smoking</th>\n",
       "      <th>AlcoholDrinking</th>\n",
       "      <th>Stroke</th>\n",
       "      <th>PhysicalHealth</th>\n",
       "      <th>MentalHealth</th>\n",
       "      <th>DiffWalking</th>\n",
       "      <th>Sex</th>\n",
       "      <th>AgeCategory</th>\n",
       "      <th>Race</th>\n",
       "      <th>Diabetic</th>\n",
       "      <th>PhysicalActivity</th>\n",
       "      <th>GenHealth</th>\n",
       "      <th>SleepTime</th>\n",
       "      <th>Asthma</th>\n",
       "      <th>KidneyDisease</th>\n",
       "      <th>SkinCancer</th>\n",
       "    </tr>\n",
       "  </thead>\n",
       "  <tbody>\n",
       "    <tr>\n",
       "      <th>0</th>\n",
       "      <td>No</td>\n",
       "      <td>16.60</td>\n",
       "      <td>Yes</td>\n",
       "      <td>No</td>\n",
       "      <td>No</td>\n",
       "      <td>3.0</td>\n",
       "      <td>30.0</td>\n",
       "      <td>No</td>\n",
       "      <td>Female</td>\n",
       "      <td>55-59</td>\n",
       "      <td>White</td>\n",
       "      <td>Yes</td>\n",
       "      <td>Yes</td>\n",
       "      <td>Very good</td>\n",
       "      <td>5.0</td>\n",
       "      <td>Yes</td>\n",
       "      <td>No</td>\n",
       "      <td>Yes</td>\n",
       "    </tr>\n",
       "    <tr>\n",
       "      <th>1</th>\n",
       "      <td>No</td>\n",
       "      <td>20.34</td>\n",
       "      <td>No</td>\n",
       "      <td>No</td>\n",
       "      <td>Yes</td>\n",
       "      <td>0.0</td>\n",
       "      <td>0.0</td>\n",
       "      <td>No</td>\n",
       "      <td>Female</td>\n",
       "      <td>80 or older</td>\n",
       "      <td>White</td>\n",
       "      <td>No</td>\n",
       "      <td>Yes</td>\n",
       "      <td>Very good</td>\n",
       "      <td>7.0</td>\n",
       "      <td>No</td>\n",
       "      <td>No</td>\n",
       "      <td>No</td>\n",
       "    </tr>\n",
       "    <tr>\n",
       "      <th>2</th>\n",
       "      <td>No</td>\n",
       "      <td>26.58</td>\n",
       "      <td>Yes</td>\n",
       "      <td>No</td>\n",
       "      <td>No</td>\n",
       "      <td>20.0</td>\n",
       "      <td>30.0</td>\n",
       "      <td>No</td>\n",
       "      <td>Male</td>\n",
       "      <td>65-69</td>\n",
       "      <td>White</td>\n",
       "      <td>Yes</td>\n",
       "      <td>Yes</td>\n",
       "      <td>Fair</td>\n",
       "      <td>8.0</td>\n",
       "      <td>Yes</td>\n",
       "      <td>No</td>\n",
       "      <td>No</td>\n",
       "    </tr>\n",
       "    <tr>\n",
       "      <th>3</th>\n",
       "      <td>No</td>\n",
       "      <td>24.21</td>\n",
       "      <td>No</td>\n",
       "      <td>No</td>\n",
       "      <td>No</td>\n",
       "      <td>0.0</td>\n",
       "      <td>0.0</td>\n",
       "      <td>No</td>\n",
       "      <td>Female</td>\n",
       "      <td>75-79</td>\n",
       "      <td>White</td>\n",
       "      <td>No</td>\n",
       "      <td>No</td>\n",
       "      <td>Good</td>\n",
       "      <td>6.0</td>\n",
       "      <td>No</td>\n",
       "      <td>No</td>\n",
       "      <td>Yes</td>\n",
       "    </tr>\n",
       "    <tr>\n",
       "      <th>4</th>\n",
       "      <td>No</td>\n",
       "      <td>23.71</td>\n",
       "      <td>No</td>\n",
       "      <td>No</td>\n",
       "      <td>No</td>\n",
       "      <td>28.0</td>\n",
       "      <td>0.0</td>\n",
       "      <td>Yes</td>\n",
       "      <td>Female</td>\n",
       "      <td>40-44</td>\n",
       "      <td>White</td>\n",
       "      <td>No</td>\n",
       "      <td>Yes</td>\n",
       "      <td>Very good</td>\n",
       "      <td>8.0</td>\n",
       "      <td>No</td>\n",
       "      <td>No</td>\n",
       "      <td>No</td>\n",
       "    </tr>\n",
       "  </tbody>\n",
       "</table>\n",
       "</div>"
      ],
      "text/plain": [
       "  HeartDisease    BMI Smoking AlcoholDrinking Stroke  PhysicalHealth  \\\n",
       "0           No  16.60     Yes              No     No             3.0   \n",
       "1           No  20.34      No              No    Yes             0.0   \n",
       "2           No  26.58     Yes              No     No            20.0   \n",
       "3           No  24.21      No              No     No             0.0   \n",
       "4           No  23.71      No              No     No            28.0   \n",
       "\n",
       "   MentalHealth DiffWalking     Sex  AgeCategory   Race Diabetic  \\\n",
       "0          30.0          No  Female        55-59  White      Yes   \n",
       "1           0.0          No  Female  80 or older  White       No   \n",
       "2          30.0          No    Male        65-69  White      Yes   \n",
       "3           0.0          No  Female        75-79  White       No   \n",
       "4           0.0         Yes  Female        40-44  White       No   \n",
       "\n",
       "  PhysicalActivity  GenHealth  SleepTime Asthma KidneyDisease SkinCancer  \n",
       "0              Yes  Very good        5.0    Yes            No        Yes  \n",
       "1              Yes  Very good        7.0     No            No         No  \n",
       "2              Yes       Fair        8.0    Yes            No         No  \n",
       "3               No       Good        6.0     No            No        Yes  \n",
       "4              Yes  Very good        8.0     No            No         No  "
      ]
     },
     "execution_count": 6,
     "metadata": {},
     "output_type": "execute_result"
    }
   ],
   "source": [
    "df.head()"
   ]
  },
  {
   "cell_type": "markdown",
   "id": "e1d71689",
   "metadata": {},
   "source": [
    "### To print last 5 records of the dataset"
   ]
  },
  {
   "cell_type": "code",
   "execution_count": 7,
   "id": "e49404c8",
   "metadata": {},
   "outputs": [
    {
     "data": {
      "text/html": [
       "<div>\n",
       "<style scoped>\n",
       "    .dataframe tbody tr th:only-of-type {\n",
       "        vertical-align: middle;\n",
       "    }\n",
       "\n",
       "    .dataframe tbody tr th {\n",
       "        vertical-align: top;\n",
       "    }\n",
       "\n",
       "    .dataframe thead th {\n",
       "        text-align: right;\n",
       "    }\n",
       "</style>\n",
       "<table border=\"1\" class=\"dataframe\">\n",
       "  <thead>\n",
       "    <tr style=\"text-align: right;\">\n",
       "      <th></th>\n",
       "      <th>HeartDisease</th>\n",
       "      <th>BMI</th>\n",
       "      <th>Smoking</th>\n",
       "      <th>AlcoholDrinking</th>\n",
       "      <th>Stroke</th>\n",
       "      <th>PhysicalHealth</th>\n",
       "      <th>MentalHealth</th>\n",
       "      <th>DiffWalking</th>\n",
       "      <th>Sex</th>\n",
       "      <th>AgeCategory</th>\n",
       "      <th>Race</th>\n",
       "      <th>Diabetic</th>\n",
       "      <th>PhysicalActivity</th>\n",
       "      <th>GenHealth</th>\n",
       "      <th>SleepTime</th>\n",
       "      <th>Asthma</th>\n",
       "      <th>KidneyDisease</th>\n",
       "      <th>SkinCancer</th>\n",
       "    </tr>\n",
       "  </thead>\n",
       "  <tbody>\n",
       "    <tr>\n",
       "      <th>319790</th>\n",
       "      <td>Yes</td>\n",
       "      <td>27.41</td>\n",
       "      <td>Yes</td>\n",
       "      <td>No</td>\n",
       "      <td>No</td>\n",
       "      <td>7.0</td>\n",
       "      <td>0.0</td>\n",
       "      <td>Yes</td>\n",
       "      <td>Male</td>\n",
       "      <td>60-64</td>\n",
       "      <td>Hispanic</td>\n",
       "      <td>Yes</td>\n",
       "      <td>No</td>\n",
       "      <td>Fair</td>\n",
       "      <td>6.0</td>\n",
       "      <td>Yes</td>\n",
       "      <td>No</td>\n",
       "      <td>No</td>\n",
       "    </tr>\n",
       "    <tr>\n",
       "      <th>319791</th>\n",
       "      <td>No</td>\n",
       "      <td>29.84</td>\n",
       "      <td>Yes</td>\n",
       "      <td>No</td>\n",
       "      <td>No</td>\n",
       "      <td>0.0</td>\n",
       "      <td>0.0</td>\n",
       "      <td>No</td>\n",
       "      <td>Male</td>\n",
       "      <td>35-39</td>\n",
       "      <td>Hispanic</td>\n",
       "      <td>No</td>\n",
       "      <td>Yes</td>\n",
       "      <td>Very good</td>\n",
       "      <td>5.0</td>\n",
       "      <td>Yes</td>\n",
       "      <td>No</td>\n",
       "      <td>No</td>\n",
       "    </tr>\n",
       "    <tr>\n",
       "      <th>319792</th>\n",
       "      <td>No</td>\n",
       "      <td>24.24</td>\n",
       "      <td>No</td>\n",
       "      <td>No</td>\n",
       "      <td>No</td>\n",
       "      <td>0.0</td>\n",
       "      <td>0.0</td>\n",
       "      <td>No</td>\n",
       "      <td>Female</td>\n",
       "      <td>45-49</td>\n",
       "      <td>Hispanic</td>\n",
       "      <td>No</td>\n",
       "      <td>Yes</td>\n",
       "      <td>Good</td>\n",
       "      <td>6.0</td>\n",
       "      <td>No</td>\n",
       "      <td>No</td>\n",
       "      <td>No</td>\n",
       "    </tr>\n",
       "    <tr>\n",
       "      <th>319793</th>\n",
       "      <td>No</td>\n",
       "      <td>32.81</td>\n",
       "      <td>No</td>\n",
       "      <td>No</td>\n",
       "      <td>No</td>\n",
       "      <td>0.0</td>\n",
       "      <td>0.0</td>\n",
       "      <td>No</td>\n",
       "      <td>Female</td>\n",
       "      <td>25-29</td>\n",
       "      <td>Hispanic</td>\n",
       "      <td>No</td>\n",
       "      <td>No</td>\n",
       "      <td>Good</td>\n",
       "      <td>12.0</td>\n",
       "      <td>No</td>\n",
       "      <td>No</td>\n",
       "      <td>No</td>\n",
       "    </tr>\n",
       "    <tr>\n",
       "      <th>319794</th>\n",
       "      <td>No</td>\n",
       "      <td>46.56</td>\n",
       "      <td>No</td>\n",
       "      <td>No</td>\n",
       "      <td>No</td>\n",
       "      <td>0.0</td>\n",
       "      <td>0.0</td>\n",
       "      <td>No</td>\n",
       "      <td>Female</td>\n",
       "      <td>80 or older</td>\n",
       "      <td>Hispanic</td>\n",
       "      <td>No</td>\n",
       "      <td>Yes</td>\n",
       "      <td>Good</td>\n",
       "      <td>8.0</td>\n",
       "      <td>No</td>\n",
       "      <td>No</td>\n",
       "      <td>No</td>\n",
       "    </tr>\n",
       "  </tbody>\n",
       "</table>\n",
       "</div>"
      ],
      "text/plain": [
       "       HeartDisease    BMI Smoking AlcoholDrinking Stroke  PhysicalHealth  \\\n",
       "319790          Yes  27.41     Yes              No     No             7.0   \n",
       "319791           No  29.84     Yes              No     No             0.0   \n",
       "319792           No  24.24      No              No     No             0.0   \n",
       "319793           No  32.81      No              No     No             0.0   \n",
       "319794           No  46.56      No              No     No             0.0   \n",
       "\n",
       "        MentalHealth DiffWalking     Sex  AgeCategory      Race Diabetic  \\\n",
       "319790           0.0         Yes    Male        60-64  Hispanic      Yes   \n",
       "319791           0.0          No    Male        35-39  Hispanic       No   \n",
       "319792           0.0          No  Female        45-49  Hispanic       No   \n",
       "319793           0.0          No  Female        25-29  Hispanic       No   \n",
       "319794           0.0          No  Female  80 or older  Hispanic       No   \n",
       "\n",
       "       PhysicalActivity  GenHealth  SleepTime Asthma KidneyDisease SkinCancer  \n",
       "319790               No       Fair        6.0    Yes            No         No  \n",
       "319791              Yes  Very good        5.0    Yes            No         No  \n",
       "319792              Yes       Good        6.0     No            No         No  \n",
       "319793               No       Good       12.0     No            No         No  \n",
       "319794              Yes       Good        8.0     No            No         No  "
      ]
     },
     "execution_count": 7,
     "metadata": {},
     "output_type": "execute_result"
    }
   ],
   "source": [
    "df.tail()"
   ]
  },
  {
   "cell_type": "markdown",
   "id": "0ee1df56",
   "metadata": {},
   "source": [
    "### Print Statistical information about the dataset"
   ]
  },
  {
   "cell_type": "code",
   "execution_count": 8,
   "id": "4f422b5b",
   "metadata": {
    "scrolled": true
   },
   "outputs": [
    {
     "data": {
      "text/html": [
       "<div>\n",
       "<style scoped>\n",
       "    .dataframe tbody tr th:only-of-type {\n",
       "        vertical-align: middle;\n",
       "    }\n",
       "\n",
       "    .dataframe tbody tr th {\n",
       "        vertical-align: top;\n",
       "    }\n",
       "\n",
       "    .dataframe thead th {\n",
       "        text-align: right;\n",
       "    }\n",
       "</style>\n",
       "<table border=\"1\" class=\"dataframe\">\n",
       "  <thead>\n",
       "    <tr style=\"text-align: right;\">\n",
       "      <th></th>\n",
       "      <th>BMI</th>\n",
       "      <th>PhysicalHealth</th>\n",
       "      <th>MentalHealth</th>\n",
       "      <th>SleepTime</th>\n",
       "    </tr>\n",
       "  </thead>\n",
       "  <tbody>\n",
       "    <tr>\n",
       "      <th>count</th>\n",
       "      <td>319795.000000</td>\n",
       "      <td>319795.00000</td>\n",
       "      <td>319795.000000</td>\n",
       "      <td>319795.000000</td>\n",
       "    </tr>\n",
       "    <tr>\n",
       "      <th>mean</th>\n",
       "      <td>28.325399</td>\n",
       "      <td>3.37171</td>\n",
       "      <td>3.898366</td>\n",
       "      <td>7.097075</td>\n",
       "    </tr>\n",
       "    <tr>\n",
       "      <th>std</th>\n",
       "      <td>6.356100</td>\n",
       "      <td>7.95085</td>\n",
       "      <td>7.955235</td>\n",
       "      <td>1.436007</td>\n",
       "    </tr>\n",
       "    <tr>\n",
       "      <th>min</th>\n",
       "      <td>12.020000</td>\n",
       "      <td>0.00000</td>\n",
       "      <td>0.000000</td>\n",
       "      <td>1.000000</td>\n",
       "    </tr>\n",
       "    <tr>\n",
       "      <th>25%</th>\n",
       "      <td>24.030000</td>\n",
       "      <td>0.00000</td>\n",
       "      <td>0.000000</td>\n",
       "      <td>6.000000</td>\n",
       "    </tr>\n",
       "    <tr>\n",
       "      <th>50%</th>\n",
       "      <td>27.340000</td>\n",
       "      <td>0.00000</td>\n",
       "      <td>0.000000</td>\n",
       "      <td>7.000000</td>\n",
       "    </tr>\n",
       "    <tr>\n",
       "      <th>75%</th>\n",
       "      <td>31.420000</td>\n",
       "      <td>2.00000</td>\n",
       "      <td>3.000000</td>\n",
       "      <td>8.000000</td>\n",
       "    </tr>\n",
       "    <tr>\n",
       "      <th>max</th>\n",
       "      <td>94.850000</td>\n",
       "      <td>30.00000</td>\n",
       "      <td>30.000000</td>\n",
       "      <td>24.000000</td>\n",
       "    </tr>\n",
       "  </tbody>\n",
       "</table>\n",
       "</div>"
      ],
      "text/plain": [
       "                 BMI  PhysicalHealth   MentalHealth      SleepTime\n",
       "count  319795.000000    319795.00000  319795.000000  319795.000000\n",
       "mean       28.325399         3.37171       3.898366       7.097075\n",
       "std         6.356100         7.95085       7.955235       1.436007\n",
       "min        12.020000         0.00000       0.000000       1.000000\n",
       "25%        24.030000         0.00000       0.000000       6.000000\n",
       "50%        27.340000         0.00000       0.000000       7.000000\n",
       "75%        31.420000         2.00000       3.000000       8.000000\n",
       "max        94.850000        30.00000      30.000000      24.000000"
      ]
     },
     "execution_count": 8,
     "metadata": {},
     "output_type": "execute_result"
    }
   ],
   "source": [
    "df.describe()"
   ]
  },
  {
   "cell_type": "markdown",
   "id": "97c446a1",
   "metadata": {},
   "source": [
    "#### From the above data we can conclude :-\n",
    "* The Average BMI of a person is 28.32 kg/m2.\n",
    "* The Average SleepTime of a person is 7 hours."
   ]
  },
  {
   "cell_type": "markdown",
   "id": "7a511c86",
   "metadata": {},
   "source": [
    "## Print the info of the Dataset"
   ]
  },
  {
   "cell_type": "code",
   "execution_count": 9,
   "id": "b7216544",
   "metadata": {
    "scrolled": true
   },
   "outputs": [
    {
     "name": "stdout",
     "output_type": "stream",
     "text": [
      "<class 'pandas.core.frame.DataFrame'>\n",
      "RangeIndex: 319795 entries, 0 to 319794\n",
      "Data columns (total 18 columns):\n",
      " #   Column            Non-Null Count   Dtype  \n",
      "---  ------            --------------   -----  \n",
      " 0   HeartDisease      319795 non-null  object \n",
      " 1   BMI               319795 non-null  float64\n",
      " 2   Smoking           319795 non-null  object \n",
      " 3   AlcoholDrinking   319795 non-null  object \n",
      " 4   Stroke            319795 non-null  object \n",
      " 5   PhysicalHealth    319795 non-null  float64\n",
      " 6   MentalHealth      319795 non-null  float64\n",
      " 7   DiffWalking       319795 non-null  object \n",
      " 8   Sex               319795 non-null  object \n",
      " 9   AgeCategory       319795 non-null  object \n",
      " 10  Race              319795 non-null  object \n",
      " 11  Diabetic          319795 non-null  object \n",
      " 12  PhysicalActivity  319795 non-null  object \n",
      " 13  GenHealth         319795 non-null  object \n",
      " 14  SleepTime         319795 non-null  float64\n",
      " 15  Asthma            319795 non-null  object \n",
      " 16  KidneyDisease     319795 non-null  object \n",
      " 17  SkinCancer        319795 non-null  object \n",
      "dtypes: float64(4), object(14)\n",
      "memory usage: 43.9+ MB\n"
     ]
    }
   ],
   "source": [
    "df.info()"
   ]
  },
  {
   "cell_type": "markdown",
   "id": "ff696179",
   "metadata": {},
   "source": [
    "### Observation :-\n",
    "* From the above output we can see the list of all the features present in the dataset and their Data Types.\n",
    "* Total of 18 features are present: \n",
    "    - Out of which 4 features are consist of 'float' data type.\n",
    "    - 14 features are consist of 'object' data type \n",
    "    - All the features are non-null.\n",
    "* Total memory used is 43.9MB."
   ]
  },
  {
   "cell_type": "markdown",
   "id": "8752902c",
   "metadata": {},
   "source": [
    "### To check is there any null values present in the dataset"
   ]
  },
  {
   "cell_type": "code",
   "execution_count": 10,
   "id": "97166176",
   "metadata": {
    "scrolled": true
   },
   "outputs": [
    {
     "data": {
      "text/plain": [
       "HeartDisease        0\n",
       "BMI                 0\n",
       "Smoking             0\n",
       "AlcoholDrinking     0\n",
       "Stroke              0\n",
       "PhysicalHealth      0\n",
       "MentalHealth        0\n",
       "DiffWalking         0\n",
       "Sex                 0\n",
       "AgeCategory         0\n",
       "Race                0\n",
       "Diabetic            0\n",
       "PhysicalActivity    0\n",
       "GenHealth           0\n",
       "SleepTime           0\n",
       "Asthma              0\n",
       "KidneyDisease       0\n",
       "SkinCancer          0\n",
       "dtype: int64"
      ]
     },
     "execution_count": 10,
     "metadata": {},
     "output_type": "execute_result"
    }
   ],
   "source": [
    "df.isnull().sum()  # printing the sum of null values present in each feature."
   ]
  },
  {
   "cell_type": "markdown",
   "id": "daa1e029",
   "metadata": {},
   "source": [
    "### Observation :-\n",
    "* There are no null values present in the dataset."
   ]
  },
  {
   "cell_type": "markdown",
   "id": "e213d1c0",
   "metadata": {},
   "source": [
    "## Sorting Data"
   ]
  },
  {
   "cell_type": "code",
   "execution_count": 11,
   "id": "65c9e813",
   "metadata": {},
   "outputs": [
    {
     "data": {
      "text/html": [
       "<div>\n",
       "<style scoped>\n",
       "    .dataframe tbody tr th:only-of-type {\n",
       "        vertical-align: middle;\n",
       "    }\n",
       "\n",
       "    .dataframe tbody tr th {\n",
       "        vertical-align: top;\n",
       "    }\n",
       "\n",
       "    .dataframe thead th {\n",
       "        text-align: right;\n",
       "    }\n",
       "</style>\n",
       "<table border=\"1\" class=\"dataframe\">\n",
       "  <thead>\n",
       "    <tr style=\"text-align: right;\">\n",
       "      <th></th>\n",
       "      <th>HeartDisease</th>\n",
       "      <th>BMI</th>\n",
       "      <th>Smoking</th>\n",
       "      <th>AlcoholDrinking</th>\n",
       "      <th>Stroke</th>\n",
       "      <th>PhysicalHealth</th>\n",
       "      <th>MentalHealth</th>\n",
       "      <th>DiffWalking</th>\n",
       "      <th>Sex</th>\n",
       "      <th>AgeCategory</th>\n",
       "      <th>Race</th>\n",
       "      <th>Diabetic</th>\n",
       "      <th>PhysicalActivity</th>\n",
       "      <th>GenHealth</th>\n",
       "      <th>SleepTime</th>\n",
       "      <th>Asthma</th>\n",
       "      <th>KidneyDisease</th>\n",
       "      <th>SkinCancer</th>\n",
       "    </tr>\n",
       "  </thead>\n",
       "  <tbody>\n",
       "    <tr>\n",
       "      <th>319794</th>\n",
       "      <td>No</td>\n",
       "      <td>46.56</td>\n",
       "      <td>No</td>\n",
       "      <td>No</td>\n",
       "      <td>No</td>\n",
       "      <td>0.0</td>\n",
       "      <td>0.0</td>\n",
       "      <td>No</td>\n",
       "      <td>Female</td>\n",
       "      <td>80 or older</td>\n",
       "      <td>Hispanic</td>\n",
       "      <td>No</td>\n",
       "      <td>Yes</td>\n",
       "      <td>Good</td>\n",
       "      <td>8.0</td>\n",
       "      <td>No</td>\n",
       "      <td>No</td>\n",
       "      <td>No</td>\n",
       "    </tr>\n",
       "    <tr>\n",
       "      <th>245603</th>\n",
       "      <td>Yes</td>\n",
       "      <td>26.04</td>\n",
       "      <td>Yes</td>\n",
       "      <td>Yes</td>\n",
       "      <td>No</td>\n",
       "      <td>0.0</td>\n",
       "      <td>0.0</td>\n",
       "      <td>Yes</td>\n",
       "      <td>Female</td>\n",
       "      <td>80 or older</td>\n",
       "      <td>White</td>\n",
       "      <td>No</td>\n",
       "      <td>No</td>\n",
       "      <td>Very good</td>\n",
       "      <td>7.0</td>\n",
       "      <td>No</td>\n",
       "      <td>No</td>\n",
       "      <td>No</td>\n",
       "    </tr>\n",
       "    <tr>\n",
       "      <th>72923</th>\n",
       "      <td>No</td>\n",
       "      <td>29.15</td>\n",
       "      <td>No</td>\n",
       "      <td>No</td>\n",
       "      <td>No</td>\n",
       "      <td>1.0</td>\n",
       "      <td>0.0</td>\n",
       "      <td>Yes</td>\n",
       "      <td>Male</td>\n",
       "      <td>80 or older</td>\n",
       "      <td>Black</td>\n",
       "      <td>Yes</td>\n",
       "      <td>Yes</td>\n",
       "      <td>Fair</td>\n",
       "      <td>8.0</td>\n",
       "      <td>No</td>\n",
       "      <td>No</td>\n",
       "      <td>No</td>\n",
       "    </tr>\n",
       "    <tr>\n",
       "      <th>72926</th>\n",
       "      <td>No</td>\n",
       "      <td>29.76</td>\n",
       "      <td>No</td>\n",
       "      <td>No</td>\n",
       "      <td>No</td>\n",
       "      <td>0.0</td>\n",
       "      <td>0.0</td>\n",
       "      <td>No</td>\n",
       "      <td>Female</td>\n",
       "      <td>80 or older</td>\n",
       "      <td>Black</td>\n",
       "      <td>No</td>\n",
       "      <td>Yes</td>\n",
       "      <td>Good</td>\n",
       "      <td>6.0</td>\n",
       "      <td>No</td>\n",
       "      <td>No</td>\n",
       "      <td>No</td>\n",
       "    </tr>\n",
       "    <tr>\n",
       "      <th>182773</th>\n",
       "      <td>No</td>\n",
       "      <td>23.92</td>\n",
       "      <td>No</td>\n",
       "      <td>No</td>\n",
       "      <td>No</td>\n",
       "      <td>0.0</td>\n",
       "      <td>0.0</td>\n",
       "      <td>No</td>\n",
       "      <td>Male</td>\n",
       "      <td>80 or older</td>\n",
       "      <td>White</td>\n",
       "      <td>No</td>\n",
       "      <td>Yes</td>\n",
       "      <td>Excellent</td>\n",
       "      <td>7.0</td>\n",
       "      <td>No</td>\n",
       "      <td>No</td>\n",
       "      <td>No</td>\n",
       "    </tr>\n",
       "    <tr>\n",
       "      <th>105535</th>\n",
       "      <td>Yes</td>\n",
       "      <td>35.87</td>\n",
       "      <td>No</td>\n",
       "      <td>No</td>\n",
       "      <td>Yes</td>\n",
       "      <td>1.0</td>\n",
       "      <td>0.0</td>\n",
       "      <td>Yes</td>\n",
       "      <td>Male</td>\n",
       "      <td>80 or older</td>\n",
       "      <td>White</td>\n",
       "      <td>No</td>\n",
       "      <td>Yes</td>\n",
       "      <td>Fair</td>\n",
       "      <td>7.0</td>\n",
       "      <td>No</td>\n",
       "      <td>No</td>\n",
       "      <td>Yes</td>\n",
       "    </tr>\n",
       "    <tr>\n",
       "      <th>182768</th>\n",
       "      <td>No</td>\n",
       "      <td>25.83</td>\n",
       "      <td>No</td>\n",
       "      <td>No</td>\n",
       "      <td>Yes</td>\n",
       "      <td>0.0</td>\n",
       "      <td>2.0</td>\n",
       "      <td>No</td>\n",
       "      <td>Male</td>\n",
       "      <td>80 or older</td>\n",
       "      <td>White</td>\n",
       "      <td>No</td>\n",
       "      <td>Yes</td>\n",
       "      <td>Very good</td>\n",
       "      <td>10.0</td>\n",
       "      <td>No</td>\n",
       "      <td>No</td>\n",
       "      <td>No</td>\n",
       "    </tr>\n",
       "    <tr>\n",
       "      <th>136802</th>\n",
       "      <td>Yes</td>\n",
       "      <td>23.24</td>\n",
       "      <td>No</td>\n",
       "      <td>No</td>\n",
       "      <td>No</td>\n",
       "      <td>0.0</td>\n",
       "      <td>0.0</td>\n",
       "      <td>No</td>\n",
       "      <td>Female</td>\n",
       "      <td>80 or older</td>\n",
       "      <td>White</td>\n",
       "      <td>No</td>\n",
       "      <td>Yes</td>\n",
       "      <td>Good</td>\n",
       "      <td>8.0</td>\n",
       "      <td>No</td>\n",
       "      <td>No</td>\n",
       "      <td>No</td>\n",
       "    </tr>\n",
       "    <tr>\n",
       "      <th>290030</th>\n",
       "      <td>No</td>\n",
       "      <td>34.13</td>\n",
       "      <td>Yes</td>\n",
       "      <td>No</td>\n",
       "      <td>Yes</td>\n",
       "      <td>0.0</td>\n",
       "      <td>1.0</td>\n",
       "      <td>Yes</td>\n",
       "      <td>Female</td>\n",
       "      <td>80 or older</td>\n",
       "      <td>White</td>\n",
       "      <td>No</td>\n",
       "      <td>Yes</td>\n",
       "      <td>Good</td>\n",
       "      <td>8.0</td>\n",
       "      <td>No</td>\n",
       "      <td>Yes</td>\n",
       "      <td>No</td>\n",
       "    </tr>\n",
       "    <tr>\n",
       "      <th>30428</th>\n",
       "      <td>No</td>\n",
       "      <td>25.37</td>\n",
       "      <td>No</td>\n",
       "      <td>No</td>\n",
       "      <td>No</td>\n",
       "      <td>0.0</td>\n",
       "      <td>0.0</td>\n",
       "      <td>No</td>\n",
       "      <td>Male</td>\n",
       "      <td>80 or older</td>\n",
       "      <td>White</td>\n",
       "      <td>No</td>\n",
       "      <td>Yes</td>\n",
       "      <td>Good</td>\n",
       "      <td>7.0</td>\n",
       "      <td>No</td>\n",
       "      <td>No</td>\n",
       "      <td>No</td>\n",
       "    </tr>\n",
       "  </tbody>\n",
       "</table>\n",
       "</div>"
      ],
      "text/plain": [
       "       HeartDisease    BMI Smoking AlcoholDrinking Stroke  PhysicalHealth  \\\n",
       "319794           No  46.56      No              No     No             0.0   \n",
       "245603          Yes  26.04     Yes             Yes     No             0.0   \n",
       "72923            No  29.15      No              No     No             1.0   \n",
       "72926            No  29.76      No              No     No             0.0   \n",
       "182773           No  23.92      No              No     No             0.0   \n",
       "105535          Yes  35.87      No              No    Yes             1.0   \n",
       "182768           No  25.83      No              No    Yes             0.0   \n",
       "136802          Yes  23.24      No              No     No             0.0   \n",
       "290030           No  34.13     Yes              No    Yes             0.0   \n",
       "30428            No  25.37      No              No     No             0.0   \n",
       "\n",
       "        MentalHealth DiffWalking     Sex  AgeCategory      Race Diabetic  \\\n",
       "319794           0.0          No  Female  80 or older  Hispanic       No   \n",
       "245603           0.0         Yes  Female  80 or older     White       No   \n",
       "72923            0.0         Yes    Male  80 or older     Black      Yes   \n",
       "72926            0.0          No  Female  80 or older     Black       No   \n",
       "182773           0.0          No    Male  80 or older     White       No   \n",
       "105535           0.0         Yes    Male  80 or older     White       No   \n",
       "182768           2.0          No    Male  80 or older     White       No   \n",
       "136802           0.0          No  Female  80 or older     White       No   \n",
       "290030           1.0         Yes  Female  80 or older     White       No   \n",
       "30428            0.0          No    Male  80 or older     White       No   \n",
       "\n",
       "       PhysicalActivity  GenHealth  SleepTime Asthma KidneyDisease SkinCancer  \n",
       "319794              Yes       Good        8.0     No            No         No  \n",
       "245603               No  Very good        7.0     No            No         No  \n",
       "72923               Yes       Fair        8.0     No            No         No  \n",
       "72926               Yes       Good        6.0     No            No         No  \n",
       "182773              Yes  Excellent        7.0     No            No         No  \n",
       "105535              Yes       Fair        7.0     No            No        Yes  \n",
       "182768              Yes  Very good       10.0     No            No         No  \n",
       "136802              Yes       Good        8.0     No            No         No  \n",
       "290030              Yes       Good        8.0     No           Yes         No  \n",
       "30428               Yes       Good        7.0     No            No         No  "
      ]
     },
     "execution_count": 11,
     "metadata": {},
     "output_type": "execute_result"
    }
   ],
   "source": [
    "df.sort_values(['AgeCategory'],ascending=False).head(10)  # Sorting the values on the basis of AgeCategory in Descending order."
   ]
  },
  {
   "cell_type": "markdown",
   "id": "7d592b8f",
   "metadata": {},
   "source": [
    "### Observation :-\n",
    "* By sorting the values as AgeCategory, we can see that out of 10 observation 3 records have the chances of having a HeartDisease whose are in 80 or older."
   ]
  },
  {
   "cell_type": "code",
   "execution_count": 12,
   "id": "8401c56f",
   "metadata": {},
   "outputs": [
    {
     "data": {
      "text/html": [
       "<div>\n",
       "<style scoped>\n",
       "    .dataframe tbody tr th:only-of-type {\n",
       "        vertical-align: middle;\n",
       "    }\n",
       "\n",
       "    .dataframe tbody tr th {\n",
       "        vertical-align: top;\n",
       "    }\n",
       "\n",
       "    .dataframe thead th {\n",
       "        text-align: right;\n",
       "    }\n",
       "</style>\n",
       "<table border=\"1\" class=\"dataframe\">\n",
       "  <thead>\n",
       "    <tr style=\"text-align: right;\">\n",
       "      <th></th>\n",
       "      <th>HeartDisease</th>\n",
       "      <th>BMI</th>\n",
       "      <th>Smoking</th>\n",
       "      <th>AlcoholDrinking</th>\n",
       "      <th>Stroke</th>\n",
       "      <th>PhysicalHealth</th>\n",
       "      <th>MentalHealth</th>\n",
       "      <th>DiffWalking</th>\n",
       "      <th>Sex</th>\n",
       "      <th>AgeCategory</th>\n",
       "      <th>Race</th>\n",
       "      <th>Diabetic</th>\n",
       "      <th>PhysicalActivity</th>\n",
       "      <th>GenHealth</th>\n",
       "      <th>SleepTime</th>\n",
       "      <th>Asthma</th>\n",
       "      <th>KidneyDisease</th>\n",
       "      <th>SkinCancer</th>\n",
       "    </tr>\n",
       "  </thead>\n",
       "  <tbody>\n",
       "    <tr>\n",
       "      <th>289336</th>\n",
       "      <td>No</td>\n",
       "      <td>21.83</td>\n",
       "      <td>No</td>\n",
       "      <td>No</td>\n",
       "      <td>No</td>\n",
       "      <td>20.0</td>\n",
       "      <td>8.0</td>\n",
       "      <td>No</td>\n",
       "      <td>Male</td>\n",
       "      <td>18-24</td>\n",
       "      <td>Other</td>\n",
       "      <td>No</td>\n",
       "      <td>Yes</td>\n",
       "      <td>Excellent</td>\n",
       "      <td>8.0</td>\n",
       "      <td>No</td>\n",
       "      <td>No</td>\n",
       "      <td>No</td>\n",
       "    </tr>\n",
       "    <tr>\n",
       "      <th>92977</th>\n",
       "      <td>No</td>\n",
       "      <td>21.14</td>\n",
       "      <td>No</td>\n",
       "      <td>No</td>\n",
       "      <td>No</td>\n",
       "      <td>0.0</td>\n",
       "      <td>0.0</td>\n",
       "      <td>No</td>\n",
       "      <td>Female</td>\n",
       "      <td>18-24</td>\n",
       "      <td>White</td>\n",
       "      <td>No</td>\n",
       "      <td>Yes</td>\n",
       "      <td>Excellent</td>\n",
       "      <td>9.0</td>\n",
       "      <td>No</td>\n",
       "      <td>No</td>\n",
       "      <td>No</td>\n",
       "    </tr>\n",
       "    <tr>\n",
       "      <th>228704</th>\n",
       "      <td>No</td>\n",
       "      <td>20.81</td>\n",
       "      <td>No</td>\n",
       "      <td>No</td>\n",
       "      <td>No</td>\n",
       "      <td>0.0</td>\n",
       "      <td>10.0</td>\n",
       "      <td>No</td>\n",
       "      <td>Female</td>\n",
       "      <td>18-24</td>\n",
       "      <td>White</td>\n",
       "      <td>No</td>\n",
       "      <td>Yes</td>\n",
       "      <td>Excellent</td>\n",
       "      <td>7.0</td>\n",
       "      <td>Yes</td>\n",
       "      <td>No</td>\n",
       "      <td>No</td>\n",
       "    </tr>\n",
       "    <tr>\n",
       "      <th>49749</th>\n",
       "      <td>No</td>\n",
       "      <td>20.84</td>\n",
       "      <td>Yes</td>\n",
       "      <td>No</td>\n",
       "      <td>No</td>\n",
       "      <td>0.0</td>\n",
       "      <td>3.0</td>\n",
       "      <td>No</td>\n",
       "      <td>Male</td>\n",
       "      <td>18-24</td>\n",
       "      <td>Asian</td>\n",
       "      <td>No</td>\n",
       "      <td>No</td>\n",
       "      <td>Good</td>\n",
       "      <td>10.0</td>\n",
       "      <td>No</td>\n",
       "      <td>No</td>\n",
       "      <td>No</td>\n",
       "    </tr>\n",
       "    <tr>\n",
       "      <th>49753</th>\n",
       "      <td>No</td>\n",
       "      <td>24.33</td>\n",
       "      <td>No</td>\n",
       "      <td>No</td>\n",
       "      <td>No</td>\n",
       "      <td>0.0</td>\n",
       "      <td>0.0</td>\n",
       "      <td>No</td>\n",
       "      <td>Male</td>\n",
       "      <td>18-24</td>\n",
       "      <td>Hispanic</td>\n",
       "      <td>No</td>\n",
       "      <td>Yes</td>\n",
       "      <td>Excellent</td>\n",
       "      <td>7.0</td>\n",
       "      <td>No</td>\n",
       "      <td>No</td>\n",
       "      <td>No</td>\n",
       "    </tr>\n",
       "    <tr>\n",
       "      <th>179239</th>\n",
       "      <td>No</td>\n",
       "      <td>26.50</td>\n",
       "      <td>No</td>\n",
       "      <td>No</td>\n",
       "      <td>No</td>\n",
       "      <td>3.0</td>\n",
       "      <td>4.0</td>\n",
       "      <td>No</td>\n",
       "      <td>Male</td>\n",
       "      <td>18-24</td>\n",
       "      <td>White</td>\n",
       "      <td>No</td>\n",
       "      <td>Yes</td>\n",
       "      <td>Good</td>\n",
       "      <td>6.0</td>\n",
       "      <td>No</td>\n",
       "      <td>No</td>\n",
       "      <td>No</td>\n",
       "    </tr>\n",
       "    <tr>\n",
       "      <th>228710</th>\n",
       "      <td>No</td>\n",
       "      <td>21.26</td>\n",
       "      <td>No</td>\n",
       "      <td>No</td>\n",
       "      <td>No</td>\n",
       "      <td>7.0</td>\n",
       "      <td>0.0</td>\n",
       "      <td>No</td>\n",
       "      <td>Female</td>\n",
       "      <td>18-24</td>\n",
       "      <td>White</td>\n",
       "      <td>No</td>\n",
       "      <td>Yes</td>\n",
       "      <td>Very good</td>\n",
       "      <td>5.0</td>\n",
       "      <td>No</td>\n",
       "      <td>Yes</td>\n",
       "      <td>No</td>\n",
       "    </tr>\n",
       "    <tr>\n",
       "      <th>92959</th>\n",
       "      <td>No</td>\n",
       "      <td>25.39</td>\n",
       "      <td>No</td>\n",
       "      <td>No</td>\n",
       "      <td>No</td>\n",
       "      <td>0.0</td>\n",
       "      <td>3.0</td>\n",
       "      <td>No</td>\n",
       "      <td>Female</td>\n",
       "      <td>18-24</td>\n",
       "      <td>Hispanic</td>\n",
       "      <td>No</td>\n",
       "      <td>Yes</td>\n",
       "      <td>Very good</td>\n",
       "      <td>7.0</td>\n",
       "      <td>Yes</td>\n",
       "      <td>No</td>\n",
       "      <td>No</td>\n",
       "    </tr>\n",
       "    <tr>\n",
       "      <th>140524</th>\n",
       "      <td>No</td>\n",
       "      <td>23.75</td>\n",
       "      <td>No</td>\n",
       "      <td>No</td>\n",
       "      <td>No</td>\n",
       "      <td>0.0</td>\n",
       "      <td>0.0</td>\n",
       "      <td>No</td>\n",
       "      <td>Male</td>\n",
       "      <td>18-24</td>\n",
       "      <td>White</td>\n",
       "      <td>No</td>\n",
       "      <td>Yes</td>\n",
       "      <td>Very good</td>\n",
       "      <td>8.0</td>\n",
       "      <td>No</td>\n",
       "      <td>No</td>\n",
       "      <td>No</td>\n",
       "    </tr>\n",
       "    <tr>\n",
       "      <th>304849</th>\n",
       "      <td>No</td>\n",
       "      <td>26.39</td>\n",
       "      <td>No</td>\n",
       "      <td>No</td>\n",
       "      <td>No</td>\n",
       "      <td>0.0</td>\n",
       "      <td>0.0</td>\n",
       "      <td>No</td>\n",
       "      <td>Male</td>\n",
       "      <td>18-24</td>\n",
       "      <td>White</td>\n",
       "      <td>No</td>\n",
       "      <td>Yes</td>\n",
       "      <td>Very good</td>\n",
       "      <td>8.0</td>\n",
       "      <td>No</td>\n",
       "      <td>No</td>\n",
       "      <td>No</td>\n",
       "    </tr>\n",
       "  </tbody>\n",
       "</table>\n",
       "</div>"
      ],
      "text/plain": [
       "       HeartDisease    BMI Smoking AlcoholDrinking Stroke  PhysicalHealth  \\\n",
       "289336           No  21.83      No              No     No            20.0   \n",
       "92977            No  21.14      No              No     No             0.0   \n",
       "228704           No  20.81      No              No     No             0.0   \n",
       "49749            No  20.84     Yes              No     No             0.0   \n",
       "49753            No  24.33      No              No     No             0.0   \n",
       "179239           No  26.50      No              No     No             3.0   \n",
       "228710           No  21.26      No              No     No             7.0   \n",
       "92959            No  25.39      No              No     No             0.0   \n",
       "140524           No  23.75      No              No     No             0.0   \n",
       "304849           No  26.39      No              No     No             0.0   \n",
       "\n",
       "        MentalHealth DiffWalking     Sex AgeCategory      Race Diabetic  \\\n",
       "289336           8.0          No    Male       18-24     Other       No   \n",
       "92977            0.0          No  Female       18-24     White       No   \n",
       "228704          10.0          No  Female       18-24     White       No   \n",
       "49749            3.0          No    Male       18-24     Asian       No   \n",
       "49753            0.0          No    Male       18-24  Hispanic       No   \n",
       "179239           4.0          No    Male       18-24     White       No   \n",
       "228710           0.0          No  Female       18-24     White       No   \n",
       "92959            3.0          No  Female       18-24  Hispanic       No   \n",
       "140524           0.0          No    Male       18-24     White       No   \n",
       "304849           0.0          No    Male       18-24     White       No   \n",
       "\n",
       "       PhysicalActivity  GenHealth  SleepTime Asthma KidneyDisease SkinCancer  \n",
       "289336              Yes  Excellent        8.0     No            No         No  \n",
       "92977               Yes  Excellent        9.0     No            No         No  \n",
       "228704              Yes  Excellent        7.0    Yes            No         No  \n",
       "49749                No       Good       10.0     No            No         No  \n",
       "49753               Yes  Excellent        7.0     No            No         No  \n",
       "179239              Yes       Good        6.0     No            No         No  \n",
       "228710              Yes  Very good        5.0     No           Yes         No  \n",
       "92959               Yes  Very good        7.0    Yes            No         No  \n",
       "140524              Yes  Very good        8.0     No            No         No  \n",
       "304849              Yes  Very good        8.0     No            No         No  "
      ]
     },
     "execution_count": 12,
     "metadata": {},
     "output_type": "execute_result"
    }
   ],
   "source": [
    "df.sort_values(['AgeCategory']).head(10)  # Sorting the values on the basis of AgeCategory in Ascending order."
   ]
  },
  {
   "cell_type": "markdown",
   "id": "1537db5a",
   "metadata": {},
   "source": [
    "### Observation :-\n",
    "* By sorting the values as AgeCategory, we can see that out of 10 observation no records have the chances of having a HeartDisease whose are in between 18-24.\n",
    "* So we can say that as the age increase a person may have more chances of having a HeartDisease."
   ]
  },
  {
   "cell_type": "code",
   "execution_count": 13,
   "id": "da972abd",
   "metadata": {},
   "outputs": [
    {
     "data": {
      "text/html": [
       "<div>\n",
       "<style scoped>\n",
       "    .dataframe tbody tr th:only-of-type {\n",
       "        vertical-align: middle;\n",
       "    }\n",
       "\n",
       "    .dataframe tbody tr th {\n",
       "        vertical-align: top;\n",
       "    }\n",
       "\n",
       "    .dataframe thead th {\n",
       "        text-align: right;\n",
       "    }\n",
       "</style>\n",
       "<table border=\"1\" class=\"dataframe\">\n",
       "  <thead>\n",
       "    <tr style=\"text-align: right;\">\n",
       "      <th></th>\n",
       "      <th>HeartDisease</th>\n",
       "      <th>BMI</th>\n",
       "      <th>Smoking</th>\n",
       "      <th>AlcoholDrinking</th>\n",
       "      <th>Stroke</th>\n",
       "      <th>PhysicalHealth</th>\n",
       "      <th>MentalHealth</th>\n",
       "      <th>DiffWalking</th>\n",
       "      <th>Sex</th>\n",
       "      <th>AgeCategory</th>\n",
       "      <th>Race</th>\n",
       "      <th>Diabetic</th>\n",
       "      <th>PhysicalActivity</th>\n",
       "      <th>GenHealth</th>\n",
       "      <th>SleepTime</th>\n",
       "      <th>Asthma</th>\n",
       "      <th>KidneyDisease</th>\n",
       "      <th>SkinCancer</th>\n",
       "    </tr>\n",
       "  </thead>\n",
       "  <tbody>\n",
       "    <tr>\n",
       "      <th>126896</th>\n",
       "      <td>No</td>\n",
       "      <td>94.85</td>\n",
       "      <td>No</td>\n",
       "      <td>No</td>\n",
       "      <td>No</td>\n",
       "      <td>0.0</td>\n",
       "      <td>0.0</td>\n",
       "      <td>No</td>\n",
       "      <td>Male</td>\n",
       "      <td>35-39</td>\n",
       "      <td>White</td>\n",
       "      <td>No</td>\n",
       "      <td>Yes</td>\n",
       "      <td>Excellent</td>\n",
       "      <td>7.0</td>\n",
       "      <td>No</td>\n",
       "      <td>No</td>\n",
       "      <td>No</td>\n",
       "    </tr>\n",
       "    <tr>\n",
       "      <th>242834</th>\n",
       "      <td>No</td>\n",
       "      <td>94.66</td>\n",
       "      <td>No</td>\n",
       "      <td>No</td>\n",
       "      <td>No</td>\n",
       "      <td>4.0</td>\n",
       "      <td>0.0</td>\n",
       "      <td>No</td>\n",
       "      <td>Female</td>\n",
       "      <td>50-54</td>\n",
       "      <td>White</td>\n",
       "      <td>No</td>\n",
       "      <td>No</td>\n",
       "      <td>Very good</td>\n",
       "      <td>6.0</td>\n",
       "      <td>No</td>\n",
       "      <td>No</td>\n",
       "      <td>No</td>\n",
       "    </tr>\n",
       "    <tr>\n",
       "      <th>104267</th>\n",
       "      <td>No</td>\n",
       "      <td>93.97</td>\n",
       "      <td>Yes</td>\n",
       "      <td>No</td>\n",
       "      <td>No</td>\n",
       "      <td>20.0</td>\n",
       "      <td>25.0</td>\n",
       "      <td>Yes</td>\n",
       "      <td>Female</td>\n",
       "      <td>50-54</td>\n",
       "      <td>White</td>\n",
       "      <td>No</td>\n",
       "      <td>No</td>\n",
       "      <td>Poor</td>\n",
       "      <td>6.0</td>\n",
       "      <td>No</td>\n",
       "      <td>No</td>\n",
       "      <td>No</td>\n",
       "    </tr>\n",
       "    <tr>\n",
       "      <th>249715</th>\n",
       "      <td>No</td>\n",
       "      <td>93.86</td>\n",
       "      <td>Yes</td>\n",
       "      <td>Yes</td>\n",
       "      <td>No</td>\n",
       "      <td>30.0</td>\n",
       "      <td>30.0</td>\n",
       "      <td>Yes</td>\n",
       "      <td>Female</td>\n",
       "      <td>65-69</td>\n",
       "      <td>Other</td>\n",
       "      <td>Yes</td>\n",
       "      <td>No</td>\n",
       "      <td>Poor</td>\n",
       "      <td>4.0</td>\n",
       "      <td>Yes</td>\n",
       "      <td>Yes</td>\n",
       "      <td>No</td>\n",
       "    </tr>\n",
       "    <tr>\n",
       "      <th>156093</th>\n",
       "      <td>No</td>\n",
       "      <td>92.53</td>\n",
       "      <td>Yes</td>\n",
       "      <td>No</td>\n",
       "      <td>No</td>\n",
       "      <td>7.0</td>\n",
       "      <td>0.0</td>\n",
       "      <td>Yes</td>\n",
       "      <td>Female</td>\n",
       "      <td>65-69</td>\n",
       "      <td>Black</td>\n",
       "      <td>Yes</td>\n",
       "      <td>Yes</td>\n",
       "      <td>Poor</td>\n",
       "      <td>8.0</td>\n",
       "      <td>Yes</td>\n",
       "      <td>No</td>\n",
       "      <td>No</td>\n",
       "    </tr>\n",
       "    <tr>\n",
       "      <th>126661</th>\n",
       "      <td>No</td>\n",
       "      <td>91.82</td>\n",
       "      <td>No</td>\n",
       "      <td>No</td>\n",
       "      <td>No</td>\n",
       "      <td>0.0</td>\n",
       "      <td>2.0</td>\n",
       "      <td>No</td>\n",
       "      <td>Female</td>\n",
       "      <td>65-69</td>\n",
       "      <td>Black</td>\n",
       "      <td>No</td>\n",
       "      <td>Yes</td>\n",
       "      <td>Very good</td>\n",
       "      <td>5.0</td>\n",
       "      <td>No</td>\n",
       "      <td>No</td>\n",
       "      <td>No</td>\n",
       "    </tr>\n",
       "    <tr>\n",
       "      <th>114087</th>\n",
       "      <td>No</td>\n",
       "      <td>91.55</td>\n",
       "      <td>No</td>\n",
       "      <td>No</td>\n",
       "      <td>No</td>\n",
       "      <td>0.0</td>\n",
       "      <td>10.0</td>\n",
       "      <td>Yes</td>\n",
       "      <td>Female</td>\n",
       "      <td>55-59</td>\n",
       "      <td>Other</td>\n",
       "      <td>No</td>\n",
       "      <td>No</td>\n",
       "      <td>Excellent</td>\n",
       "      <td>2.0</td>\n",
       "      <td>No</td>\n",
       "      <td>No</td>\n",
       "      <td>No</td>\n",
       "    </tr>\n",
       "    <tr>\n",
       "      <th>105476</th>\n",
       "      <td>No</td>\n",
       "      <td>91.55</td>\n",
       "      <td>Yes</td>\n",
       "      <td>No</td>\n",
       "      <td>No</td>\n",
       "      <td>0.0</td>\n",
       "      <td>0.0</td>\n",
       "      <td>No</td>\n",
       "      <td>Male</td>\n",
       "      <td>40-44</td>\n",
       "      <td>Other</td>\n",
       "      <td>No</td>\n",
       "      <td>Yes</td>\n",
       "      <td>Excellent</td>\n",
       "      <td>5.0</td>\n",
       "      <td>No</td>\n",
       "      <td>No</td>\n",
       "      <td>No</td>\n",
       "    </tr>\n",
       "    <tr>\n",
       "      <th>229007</th>\n",
       "      <td>No</td>\n",
       "      <td>88.60</td>\n",
       "      <td>No</td>\n",
       "      <td>No</td>\n",
       "      <td>No</td>\n",
       "      <td>30.0</td>\n",
       "      <td>0.0</td>\n",
       "      <td>Yes</td>\n",
       "      <td>Male</td>\n",
       "      <td>55-59</td>\n",
       "      <td>White</td>\n",
       "      <td>No</td>\n",
       "      <td>Yes</td>\n",
       "      <td>Fair</td>\n",
       "      <td>5.0</td>\n",
       "      <td>No</td>\n",
       "      <td>No</td>\n",
       "      <td>No</td>\n",
       "    </tr>\n",
       "    <tr>\n",
       "      <th>290183</th>\n",
       "      <td>No</td>\n",
       "      <td>88.19</td>\n",
       "      <td>No</td>\n",
       "      <td>No</td>\n",
       "      <td>No</td>\n",
       "      <td>0.0</td>\n",
       "      <td>0.0</td>\n",
       "      <td>Yes</td>\n",
       "      <td>Male</td>\n",
       "      <td>80 or older</td>\n",
       "      <td>White</td>\n",
       "      <td>No</td>\n",
       "      <td>No</td>\n",
       "      <td>Poor</td>\n",
       "      <td>8.0</td>\n",
       "      <td>No</td>\n",
       "      <td>Yes</td>\n",
       "      <td>No</td>\n",
       "    </tr>\n",
       "  </tbody>\n",
       "</table>\n",
       "</div>"
      ],
      "text/plain": [
       "       HeartDisease    BMI Smoking AlcoholDrinking Stroke  PhysicalHealth  \\\n",
       "126896           No  94.85      No              No     No             0.0   \n",
       "242834           No  94.66      No              No     No             4.0   \n",
       "104267           No  93.97     Yes              No     No            20.0   \n",
       "249715           No  93.86     Yes             Yes     No            30.0   \n",
       "156093           No  92.53     Yes              No     No             7.0   \n",
       "126661           No  91.82      No              No     No             0.0   \n",
       "114087           No  91.55      No              No     No             0.0   \n",
       "105476           No  91.55     Yes              No     No             0.0   \n",
       "229007           No  88.60      No              No     No            30.0   \n",
       "290183           No  88.19      No              No     No             0.0   \n",
       "\n",
       "        MentalHealth DiffWalking     Sex  AgeCategory   Race Diabetic  \\\n",
       "126896           0.0          No    Male        35-39  White       No   \n",
       "242834           0.0          No  Female        50-54  White       No   \n",
       "104267          25.0         Yes  Female        50-54  White       No   \n",
       "249715          30.0         Yes  Female        65-69  Other      Yes   \n",
       "156093           0.0         Yes  Female        65-69  Black      Yes   \n",
       "126661           2.0          No  Female        65-69  Black       No   \n",
       "114087          10.0         Yes  Female        55-59  Other       No   \n",
       "105476           0.0          No    Male        40-44  Other       No   \n",
       "229007           0.0         Yes    Male        55-59  White       No   \n",
       "290183           0.0         Yes    Male  80 or older  White       No   \n",
       "\n",
       "       PhysicalActivity  GenHealth  SleepTime Asthma KidneyDisease SkinCancer  \n",
       "126896              Yes  Excellent        7.0     No            No         No  \n",
       "242834               No  Very good        6.0     No            No         No  \n",
       "104267               No       Poor        6.0     No            No         No  \n",
       "249715               No       Poor        4.0    Yes           Yes         No  \n",
       "156093              Yes       Poor        8.0    Yes            No         No  \n",
       "126661              Yes  Very good        5.0     No            No         No  \n",
       "114087               No  Excellent        2.0     No            No         No  \n",
       "105476              Yes  Excellent        5.0     No            No         No  \n",
       "229007              Yes       Fair        5.0     No            No         No  \n",
       "290183               No       Poor        8.0     No           Yes         No  "
      ]
     },
     "execution_count": 13,
     "metadata": {},
     "output_type": "execute_result"
    }
   ],
   "source": [
    "df.sort_values(['BMI'],ascending=False).head(10)  # Sorting the values on the basis of BMI in Descending order."
   ]
  },
  {
   "cell_type": "markdown",
   "id": "088aa8ff",
   "metadata": {},
   "source": [
    "* As per study :\n",
    "* BMI Categories:\n",
    "  - Underweight = <18.5\n",
    "  - Normal weight = 18.5–24.9\n",
    "  - Overweight = 25–29.9\n",
    "  - Obesity = BMI of 30 or greater"
   ]
  },
  {
   "cell_type": "markdown",
   "id": "ccf97f42",
   "metadata": {},
   "source": [
    "### Observation :-\n",
    "* By sorting the values as BMI, we can see that a person has highest BMI of 94.85 kg/m2. Which is Obesity category.\n",
    "* But still if a person has high BMI he/she may not have any HeartDisease."
   ]
  },
  {
   "cell_type": "code",
   "execution_count": 14,
   "id": "e60f379c",
   "metadata": {},
   "outputs": [
    {
     "data": {
      "text/html": [
       "<div>\n",
       "<style scoped>\n",
       "    .dataframe tbody tr th:only-of-type {\n",
       "        vertical-align: middle;\n",
       "    }\n",
       "\n",
       "    .dataframe tbody tr th {\n",
       "        vertical-align: top;\n",
       "    }\n",
       "\n",
       "    .dataframe thead th {\n",
       "        text-align: right;\n",
       "    }\n",
       "</style>\n",
       "<table border=\"1\" class=\"dataframe\">\n",
       "  <thead>\n",
       "    <tr style=\"text-align: right;\">\n",
       "      <th></th>\n",
       "      <th>HeartDisease</th>\n",
       "      <th>BMI</th>\n",
       "      <th>Smoking</th>\n",
       "      <th>AlcoholDrinking</th>\n",
       "      <th>Stroke</th>\n",
       "      <th>PhysicalHealth</th>\n",
       "      <th>MentalHealth</th>\n",
       "      <th>DiffWalking</th>\n",
       "      <th>Sex</th>\n",
       "      <th>AgeCategory</th>\n",
       "      <th>Race</th>\n",
       "      <th>Diabetic</th>\n",
       "      <th>PhysicalActivity</th>\n",
       "      <th>GenHealth</th>\n",
       "      <th>SleepTime</th>\n",
       "      <th>Asthma</th>\n",
       "      <th>KidneyDisease</th>\n",
       "      <th>SkinCancer</th>\n",
       "    </tr>\n",
       "  </thead>\n",
       "  <tbody>\n",
       "    <tr>\n",
       "      <th>69662</th>\n",
       "      <td>No</td>\n",
       "      <td>12.02</td>\n",
       "      <td>Yes</td>\n",
       "      <td>No</td>\n",
       "      <td>No</td>\n",
       "      <td>0.0</td>\n",
       "      <td>30.0</td>\n",
       "      <td>No</td>\n",
       "      <td>Male</td>\n",
       "      <td>18-24</td>\n",
       "      <td>White</td>\n",
       "      <td>No</td>\n",
       "      <td>Yes</td>\n",
       "      <td>Good</td>\n",
       "      <td>8.0</td>\n",
       "      <td>No</td>\n",
       "      <td>No</td>\n",
       "      <td>No</td>\n",
       "    </tr>\n",
       "    <tr>\n",
       "      <th>205511</th>\n",
       "      <td>No</td>\n",
       "      <td>12.02</td>\n",
       "      <td>No</td>\n",
       "      <td>No</td>\n",
       "      <td>No</td>\n",
       "      <td>30.0</td>\n",
       "      <td>30.0</td>\n",
       "      <td>No</td>\n",
       "      <td>Female</td>\n",
       "      <td>55-59</td>\n",
       "      <td>Black</td>\n",
       "      <td>No</td>\n",
       "      <td>No</td>\n",
       "      <td>Poor</td>\n",
       "      <td>6.0</td>\n",
       "      <td>No</td>\n",
       "      <td>No</td>\n",
       "      <td>No</td>\n",
       "    </tr>\n",
       "    <tr>\n",
       "      <th>113373</th>\n",
       "      <td>No</td>\n",
       "      <td>12.08</td>\n",
       "      <td>Yes</td>\n",
       "      <td>No</td>\n",
       "      <td>No</td>\n",
       "      <td>0.0</td>\n",
       "      <td>0.0</td>\n",
       "      <td>Yes</td>\n",
       "      <td>Male</td>\n",
       "      <td>30-34</td>\n",
       "      <td>White</td>\n",
       "      <td>No</td>\n",
       "      <td>Yes</td>\n",
       "      <td>Good</td>\n",
       "      <td>8.0</td>\n",
       "      <td>No</td>\n",
       "      <td>No</td>\n",
       "      <td>No</td>\n",
       "    </tr>\n",
       "    <tr>\n",
       "      <th>51637</th>\n",
       "      <td>No</td>\n",
       "      <td>12.13</td>\n",
       "      <td>No</td>\n",
       "      <td>No</td>\n",
       "      <td>No</td>\n",
       "      <td>0.0</td>\n",
       "      <td>0.0</td>\n",
       "      <td>No</td>\n",
       "      <td>Male</td>\n",
       "      <td>60-64</td>\n",
       "      <td>White</td>\n",
       "      <td>No</td>\n",
       "      <td>Yes</td>\n",
       "      <td>Excellent</td>\n",
       "      <td>7.0</td>\n",
       "      <td>No</td>\n",
       "      <td>No</td>\n",
       "      <td>No</td>\n",
       "    </tr>\n",
       "    <tr>\n",
       "      <th>81754</th>\n",
       "      <td>No</td>\n",
       "      <td>12.16</td>\n",
       "      <td>No</td>\n",
       "      <td>No</td>\n",
       "      <td>No</td>\n",
       "      <td>0.0</td>\n",
       "      <td>0.0</td>\n",
       "      <td>No</td>\n",
       "      <td>Male</td>\n",
       "      <td>35-39</td>\n",
       "      <td>Black</td>\n",
       "      <td>No</td>\n",
       "      <td>Yes</td>\n",
       "      <td>Very good</td>\n",
       "      <td>8.0</td>\n",
       "      <td>No</td>\n",
       "      <td>No</td>\n",
       "      <td>No</td>\n",
       "    </tr>\n",
       "    <tr>\n",
       "      <th>77250</th>\n",
       "      <td>No</td>\n",
       "      <td>12.20</td>\n",
       "      <td>Yes</td>\n",
       "      <td>Yes</td>\n",
       "      <td>No</td>\n",
       "      <td>0.0</td>\n",
       "      <td>1.0</td>\n",
       "      <td>No</td>\n",
       "      <td>Male</td>\n",
       "      <td>75-79</td>\n",
       "      <td>White</td>\n",
       "      <td>No</td>\n",
       "      <td>Yes</td>\n",
       "      <td>Very good</td>\n",
       "      <td>7.0</td>\n",
       "      <td>No</td>\n",
       "      <td>No</td>\n",
       "      <td>Yes</td>\n",
       "    </tr>\n",
       "    <tr>\n",
       "      <th>76270</th>\n",
       "      <td>Yes</td>\n",
       "      <td>12.21</td>\n",
       "      <td>No</td>\n",
       "      <td>No</td>\n",
       "      <td>No</td>\n",
       "      <td>0.0</td>\n",
       "      <td>0.0</td>\n",
       "      <td>No</td>\n",
       "      <td>Male</td>\n",
       "      <td>60-64</td>\n",
       "      <td>White</td>\n",
       "      <td>No</td>\n",
       "      <td>Yes</td>\n",
       "      <td>Good</td>\n",
       "      <td>7.0</td>\n",
       "      <td>No</td>\n",
       "      <td>No</td>\n",
       "      <td>Yes</td>\n",
       "    </tr>\n",
       "    <tr>\n",
       "      <th>112289</th>\n",
       "      <td>No</td>\n",
       "      <td>12.26</td>\n",
       "      <td>No</td>\n",
       "      <td>No</td>\n",
       "      <td>No</td>\n",
       "      <td>0.0</td>\n",
       "      <td>0.0</td>\n",
       "      <td>Yes</td>\n",
       "      <td>Female</td>\n",
       "      <td>50-54</td>\n",
       "      <td>White</td>\n",
       "      <td>No</td>\n",
       "      <td>Yes</td>\n",
       "      <td>Good</td>\n",
       "      <td>9.0</td>\n",
       "      <td>Yes</td>\n",
       "      <td>No</td>\n",
       "      <td>No</td>\n",
       "    </tr>\n",
       "    <tr>\n",
       "      <th>253451</th>\n",
       "      <td>No</td>\n",
       "      <td>12.27</td>\n",
       "      <td>No</td>\n",
       "      <td>No</td>\n",
       "      <td>No</td>\n",
       "      <td>0.0</td>\n",
       "      <td>0.0</td>\n",
       "      <td>No</td>\n",
       "      <td>Female</td>\n",
       "      <td>50-54</td>\n",
       "      <td>White</td>\n",
       "      <td>No</td>\n",
       "      <td>Yes</td>\n",
       "      <td>Very good</td>\n",
       "      <td>8.0</td>\n",
       "      <td>No</td>\n",
       "      <td>No</td>\n",
       "      <td>No</td>\n",
       "    </tr>\n",
       "    <tr>\n",
       "      <th>11767</th>\n",
       "      <td>Yes</td>\n",
       "      <td>12.40</td>\n",
       "      <td>No</td>\n",
       "      <td>No</td>\n",
       "      <td>No</td>\n",
       "      <td>0.0</td>\n",
       "      <td>30.0</td>\n",
       "      <td>Yes</td>\n",
       "      <td>Female</td>\n",
       "      <td>40-44</td>\n",
       "      <td>White</td>\n",
       "      <td>No</td>\n",
       "      <td>No</td>\n",
       "      <td>Good</td>\n",
       "      <td>8.0</td>\n",
       "      <td>No</td>\n",
       "      <td>No</td>\n",
       "      <td>No</td>\n",
       "    </tr>\n",
       "  </tbody>\n",
       "</table>\n",
       "</div>"
      ],
      "text/plain": [
       "       HeartDisease    BMI Smoking AlcoholDrinking Stroke  PhysicalHealth  \\\n",
       "69662            No  12.02     Yes              No     No             0.0   \n",
       "205511           No  12.02      No              No     No            30.0   \n",
       "113373           No  12.08     Yes              No     No             0.0   \n",
       "51637            No  12.13      No              No     No             0.0   \n",
       "81754            No  12.16      No              No     No             0.0   \n",
       "77250            No  12.20     Yes             Yes     No             0.0   \n",
       "76270           Yes  12.21      No              No     No             0.0   \n",
       "112289           No  12.26      No              No     No             0.0   \n",
       "253451           No  12.27      No              No     No             0.0   \n",
       "11767           Yes  12.40      No              No     No             0.0   \n",
       "\n",
       "        MentalHealth DiffWalking     Sex AgeCategory   Race Diabetic  \\\n",
       "69662           30.0          No    Male       18-24  White       No   \n",
       "205511          30.0          No  Female       55-59  Black       No   \n",
       "113373           0.0         Yes    Male       30-34  White       No   \n",
       "51637            0.0          No    Male       60-64  White       No   \n",
       "81754            0.0          No    Male       35-39  Black       No   \n",
       "77250            1.0          No    Male       75-79  White       No   \n",
       "76270            0.0          No    Male       60-64  White       No   \n",
       "112289           0.0         Yes  Female       50-54  White       No   \n",
       "253451           0.0          No  Female       50-54  White       No   \n",
       "11767           30.0         Yes  Female       40-44  White       No   \n",
       "\n",
       "       PhysicalActivity  GenHealth  SleepTime Asthma KidneyDisease SkinCancer  \n",
       "69662               Yes       Good        8.0     No            No         No  \n",
       "205511               No       Poor        6.0     No            No         No  \n",
       "113373              Yes       Good        8.0     No            No         No  \n",
       "51637               Yes  Excellent        7.0     No            No         No  \n",
       "81754               Yes  Very good        8.0     No            No         No  \n",
       "77250               Yes  Very good        7.0     No            No        Yes  \n",
       "76270               Yes       Good        7.0     No            No        Yes  \n",
       "112289              Yes       Good        9.0    Yes            No         No  \n",
       "253451              Yes  Very good        8.0     No            No         No  \n",
       "11767                No       Good        8.0     No            No         No  "
      ]
     },
     "execution_count": 14,
     "metadata": {},
     "output_type": "execute_result"
    }
   ],
   "source": [
    "df.sort_values(['BMI']).head(10)  # Sorting the values on the basis of BMI in Ascending order."
   ]
  },
  {
   "cell_type": "markdown",
   "id": "d2995370",
   "metadata": {},
   "source": [
    "### Observation :-\n",
    "* By sorting the values as BMI, we can see that a person has lowest BMI of 12.02 kg/m2. Which is UnderWeight category.\n",
    "* From the above data we can say that if a person is underweight he/she may have a chances of any HeartDisease."
   ]
  },
  {
   "cell_type": "markdown",
   "id": "7729db99",
   "metadata": {},
   "source": [
    "### Checking all the unique values in the dataset"
   ]
  },
  {
   "cell_type": "code",
   "execution_count": 15,
   "id": "2af4f32d",
   "metadata": {
    "scrolled": true
   },
   "outputs": [
    {
     "data": {
      "text/plain": [
       "HeartDisease           2\n",
       "BMI                 3604\n",
       "Smoking                2\n",
       "AlcoholDrinking        2\n",
       "Stroke                 2\n",
       "PhysicalHealth        31\n",
       "MentalHealth          31\n",
       "DiffWalking            2\n",
       "Sex                    2\n",
       "AgeCategory           13\n",
       "Race                   6\n",
       "Diabetic               4\n",
       "PhysicalActivity       2\n",
       "GenHealth              5\n",
       "SleepTime             24\n",
       "Asthma                 2\n",
       "KidneyDisease          2\n",
       "SkinCancer             2\n",
       "dtype: int64"
      ]
     },
     "execution_count": 15,
     "metadata": {},
     "output_type": "execute_result"
    }
   ],
   "source": [
    "df.nunique()  "
   ]
  },
  {
   "cell_type": "markdown",
   "id": "15fd45eb",
   "metadata": {},
   "source": [
    "## Pivot tables And Visualisation"
   ]
  },
  {
   "cell_type": "code",
   "execution_count": 16,
   "id": "8042086a",
   "metadata": {},
   "outputs": [
    {
     "name": "stdout",
     "output_type": "stream",
     "text": [
      "Heart Disease on the Basis of Gender:\n"
     ]
    },
    {
     "data": {
      "text/html": [
       "<div>\n",
       "<style scoped>\n",
       "    .dataframe tbody tr th:only-of-type {\n",
       "        vertical-align: middle;\n",
       "    }\n",
       "\n",
       "    .dataframe tbody tr th {\n",
       "        vertical-align: top;\n",
       "    }\n",
       "\n",
       "    .dataframe thead th {\n",
       "        text-align: right;\n",
       "    }\n",
       "</style>\n",
       "<table border=\"1\" class=\"dataframe\">\n",
       "  <thead>\n",
       "    <tr style=\"text-align: right;\">\n",
       "      <th></th>\n",
       "      <th>HeartDisease</th>\n",
       "    </tr>\n",
       "    <tr>\n",
       "      <th>Sex</th>\n",
       "      <th></th>\n",
       "    </tr>\n",
       "  </thead>\n",
       "  <tbody>\n",
       "    <tr>\n",
       "      <th>Female</th>\n",
       "      <td>167805</td>\n",
       "    </tr>\n",
       "    <tr>\n",
       "      <th>Male</th>\n",
       "      <td>151990</td>\n",
       "    </tr>\n",
       "  </tbody>\n",
       "</table>\n",
       "</div>"
      ],
      "text/plain": [
       "        HeartDisease\n",
       "Sex                 \n",
       "Female        167805\n",
       "Male          151990"
      ]
     },
     "execution_count": 16,
     "metadata": {},
     "output_type": "execute_result"
    }
   ],
   "source": [
    "print('Heart Disease on the Basis of Gender:')\n",
    "d1=df.copy()                         # Copying the original data to a new variable\n",
    "pivot_1 = d1.pivot_table(            # Creating a pivot_table with data 'd1'\n",
    "    index=['Sex'],                   # Shows the values of 'Sex' feature\n",
    "    values=['HeartDisease'],sort=('Sex'),aggfunc='count' # Count the no. of male and female having HeartDisease\n",
    ")\n",
    "pivot_1                              # printing pivot_table"
   ]
  },
  {
   "cell_type": "markdown",
   "id": "c15defdf",
   "metadata": {},
   "source": [
    "### Observation :- \n",
    "* From above pivot_table we can say that Female have more chances of a HeartDisease than Male."
   ]
  },
  {
   "cell_type": "code",
   "execution_count": 17,
   "id": "9c5b0221",
   "metadata": {},
   "outputs": [
    {
     "data": {
      "image/png": "[encoded data removed]",
      "text/plain": [
       "<Figure size 432x288 with 1 Axes>"
      ]
     },
     "metadata": {},
     "output_type": "display_data"
    }
   ],
   "source": [
    "plt.title('HeartDisease on the Basis of Gender\\n',fontsize=20,color = 'blue')\n",
    "pivot_1['HeartDisease'].plot.pie(autopct='%1.1f%%',shadow=True,explode = (0.07,0))\n",
    "plt.xlabel('Gender',fontsize=16,color='r')\n",
    "plt.ylabel('')\n",
    "plt.show()"
   ]
  },
  {
   "cell_type": "code",
   "execution_count": 18,
   "id": "0d3e52c5",
   "metadata": {},
   "outputs": [
    {
     "name": "stdout",
     "output_type": "stream",
     "text": [
      "Maximum BMI of a person as per AgeCategory:\n"
     ]
    },
    {
     "data": {
      "text/html": [
       "<div>\n",
       "<style scoped>\n",
       "    .dataframe tbody tr th:only-of-type {\n",
       "        vertical-align: middle;\n",
       "    }\n",
       "\n",
       "    .dataframe tbody tr th {\n",
       "        vertical-align: top;\n",
       "    }\n",
       "\n",
       "    .dataframe thead th {\n",
       "        text-align: right;\n",
       "    }\n",
       "</style>\n",
       "<table border=\"1\" class=\"dataframe\">\n",
       "  <thead>\n",
       "    <tr style=\"text-align: right;\">\n",
       "      <th></th>\n",
       "      <th>BMI</th>\n",
       "    </tr>\n",
       "    <tr>\n",
       "      <th>AgeCategory</th>\n",
       "      <th></th>\n",
       "    </tr>\n",
       "  </thead>\n",
       "  <tbody>\n",
       "    <tr>\n",
       "      <th>18-24</th>\n",
       "      <td>83.33</td>\n",
       "    </tr>\n",
       "    <tr>\n",
       "      <th>25-29</th>\n",
       "      <td>85.91</td>\n",
       "    </tr>\n",
       "    <tr>\n",
       "      <th>30-34</th>\n",
       "      <td>87.05</td>\n",
       "    </tr>\n",
       "    <tr>\n",
       "      <th>35-39</th>\n",
       "      <td>94.85</td>\n",
       "    </tr>\n",
       "    <tr>\n",
       "      <th>40-44</th>\n",
       "      <td>91.55</td>\n",
       "    </tr>\n",
       "    <tr>\n",
       "      <th>45-49</th>\n",
       "      <td>82.50</td>\n",
       "    </tr>\n",
       "    <tr>\n",
       "      <th>50-54</th>\n",
       "      <td>94.66</td>\n",
       "    </tr>\n",
       "    <tr>\n",
       "      <th>55-59</th>\n",
       "      <td>91.55</td>\n",
       "    </tr>\n",
       "    <tr>\n",
       "      <th>60-64</th>\n",
       "      <td>84.44</td>\n",
       "    </tr>\n",
       "    <tr>\n",
       "      <th>65-69</th>\n",
       "      <td>93.86</td>\n",
       "    </tr>\n",
       "    <tr>\n",
       "      <th>70-74</th>\n",
       "      <td>79.10</td>\n",
       "    </tr>\n",
       "    <tr>\n",
       "      <th>75-79</th>\n",
       "      <td>67.67</td>\n",
       "    </tr>\n",
       "    <tr>\n",
       "      <th>80 or older</th>\n",
       "      <td>88.19</td>\n",
       "    </tr>\n",
       "  </tbody>\n",
       "</table>\n",
       "</div>"
      ],
      "text/plain": [
       "               BMI\n",
       "AgeCategory       \n",
       "18-24        83.33\n",
       "25-29        85.91\n",
       "30-34        87.05\n",
       "35-39        94.85\n",
       "40-44        91.55\n",
       "45-49        82.50\n",
       "50-54        94.66\n",
       "55-59        91.55\n",
       "60-64        84.44\n",
       "65-69        93.86\n",
       "70-74        79.10\n",
       "75-79        67.67\n",
       "80 or older  88.19"
      ]
     },
     "execution_count": 18,
     "metadata": {},
     "output_type": "execute_result"
    }
   ],
   "source": [
    "print('Maximum BMI of a person as per AgeCategory:')\n",
    "d1=df.copy()                            # Copying the original data to a new variable\n",
    "pivot_2 = d1.pivot_table(               # Creating a pivot_table with data 'd1'\n",
    "    index=['AgeCategory'],              # Shows the values of 'AgeCategory' feature\n",
    "    values=['BMI'],sort=('AgeCategory'),aggfunc='max' # Max of BMI as per AgeCategory\n",
    ")\n",
    "pivot_2                                 # printing pivot_table"
   ]
  },
  {
   "cell_type": "markdown",
   "id": "0f6f5e02",
   "metadata": {},
   "source": [
    "### Observation :-\n",
    "* From above pivot_table we can find the maximum BMI of each AgeCategory."
   ]
  },
  {
   "cell_type": "code",
   "execution_count": 19,
   "id": "347459df",
   "metadata": {},
   "outputs": [
    {
     "data": {
      "image/png": "[encoded data removed]",
      "text/plain": [
       "<Figure size 432x432 with 1 Axes>"
      ]
     },
     "metadata": {},
     "output_type": "display_data"
    }
   ],
   "source": [
    "plt.figure(figsize = (6,6))\n",
    "plt.title('HeartDisease on the Basis of BMI\\n',fontsize=20,color = 'b')\n",
    "pivot_2['BMI'].plot.pie(autopct='%1.1f%%',shadow=True,explode = (0,0,0,0.2,0,0,0.2,0,0,0.2,0,0,0))\n",
    "plt.xlabel('\\nBMI',fontsize = 16,color='r')\n",
    "plt.ylabel('')\n",
    "plt.show()"
   ]
  },
  {
   "cell_type": "markdown",
   "id": "f10820b0",
   "metadata": {},
   "source": [
    "### Observation :-\n",
    "* From above pie chart we can say that:\n",
    "    - '35-39', '50-54', and '65-69' are the top 3 age categories where people have the maximum BMI"
   ]
  },
  {
   "cell_type": "code",
   "execution_count": 20,
   "id": "6c1a85ce",
   "metadata": {
    "scrolled": false
   },
   "outputs": [
    {
     "data": {
      "image/png": "[encoded data removed]",
      "text/plain": [
       "<Figure size 432x288 with 1 Axes>"
      ]
     },
     "metadata": {},
     "output_type": "display_data"
    }
   ],
   "source": [
    "sns.set()\n",
    "sns.boxplot(x='PhysicalActivity',y = 'PhysicalHealth',data = df)\n",
    "plt.title('Statistical Information of PhysicalHealth\\n',fontsize=20,color = 'b')\n",
    "plt.xlabel('\\nPhysical Activity',fontsize = 16,color = 'red')\n",
    "plt.ylabel('Physical Health\\n',fontsize = 16,color = 'red')\n",
    "plt.show()"
   ]
  },
  {
   "cell_type": "markdown",
   "id": "0a377629",
   "metadata": {},
   "source": [
    "### Observation :-\n",
    "* From the above box plot we can say that people involved in any Physical Activity has good Physical Health."
   ]
  },
  {
   "cell_type": "code",
   "execution_count": 21,
   "id": "15605b5c",
   "metadata": {},
   "outputs": [
    {
     "data": {
      "image/png": "[encoded data removed]",
      "text/plain": [
       "<Figure size 1080x360 with 1 Axes>"
      ]
     },
     "metadata": {},
     "output_type": "display_data"
    }
   ],
   "source": [
    "sns.set()\n",
    "fig = plt.subplots(figsize=(15, 5))\n",
    "sns.boxplot(x='SleepTime',y = 'PhysicalHealth',data = df)\n",
    "plt.title('Statistical Information of PhysicalHealth with SleepTime\\n',fontsize=20,color = 'b')\n",
    "plt.xlabel('\\nSleep Time',fontsize = 16,color = 'red')\n",
    "plt.ylabel('Physical Health\\n',fontsize = 16,color = 'red')\n",
    "plt.show()"
   ]
  },
  {
   "cell_type": "markdown",
   "id": "7f704e32",
   "metadata": {},
   "source": [
    "### Observation :-\n",
    "* From the above box plot we can say that for a better Physical Health a person should sleep atleast \"6-9\" hours a day."
   ]
  },
  {
   "cell_type": "markdown",
   "id": "719d359d",
   "metadata": {},
   "source": [
    "## Creating a new DataFrame with 'Having HeartDisease' and 'Not Having HeartDisease'"
   ]
  },
  {
   "cell_type": "code",
   "execution_count": 22,
   "id": "67a9cbac",
   "metadata": {},
   "outputs": [],
   "source": [
    "case_yes = df[df.HeartDisease =='Yes']     # dataset only having observations who have HeartDisease.\n",
    "case_no = df[df.HeartDisease == 'No']     # dataset only having observations who does not have HeartDisease."
   ]
  },
  {
   "cell_type": "markdown",
   "id": "50f3d373",
   "metadata": {},
   "source": [
    "### Printing the Dataset 'Having HeartDisease'"
   ]
  },
  {
   "cell_type": "code",
   "execution_count": 23,
   "id": "60d31164",
   "metadata": {},
   "outputs": [
    {
     "data": {
      "text/html": [
       "<div>\n",
       "<style scoped>\n",
       "    .dataframe tbody tr th:only-of-type {\n",
       "        vertical-align: middle;\n",
       "    }\n",
       "\n",
       "    .dataframe tbody tr th {\n",
       "        vertical-align: top;\n",
       "    }\n",
       "\n",
       "    .dataframe thead th {\n",
       "        text-align: right;\n",
       "    }\n",
       "</style>\n",
       "<table border=\"1\" class=\"dataframe\">\n",
       "  <thead>\n",
       "    <tr style=\"text-align: right;\">\n",
       "      <th></th>\n",
       "      <th>HeartDisease</th>\n",
       "      <th>BMI</th>\n",
       "      <th>Smoking</th>\n",
       "      <th>AlcoholDrinking</th>\n",
       "      <th>Stroke</th>\n",
       "      <th>PhysicalHealth</th>\n",
       "      <th>MentalHealth</th>\n",
       "      <th>DiffWalking</th>\n",
       "      <th>Sex</th>\n",
       "      <th>AgeCategory</th>\n",
       "      <th>Race</th>\n",
       "      <th>Diabetic</th>\n",
       "      <th>PhysicalActivity</th>\n",
       "      <th>GenHealth</th>\n",
       "      <th>SleepTime</th>\n",
       "      <th>Asthma</th>\n",
       "      <th>KidneyDisease</th>\n",
       "      <th>SkinCancer</th>\n",
       "    </tr>\n",
       "  </thead>\n",
       "  <tbody>\n",
       "    <tr>\n",
       "      <th>5</th>\n",
       "      <td>Yes</td>\n",
       "      <td>28.87</td>\n",
       "      <td>Yes</td>\n",
       "      <td>No</td>\n",
       "      <td>No</td>\n",
       "      <td>6.0</td>\n",
       "      <td>0.0</td>\n",
       "      <td>Yes</td>\n",
       "      <td>Female</td>\n",
       "      <td>75-79</td>\n",
       "      <td>Black</td>\n",
       "      <td>No</td>\n",
       "      <td>No</td>\n",
       "      <td>Fair</td>\n",
       "      <td>12.0</td>\n",
       "      <td>No</td>\n",
       "      <td>No</td>\n",
       "      <td>No</td>\n",
       "    </tr>\n",
       "    <tr>\n",
       "      <th>10</th>\n",
       "      <td>Yes</td>\n",
       "      <td>34.30</td>\n",
       "      <td>Yes</td>\n",
       "      <td>No</td>\n",
       "      <td>No</td>\n",
       "      <td>30.0</td>\n",
       "      <td>0.0</td>\n",
       "      <td>Yes</td>\n",
       "      <td>Male</td>\n",
       "      <td>60-64</td>\n",
       "      <td>White</td>\n",
       "      <td>Yes</td>\n",
       "      <td>No</td>\n",
       "      <td>Poor</td>\n",
       "      <td>15.0</td>\n",
       "      <td>Yes</td>\n",
       "      <td>No</td>\n",
       "      <td>No</td>\n",
       "    </tr>\n",
       "    <tr>\n",
       "      <th>35</th>\n",
       "      <td>Yes</td>\n",
       "      <td>32.98</td>\n",
       "      <td>Yes</td>\n",
       "      <td>No</td>\n",
       "      <td>Yes</td>\n",
       "      <td>10.0</td>\n",
       "      <td>0.0</td>\n",
       "      <td>Yes</td>\n",
       "      <td>Male</td>\n",
       "      <td>75-79</td>\n",
       "      <td>White</td>\n",
       "      <td>Yes</td>\n",
       "      <td>Yes</td>\n",
       "      <td>Poor</td>\n",
       "      <td>4.0</td>\n",
       "      <td>No</td>\n",
       "      <td>No</td>\n",
       "      <td>Yes</td>\n",
       "    </tr>\n",
       "    <tr>\n",
       "      <th>42</th>\n",
       "      <td>Yes</td>\n",
       "      <td>25.06</td>\n",
       "      <td>No</td>\n",
       "      <td>No</td>\n",
       "      <td>No</td>\n",
       "      <td>0.0</td>\n",
       "      <td>0.0</td>\n",
       "      <td>Yes</td>\n",
       "      <td>Female</td>\n",
       "      <td>80 or older</td>\n",
       "      <td>White</td>\n",
       "      <td>Yes</td>\n",
       "      <td>No</td>\n",
       "      <td>Good</td>\n",
       "      <td>7.0</td>\n",
       "      <td>No</td>\n",
       "      <td>No</td>\n",
       "      <td>Yes</td>\n",
       "    </tr>\n",
       "    <tr>\n",
       "      <th>43</th>\n",
       "      <td>Yes</td>\n",
       "      <td>30.23</td>\n",
       "      <td>Yes</td>\n",
       "      <td>No</td>\n",
       "      <td>No</td>\n",
       "      <td>6.0</td>\n",
       "      <td>2.0</td>\n",
       "      <td>Yes</td>\n",
       "      <td>Female</td>\n",
       "      <td>75-79</td>\n",
       "      <td>White</td>\n",
       "      <td>Yes</td>\n",
       "      <td>Yes</td>\n",
       "      <td>Fair</td>\n",
       "      <td>8.0</td>\n",
       "      <td>No</td>\n",
       "      <td>Yes</td>\n",
       "      <td>No</td>\n",
       "    </tr>\n",
       "    <tr>\n",
       "      <th>...</th>\n",
       "      <td>...</td>\n",
       "      <td>...</td>\n",
       "      <td>...</td>\n",
       "      <td>...</td>\n",
       "      <td>...</td>\n",
       "      <td>...</td>\n",
       "      <td>...</td>\n",
       "      <td>...</td>\n",
       "      <td>...</td>\n",
       "      <td>...</td>\n",
       "      <td>...</td>\n",
       "      <td>...</td>\n",
       "      <td>...</td>\n",
       "      <td>...</td>\n",
       "      <td>...</td>\n",
       "      <td>...</td>\n",
       "      <td>...</td>\n",
       "      <td>...</td>\n",
       "    </tr>\n",
       "    <tr>\n",
       "      <th>319765</th>\n",
       "      <td>Yes</td>\n",
       "      <td>38.45</td>\n",
       "      <td>No</td>\n",
       "      <td>No</td>\n",
       "      <td>Yes</td>\n",
       "      <td>30.0</td>\n",
       "      <td>15.0</td>\n",
       "      <td>Yes</td>\n",
       "      <td>Female</td>\n",
       "      <td>55-59</td>\n",
       "      <td>Hispanic</td>\n",
       "      <td>Yes</td>\n",
       "      <td>Yes</td>\n",
       "      <td>Poor</td>\n",
       "      <td>6.0</td>\n",
       "      <td>Yes</td>\n",
       "      <td>No</td>\n",
       "      <td>No</td>\n",
       "    </tr>\n",
       "    <tr>\n",
       "      <th>319767</th>\n",
       "      <td>Yes</td>\n",
       "      <td>36.21</td>\n",
       "      <td>Yes</td>\n",
       "      <td>No</td>\n",
       "      <td>No</td>\n",
       "      <td>0.0</td>\n",
       "      <td>0.0</td>\n",
       "      <td>Yes</td>\n",
       "      <td>Female</td>\n",
       "      <td>75-79</td>\n",
       "      <td>Hispanic</td>\n",
       "      <td>Yes</td>\n",
       "      <td>Yes</td>\n",
       "      <td>Good</td>\n",
       "      <td>8.0</td>\n",
       "      <td>No</td>\n",
       "      <td>No</td>\n",
       "      <td>No</td>\n",
       "    </tr>\n",
       "    <tr>\n",
       "      <th>319781</th>\n",
       "      <td>Yes</td>\n",
       "      <td>37.12</td>\n",
       "      <td>Yes</td>\n",
       "      <td>No</td>\n",
       "      <td>No</td>\n",
       "      <td>0.0</td>\n",
       "      <td>0.0</td>\n",
       "      <td>No</td>\n",
       "      <td>Male</td>\n",
       "      <td>35-39</td>\n",
       "      <td>Hispanic</td>\n",
       "      <td>No</td>\n",
       "      <td>Yes</td>\n",
       "      <td>Very good</td>\n",
       "      <td>7.0</td>\n",
       "      <td>No</td>\n",
       "      <td>No</td>\n",
       "      <td>No</td>\n",
       "    </tr>\n",
       "    <tr>\n",
       "      <th>319786</th>\n",
       "      <td>Yes</td>\n",
       "      <td>33.20</td>\n",
       "      <td>Yes</td>\n",
       "      <td>No</td>\n",
       "      <td>No</td>\n",
       "      <td>0.0</td>\n",
       "      <td>0.0</td>\n",
       "      <td>No</td>\n",
       "      <td>Female</td>\n",
       "      <td>60-64</td>\n",
       "      <td>Hispanic</td>\n",
       "      <td>Yes</td>\n",
       "      <td>Yes</td>\n",
       "      <td>Very good</td>\n",
       "      <td>8.0</td>\n",
       "      <td>Yes</td>\n",
       "      <td>No</td>\n",
       "      <td>No</td>\n",
       "    </tr>\n",
       "    <tr>\n",
       "      <th>319790</th>\n",
       "      <td>Yes</td>\n",
       "      <td>27.41</td>\n",
       "      <td>Yes</td>\n",
       "      <td>No</td>\n",
       "      <td>No</td>\n",
       "      <td>7.0</td>\n",
       "      <td>0.0</td>\n",
       "      <td>Yes</td>\n",
       "      <td>Male</td>\n",
       "      <td>60-64</td>\n",
       "      <td>Hispanic</td>\n",
       "      <td>Yes</td>\n",
       "      <td>No</td>\n",
       "      <td>Fair</td>\n",
       "      <td>6.0</td>\n",
       "      <td>Yes</td>\n",
       "      <td>No</td>\n",
       "      <td>No</td>\n",
       "    </tr>\n",
       "  </tbody>\n",
       "</table>\n",
       "<p>27373 rows × 18 columns</p>\n",
       "</div>"
      ],
      "text/plain": [
       "       HeartDisease    BMI Smoking AlcoholDrinking Stroke  PhysicalHealth  \\\n",
       "5               Yes  28.87     Yes              No     No             6.0   \n",
       "10              Yes  34.30     Yes              No     No            30.0   \n",
       "35              Yes  32.98     Yes              No    Yes            10.0   \n",
       "42              Yes  25.06      No              No     No             0.0   \n",
       "43              Yes  30.23     Yes              No     No             6.0   \n",
       "...             ...    ...     ...             ...    ...             ...   \n",
       "319765          Yes  38.45      No              No    Yes            30.0   \n",
       "319767          Yes  36.21     Yes              No     No             0.0   \n",
       "319781          Yes  37.12     Yes              No     No             0.0   \n",
       "319786          Yes  33.20     Yes              No     No             0.0   \n",
       "319790          Yes  27.41     Yes              No     No             7.0   \n",
       "\n",
       "        MentalHealth DiffWalking     Sex  AgeCategory      Race Diabetic  \\\n",
       "5                0.0         Yes  Female        75-79     Black       No   \n",
       "10               0.0         Yes    Male        60-64     White      Yes   \n",
       "35               0.0         Yes    Male        75-79     White      Yes   \n",
       "42               0.0         Yes  Female  80 or older     White      Yes   \n",
       "43               2.0         Yes  Female        75-79     White      Yes   \n",
       "...              ...         ...     ...          ...       ...      ...   \n",
       "319765          15.0         Yes  Female        55-59  Hispanic      Yes   \n",
       "319767           0.0         Yes  Female        75-79  Hispanic      Yes   \n",
       "319781           0.0          No    Male        35-39  Hispanic       No   \n",
       "319786           0.0          No  Female        60-64  Hispanic      Yes   \n",
       "319790           0.0         Yes    Male        60-64  Hispanic      Yes   \n",
       "\n",
       "       PhysicalActivity  GenHealth  SleepTime Asthma KidneyDisease SkinCancer  \n",
       "5                    No       Fair       12.0     No            No         No  \n",
       "10                   No       Poor       15.0    Yes            No         No  \n",
       "35                  Yes       Poor        4.0     No            No        Yes  \n",
       "42                   No       Good        7.0     No            No        Yes  \n",
       "43                  Yes       Fair        8.0     No           Yes         No  \n",
       "...                 ...        ...        ...    ...           ...        ...  \n",
       "319765              Yes       Poor        6.0    Yes            No         No  \n",
       "319767              Yes       Good        8.0     No            No         No  \n",
       "319781              Yes  Very good        7.0     No            No         No  \n",
       "319786              Yes  Very good        8.0    Yes            No         No  \n",
       "319790               No       Fair        6.0    Yes            No         No  \n",
       "\n",
       "[27373 rows x 18 columns]"
      ]
     },
     "execution_count": 23,
     "metadata": {},
     "output_type": "execute_result"
    }
   ],
   "source": [
    "case_yes"
   ]
  },
  {
   "cell_type": "markdown",
   "id": "848b3988",
   "metadata": {},
   "source": [
    "### Printing the Dataset 'Not Having HeartDisease'"
   ]
  },
  {
   "cell_type": "code",
   "execution_count": 24,
   "id": "64739b79",
   "metadata": {},
   "outputs": [
    {
     "data": {
      "text/html": [
       "<div>\n",
       "<style scoped>\n",
       "    .dataframe tbody tr th:only-of-type {\n",
       "        vertical-align: middle;\n",
       "    }\n",
       "\n",
       "    .dataframe tbody tr th {\n",
       "        vertical-align: top;\n",
       "    }\n",
       "\n",
       "    .dataframe thead th {\n",
       "        text-align: right;\n",
       "    }\n",
       "</style>\n",
       "<table border=\"1\" class=\"dataframe\">\n",
       "  <thead>\n",
       "    <tr style=\"text-align: right;\">\n",
       "      <th></th>\n",
       "      <th>HeartDisease</th>\n",
       "      <th>BMI</th>\n",
       "      <th>Smoking</th>\n",
       "      <th>AlcoholDrinking</th>\n",
       "      <th>Stroke</th>\n",
       "      <th>PhysicalHealth</th>\n",
       "      <th>MentalHealth</th>\n",
       "      <th>DiffWalking</th>\n",
       "      <th>Sex</th>\n",
       "      <th>AgeCategory</th>\n",
       "      <th>Race</th>\n",
       "      <th>Diabetic</th>\n",
       "      <th>PhysicalActivity</th>\n",
       "      <th>GenHealth</th>\n",
       "      <th>SleepTime</th>\n",
       "      <th>Asthma</th>\n",
       "      <th>KidneyDisease</th>\n",
       "      <th>SkinCancer</th>\n",
       "    </tr>\n",
       "  </thead>\n",
       "  <tbody>\n",
       "    <tr>\n",
       "      <th>0</th>\n",
       "      <td>No</td>\n",
       "      <td>16.60</td>\n",
       "      <td>Yes</td>\n",
       "      <td>No</td>\n",
       "      <td>No</td>\n",
       "      <td>3.0</td>\n",
       "      <td>30.0</td>\n",
       "      <td>No</td>\n",
       "      <td>Female</td>\n",
       "      <td>55-59</td>\n",
       "      <td>White</td>\n",
       "      <td>Yes</td>\n",
       "      <td>Yes</td>\n",
       "      <td>Very good</td>\n",
       "      <td>5.0</td>\n",
       "      <td>Yes</td>\n",
       "      <td>No</td>\n",
       "      <td>Yes</td>\n",
       "    </tr>\n",
       "    <tr>\n",
       "      <th>1</th>\n",
       "      <td>No</td>\n",
       "      <td>20.34</td>\n",
       "      <td>No</td>\n",
       "      <td>No</td>\n",
       "      <td>Yes</td>\n",
       "      <td>0.0</td>\n",
       "      <td>0.0</td>\n",
       "      <td>No</td>\n",
       "      <td>Female</td>\n",
       "      <td>80 or older</td>\n",
       "      <td>White</td>\n",
       "      <td>No</td>\n",
       "      <td>Yes</td>\n",
       "      <td>Very good</td>\n",
       "      <td>7.0</td>\n",
       "      <td>No</td>\n",
       "      <td>No</td>\n",
       "      <td>No</td>\n",
       "    </tr>\n",
       "    <tr>\n",
       "      <th>2</th>\n",
       "      <td>No</td>\n",
       "      <td>26.58</td>\n",
       "      <td>Yes</td>\n",
       "      <td>No</td>\n",
       "      <td>No</td>\n",
       "      <td>20.0</td>\n",
       "      <td>30.0</td>\n",
       "      <td>No</td>\n",
       "      <td>Male</td>\n",
       "      <td>65-69</td>\n",
       "      <td>White</td>\n",
       "      <td>Yes</td>\n",
       "      <td>Yes</td>\n",
       "      <td>Fair</td>\n",
       "      <td>8.0</td>\n",
       "      <td>Yes</td>\n",
       "      <td>No</td>\n",
       "      <td>No</td>\n",
       "    </tr>\n",
       "    <tr>\n",
       "      <th>3</th>\n",
       "      <td>No</td>\n",
       "      <td>24.21</td>\n",
       "      <td>No</td>\n",
       "      <td>No</td>\n",
       "      <td>No</td>\n",
       "      <td>0.0</td>\n",
       "      <td>0.0</td>\n",
       "      <td>No</td>\n",
       "      <td>Female</td>\n",
       "      <td>75-79</td>\n",
       "      <td>White</td>\n",
       "      <td>No</td>\n",
       "      <td>No</td>\n",
       "      <td>Good</td>\n",
       "      <td>6.0</td>\n",
       "      <td>No</td>\n",
       "      <td>No</td>\n",
       "      <td>Yes</td>\n",
       "    </tr>\n",
       "    <tr>\n",
       "      <th>4</th>\n",
       "      <td>No</td>\n",
       "      <td>23.71</td>\n",
       "      <td>No</td>\n",
       "      <td>No</td>\n",
       "      <td>No</td>\n",
       "      <td>28.0</td>\n",
       "      <td>0.0</td>\n",
       "      <td>Yes</td>\n",
       "      <td>Female</td>\n",
       "      <td>40-44</td>\n",
       "      <td>White</td>\n",
       "      <td>No</td>\n",
       "      <td>Yes</td>\n",
       "      <td>Very good</td>\n",
       "      <td>8.0</td>\n",
       "      <td>No</td>\n",
       "      <td>No</td>\n",
       "      <td>No</td>\n",
       "    </tr>\n",
       "    <tr>\n",
       "      <th>...</th>\n",
       "      <td>...</td>\n",
       "      <td>...</td>\n",
       "      <td>...</td>\n",
       "      <td>...</td>\n",
       "      <td>...</td>\n",
       "      <td>...</td>\n",
       "      <td>...</td>\n",
       "      <td>...</td>\n",
       "      <td>...</td>\n",
       "      <td>...</td>\n",
       "      <td>...</td>\n",
       "      <td>...</td>\n",
       "      <td>...</td>\n",
       "      <td>...</td>\n",
       "      <td>...</td>\n",
       "      <td>...</td>\n",
       "      <td>...</td>\n",
       "      <td>...</td>\n",
       "    </tr>\n",
       "    <tr>\n",
       "      <th>319789</th>\n",
       "      <td>No</td>\n",
       "      <td>22.22</td>\n",
       "      <td>No</td>\n",
       "      <td>No</td>\n",
       "      <td>No</td>\n",
       "      <td>0.0</td>\n",
       "      <td>0.0</td>\n",
       "      <td>No</td>\n",
       "      <td>Female</td>\n",
       "      <td>18-24</td>\n",
       "      <td>Hispanic</td>\n",
       "      <td>No</td>\n",
       "      <td>Yes</td>\n",
       "      <td>Excellent</td>\n",
       "      <td>8.0</td>\n",
       "      <td>No</td>\n",
       "      <td>No</td>\n",
       "      <td>No</td>\n",
       "    </tr>\n",
       "    <tr>\n",
       "      <th>319791</th>\n",
       "      <td>No</td>\n",
       "      <td>29.84</td>\n",
       "      <td>Yes</td>\n",
       "      <td>No</td>\n",
       "      <td>No</td>\n",
       "      <td>0.0</td>\n",
       "      <td>0.0</td>\n",
       "      <td>No</td>\n",
       "      <td>Male</td>\n",
       "      <td>35-39</td>\n",
       "      <td>Hispanic</td>\n",
       "      <td>No</td>\n",
       "      <td>Yes</td>\n",
       "      <td>Very good</td>\n",
       "      <td>5.0</td>\n",
       "      <td>Yes</td>\n",
       "      <td>No</td>\n",
       "      <td>No</td>\n",
       "    </tr>\n",
       "    <tr>\n",
       "      <th>319792</th>\n",
       "      <td>No</td>\n",
       "      <td>24.24</td>\n",
       "      <td>No</td>\n",
       "      <td>No</td>\n",
       "      <td>No</td>\n",
       "      <td>0.0</td>\n",
       "      <td>0.0</td>\n",
       "      <td>No</td>\n",
       "      <td>Female</td>\n",
       "      <td>45-49</td>\n",
       "      <td>Hispanic</td>\n",
       "      <td>No</td>\n",
       "      <td>Yes</td>\n",
       "      <td>Good</td>\n",
       "      <td>6.0</td>\n",
       "      <td>No</td>\n",
       "      <td>No</td>\n",
       "      <td>No</td>\n",
       "    </tr>\n",
       "    <tr>\n",
       "      <th>319793</th>\n",
       "      <td>No</td>\n",
       "      <td>32.81</td>\n",
       "      <td>No</td>\n",
       "      <td>No</td>\n",
       "      <td>No</td>\n",
       "      <td>0.0</td>\n",
       "      <td>0.0</td>\n",
       "      <td>No</td>\n",
       "      <td>Female</td>\n",
       "      <td>25-29</td>\n",
       "      <td>Hispanic</td>\n",
       "      <td>No</td>\n",
       "      <td>No</td>\n",
       "      <td>Good</td>\n",
       "      <td>12.0</td>\n",
       "      <td>No</td>\n",
       "      <td>No</td>\n",
       "      <td>No</td>\n",
       "    </tr>\n",
       "    <tr>\n",
       "      <th>319794</th>\n",
       "      <td>No</td>\n",
       "      <td>46.56</td>\n",
       "      <td>No</td>\n",
       "      <td>No</td>\n",
       "      <td>No</td>\n",
       "      <td>0.0</td>\n",
       "      <td>0.0</td>\n",
       "      <td>No</td>\n",
       "      <td>Female</td>\n",
       "      <td>80 or older</td>\n",
       "      <td>Hispanic</td>\n",
       "      <td>No</td>\n",
       "      <td>Yes</td>\n",
       "      <td>Good</td>\n",
       "      <td>8.0</td>\n",
       "      <td>No</td>\n",
       "      <td>No</td>\n",
       "      <td>No</td>\n",
       "    </tr>\n",
       "  </tbody>\n",
       "</table>\n",
       "<p>292422 rows × 18 columns</p>\n",
       "</div>"
      ],
      "text/plain": [
       "       HeartDisease    BMI Smoking AlcoholDrinking Stroke  PhysicalHealth  \\\n",
       "0                No  16.60     Yes              No     No             3.0   \n",
       "1                No  20.34      No              No    Yes             0.0   \n",
       "2                No  26.58     Yes              No     No            20.0   \n",
       "3                No  24.21      No              No     No             0.0   \n",
       "4                No  23.71      No              No     No            28.0   \n",
       "...             ...    ...     ...             ...    ...             ...   \n",
       "319789           No  22.22      No              No     No             0.0   \n",
       "319791           No  29.84     Yes              No     No             0.0   \n",
       "319792           No  24.24      No              No     No             0.0   \n",
       "319793           No  32.81      No              No     No             0.0   \n",
       "319794           No  46.56      No              No     No             0.0   \n",
       "\n",
       "        MentalHealth DiffWalking     Sex  AgeCategory      Race Diabetic  \\\n",
       "0               30.0          No  Female        55-59     White      Yes   \n",
       "1                0.0          No  Female  80 or older     White       No   \n",
       "2               30.0          No    Male        65-69     White      Yes   \n",
       "3                0.0          No  Female        75-79     White       No   \n",
       "4                0.0         Yes  Female        40-44     White       No   \n",
       "...              ...         ...     ...          ...       ...      ...   \n",
       "319789           0.0          No  Female        18-24  Hispanic       No   \n",
       "319791           0.0          No    Male        35-39  Hispanic       No   \n",
       "319792           0.0          No  Female        45-49  Hispanic       No   \n",
       "319793           0.0          No  Female        25-29  Hispanic       No   \n",
       "319794           0.0          No  Female  80 or older  Hispanic       No   \n",
       "\n",
       "       PhysicalActivity  GenHealth  SleepTime Asthma KidneyDisease SkinCancer  \n",
       "0                   Yes  Very good        5.0    Yes            No        Yes  \n",
       "1                   Yes  Very good        7.0     No            No         No  \n",
       "2                   Yes       Fair        8.0    Yes            No         No  \n",
       "3                    No       Good        6.0     No            No        Yes  \n",
       "4                   Yes  Very good        8.0     No            No         No  \n",
       "...                 ...        ...        ...    ...           ...        ...  \n",
       "319789              Yes  Excellent        8.0     No            No         No  \n",
       "319791              Yes  Very good        5.0    Yes            No         No  \n",
       "319792              Yes       Good        6.0     No            No         No  \n",
       "319793               No       Good       12.0     No            No         No  \n",
       "319794              Yes       Good        8.0     No            No         No  \n",
       "\n",
       "[292422 rows x 18 columns]"
      ]
     },
     "execution_count": 24,
     "metadata": {},
     "output_type": "execute_result"
    }
   ],
   "source": [
    "case_no"
   ]
  },
  {
   "cell_type": "code",
   "execution_count": 25,
   "id": "3f7c2dc1",
   "metadata": {
    "scrolled": true
   },
   "outputs": [
    {
     "data": {
      "image/png": "[encoded data removed]",
      "text/plain": [
       "<Figure size 432x288 with 1 Axes>"
      ]
     },
     "metadata": {},
     "output_type": "display_data"
    }
   ],
   "source": [
    "sns.kdeplot(case_yes['BMI'],color='purple',shade=True)\n",
    "plt.title('Probability Of BMI of HeartDisease Patient\\n',fontsize = 20,color = 'b')\n",
    "plt.xlabel('\\nBMI',fontsize = 16,color ='red')\n",
    "plt.ylabel('Density\\n',fontsize = 16,color = 'red')\n",
    "plt.show()"
   ]
  },
  {
   "cell_type": "markdown",
   "id": "06f0dace",
   "metadata": {},
   "source": [
    "### Observation :-\n",
    "* From the above Univariate KDE(Kernal Distribution Estimation) graph we can say that if a person has a HeartDisease he/she has a maximum chances of having a bad BMI."
   ]
  },
  {
   "cell_type": "code",
   "execution_count": 26,
   "id": "c5320c6d",
   "metadata": {},
   "outputs": [
    {
     "name": "stdout",
     "output_type": "stream",
     "text": [
      "Count of People Having HeartDisease on the basis on GenHealth\n"
     ]
    },
    {
     "data": {
      "text/html": [
       "<div>\n",
       "<style scoped>\n",
       "    .dataframe tbody tr th:only-of-type {\n",
       "        vertical-align: middle;\n",
       "    }\n",
       "\n",
       "    .dataframe tbody tr th {\n",
       "        vertical-align: top;\n",
       "    }\n",
       "\n",
       "    .dataframe thead th {\n",
       "        text-align: right;\n",
       "    }\n",
       "</style>\n",
       "<table border=\"1\" class=\"dataframe\">\n",
       "  <thead>\n",
       "    <tr style=\"text-align: right;\">\n",
       "      <th></th>\n",
       "      <th>HeartDisease</th>\n",
       "    </tr>\n",
       "    <tr>\n",
       "      <th>GenHealth</th>\n",
       "      <th></th>\n",
       "    </tr>\n",
       "  </thead>\n",
       "  <tbody>\n",
       "    <tr>\n",
       "      <th>Excellent</th>\n",
       "      <td>1500</td>\n",
       "    </tr>\n",
       "    <tr>\n",
       "      <th>Fair</th>\n",
       "      <td>7084</td>\n",
       "    </tr>\n",
       "    <tr>\n",
       "      <th>Good</th>\n",
       "      <td>9558</td>\n",
       "    </tr>\n",
       "    <tr>\n",
       "      <th>Poor</th>\n",
       "      <td>3850</td>\n",
       "    </tr>\n",
       "    <tr>\n",
       "      <th>Very good</th>\n",
       "      <td>5381</td>\n",
       "    </tr>\n",
       "  </tbody>\n",
       "</table>\n",
       "</div>"
      ],
      "text/plain": [
       "           HeartDisease\n",
       "GenHealth              \n",
       "Excellent          1500\n",
       "Fair               7084\n",
       "Good               9558\n",
       "Poor               3850\n",
       "Very good          5381"
      ]
     },
     "execution_count": 26,
     "metadata": {},
     "output_type": "execute_result"
    }
   ],
   "source": [
    "print('Count of People Having HeartDisease on the basis on GenHealth')\n",
    "pivot_3 = case_yes.pivot_table(                     # Creating a pivot_table with data 'case_yes'\n",
    "    index=['GenHealth'],                      # Shows the values of 'GenHealth' feature\n",
    "    values=['HeartDisease'],sort=('GenHealth'),aggfunc='count'# Count of HeartDisease Patient as per GenHealth \n",
    ")\n",
    "pivot_3                                       # printing pivot_table"
   ]
  },
  {
   "cell_type": "code",
   "execution_count": 27,
   "id": "dac62c8b",
   "metadata": {},
   "outputs": [
    {
     "data": {
      "image/png": "[encoded data removed]",
      "text/plain": [
       "<Figure size 720x360 with 1 Axes>"
      ]
     },
     "metadata": {},
     "output_type": "display_data"
    }
   ],
   "source": [
    "fig = plt.subplots(figsize=(10, 5))\n",
    "sns.countplot('GenHealth',data = case_yes,palette = 'coolwarm')\n",
    "plt.title('\\nGenHealth V/S Count of People Having HeartDisease\\n',fontsize=22,color='purple')\n",
    "plt.xlabel('\\nGenHealth',fontsize=16,color='b')\n",
    "plt.ylabel('Count of People\\n',fontsize=16,color='b')\n",
    "plt.show()"
   ]
  },
  {
   "cell_type": "markdown",
   "id": "bd7b6fe4",
   "metadata": {},
   "source": [
    "### Observation :-\n",
    "* From the above Count plot we can say that even if a person has a 'Good' General Health he/she may have a chance of having a Heart Disease."
   ]
  },
  {
   "cell_type": "code",
   "execution_count": 28,
   "id": "60f997f5",
   "metadata": {},
   "outputs": [
    {
     "name": "stdout",
     "output_type": "stream",
     "text": [
      "Count of People not Having HeartDisease on the basis on GenHealth\n"
     ]
    },
    {
     "data": {
      "text/html": [
       "<div>\n",
       "<style scoped>\n",
       "    .dataframe tbody tr th:only-of-type {\n",
       "        vertical-align: middle;\n",
       "    }\n",
       "\n",
       "    .dataframe tbody tr th {\n",
       "        vertical-align: top;\n",
       "    }\n",
       "\n",
       "    .dataframe thead th {\n",
       "        text-align: right;\n",
       "    }\n",
       "</style>\n",
       "<table border=\"1\" class=\"dataframe\">\n",
       "  <thead>\n",
       "    <tr style=\"text-align: right;\">\n",
       "      <th></th>\n",
       "      <th>HeartDisease</th>\n",
       "    </tr>\n",
       "    <tr>\n",
       "      <th>GenHealth</th>\n",
       "      <th></th>\n",
       "    </tr>\n",
       "  </thead>\n",
       "  <tbody>\n",
       "    <tr>\n",
       "      <th>Excellent</th>\n",
       "      <td>65342</td>\n",
       "    </tr>\n",
       "    <tr>\n",
       "      <th>Fair</th>\n",
       "      <td>27593</td>\n",
       "    </tr>\n",
       "    <tr>\n",
       "      <th>Good</th>\n",
       "      <td>83571</td>\n",
       "    </tr>\n",
       "    <tr>\n",
       "      <th>Poor</th>\n",
       "      <td>7439</td>\n",
       "    </tr>\n",
       "    <tr>\n",
       "      <th>Very good</th>\n",
       "      <td>108477</td>\n",
       "    </tr>\n",
       "  </tbody>\n",
       "</table>\n",
       "</div>"
      ],
      "text/plain": [
       "           HeartDisease\n",
       "GenHealth              \n",
       "Excellent         65342\n",
       "Fair              27593\n",
       "Good              83571\n",
       "Poor               7439\n",
       "Very good        108477"
      ]
     },
     "execution_count": 28,
     "metadata": {},
     "output_type": "execute_result"
    }
   ],
   "source": [
    "print('Count of People not Having HeartDisease on the basis on GenHealth')\n",
    "pivot_4 = case_no.pivot_table(                   # Creating a pivot_table with data 'case_no'\n",
    "    index=['GenHealth'],                    # Shows the values of 'GenHealth' feature\n",
    "    values=['HeartDisease'],sort=('GenHealth'),aggfunc='count' # Count of people not having HeartDisease as per GenHealth\n",
    ")\n",
    "pivot_4                                     # printing pivot_table"
   ]
  },
  {
   "cell_type": "code",
   "execution_count": 29,
   "id": "95abf696",
   "metadata": {},
   "outputs": [
    {
     "data": {
      "image/png": "[encoded data removed]",
      "text/plain": [
       "<Figure size 720x360 with 1 Axes>"
      ]
     },
     "metadata": {},
     "output_type": "display_data"
    }
   ],
   "source": [
    "fig = plt.subplots(figsize=(10, 5))\n",
    "sns.countplot('GenHealth',data = case_no,palette = 'pastel')\n",
    "plt.title('\\nGenHealth V/S Count of People Not Having HeartDisease\\n',fontsize=22,color='purple')\n",
    "plt.xlabel('\\nGenHealth',fontsize=16,color='b')\n",
    "plt.ylabel('Count of People\\n',fontsize=16,color='b')\n",
    "plt.show()"
   ]
  },
  {
   "cell_type": "markdown",
   "id": "3a742843",
   "metadata": {},
   "source": [
    "### Observation :-\n",
    "* From the above Count plot we can say that if a person has a 'Very Good' General Health he/she may have a very less chances of having a Heart Disease."
   ]
  },
  {
   "cell_type": "code",
   "execution_count": 30,
   "id": "777f5921",
   "metadata": {},
   "outputs": [
    {
     "name": "stdout",
     "output_type": "stream",
     "text": [
      "Race wise a person having HeartDisease\n"
     ]
    },
    {
     "data": {
      "text/html": [
       "<div>\n",
       "<style scoped>\n",
       "    .dataframe tbody tr th:only-of-type {\n",
       "        vertical-align: middle;\n",
       "    }\n",
       "\n",
       "    .dataframe tbody tr th {\n",
       "        vertical-align: top;\n",
       "    }\n",
       "\n",
       "    .dataframe thead th {\n",
       "        text-align: right;\n",
       "    }\n",
       "</style>\n",
       "<table border=\"1\" class=\"dataframe\">\n",
       "  <thead>\n",
       "    <tr style=\"text-align: right;\">\n",
       "      <th></th>\n",
       "      <th>HeartDisease</th>\n",
       "    </tr>\n",
       "    <tr>\n",
       "      <th>Race</th>\n",
       "      <th></th>\n",
       "    </tr>\n",
       "  </thead>\n",
       "  <tbody>\n",
       "    <tr>\n",
       "      <th>American Indian/Alaskan Native</th>\n",
       "      <td>5202</td>\n",
       "    </tr>\n",
       "    <tr>\n",
       "      <th>Asian</th>\n",
       "      <td>8068</td>\n",
       "    </tr>\n",
       "    <tr>\n",
       "      <th>Black</th>\n",
       "      <td>22939</td>\n",
       "    </tr>\n",
       "    <tr>\n",
       "      <th>Hispanic</th>\n",
       "      <td>27446</td>\n",
       "    </tr>\n",
       "    <tr>\n",
       "      <th>Other</th>\n",
       "      <td>10928</td>\n",
       "    </tr>\n",
       "    <tr>\n",
       "      <th>White</th>\n",
       "      <td>245212</td>\n",
       "    </tr>\n",
       "  </tbody>\n",
       "</table>\n",
       "</div>"
      ],
      "text/plain": [
       "                                HeartDisease\n",
       "Race                                        \n",
       "American Indian/Alaskan Native          5202\n",
       "Asian                                   8068\n",
       "Black                                  22939\n",
       "Hispanic                               27446\n",
       "Other                                  10928\n",
       "White                                 245212"
      ]
     },
     "execution_count": 30,
     "metadata": {},
     "output_type": "execute_result"
    }
   ],
   "source": [
    "print('Race wise a person having HeartDisease')\n",
    "pivot_5 = d1.pivot_table(                  # Creating a pivot_table with data 'd1'\n",
    "        index =['Race'],                   # Shows the values of 'Race' feature\n",
    "        values = ['HeartDisease'],sort=('Race'),aggfunc = 'count' # Count of people having HeartDisease as per Race\n",
    ")\n",
    "pivot_5                                    # printing pivot_table"
   ]
  },
  {
   "cell_type": "code",
   "execution_count": 31,
   "id": "72ab4004",
   "metadata": {},
   "outputs": [
    {
     "data": {
      "image/png": "[encoded data removed]",
      "text/plain": [
       "<Figure size 720x360 with 1 Axes>"
      ]
     },
     "metadata": {},
     "output_type": "display_data"
    }
   ],
   "source": [
    "d_2=case_yes.copy()\n",
    "sns.set()\n",
    "d_2.groupby('Race')[['HeartDisease']].count().plot.bar(color='r',figsize=(10,5))\n",
    "plt.title('Race Wise Person Having HeartDisease\\n',fontsize=22,color='green')\n",
    "plt.xlabel('Race',fontsize=18,color = 'blue')\n",
    "plt.ylabel('Count of People\\n',fontsize=14,color='blue')\n",
    "plt.xticks(rotation=75,fontsize=13)\n",
    "plt.show()"
   ]
  },
  {
   "cell_type": "markdown",
   "id": "bf0d1ace",
   "metadata": {},
   "source": [
    "### Observation :-\n",
    "* From the above bar graph we can say that 'White' Race people have maximum cases of Heart Disease.\n",
    "* 'Asian' people have the least chances of having a Heart Disease."
   ]
  },
  {
   "cell_type": "code",
   "execution_count": 32,
   "id": "6e76e01c",
   "metadata": {},
   "outputs": [
    {
     "name": "stdout",
     "output_type": "stream",
     "text": [
      "AgeCategory wise a person having HeartDisease\n"
     ]
    },
    {
     "data": {
      "text/html": [
       "<div>\n",
       "<style scoped>\n",
       "    .dataframe tbody tr th:only-of-type {\n",
       "        vertical-align: middle;\n",
       "    }\n",
       "\n",
       "    .dataframe tbody tr th {\n",
       "        vertical-align: top;\n",
       "    }\n",
       "\n",
       "    .dataframe thead th {\n",
       "        text-align: right;\n",
       "    }\n",
       "</style>\n",
       "<table border=\"1\" class=\"dataframe\">\n",
       "  <thead>\n",
       "    <tr style=\"text-align: right;\">\n",
       "      <th></th>\n",
       "      <th>HeartDisease</th>\n",
       "    </tr>\n",
       "    <tr>\n",
       "      <th>AgeCategory</th>\n",
       "      <th></th>\n",
       "    </tr>\n",
       "  </thead>\n",
       "  <tbody>\n",
       "    <tr>\n",
       "      <th>18-24</th>\n",
       "      <td>130</td>\n",
       "    </tr>\n",
       "    <tr>\n",
       "      <th>25-29</th>\n",
       "      <td>133</td>\n",
       "    </tr>\n",
       "    <tr>\n",
       "      <th>30-34</th>\n",
       "      <td>226</td>\n",
       "    </tr>\n",
       "    <tr>\n",
       "      <th>35-39</th>\n",
       "      <td>296</td>\n",
       "    </tr>\n",
       "    <tr>\n",
       "      <th>40-44</th>\n",
       "      <td>486</td>\n",
       "    </tr>\n",
       "    <tr>\n",
       "      <th>45-49</th>\n",
       "      <td>744</td>\n",
       "    </tr>\n",
       "    <tr>\n",
       "      <th>50-54</th>\n",
       "      <td>1383</td>\n",
       "    </tr>\n",
       "    <tr>\n",
       "      <th>55-59</th>\n",
       "      <td>2202</td>\n",
       "    </tr>\n",
       "    <tr>\n",
       "      <th>60-64</th>\n",
       "      <td>3327</td>\n",
       "    </tr>\n",
       "    <tr>\n",
       "      <th>65-69</th>\n",
       "      <td>4101</td>\n",
       "    </tr>\n",
       "    <tr>\n",
       "      <th>70-74</th>\n",
       "      <td>4847</td>\n",
       "    </tr>\n",
       "    <tr>\n",
       "      <th>75-79</th>\n",
       "      <td>4049</td>\n",
       "    </tr>\n",
       "    <tr>\n",
       "      <th>80 or older</th>\n",
       "      <td>5449</td>\n",
       "    </tr>\n",
       "  </tbody>\n",
       "</table>\n",
       "</div>"
      ],
      "text/plain": [
       "             HeartDisease\n",
       "AgeCategory              \n",
       "18-24                 130\n",
       "25-29                 133\n",
       "30-34                 226\n",
       "35-39                 296\n",
       "40-44                 486\n",
       "45-49                 744\n",
       "50-54                1383\n",
       "55-59                2202\n",
       "60-64                3327\n",
       "65-69                4101\n",
       "70-74                4847\n",
       "75-79                4049\n",
       "80 or older          5449"
      ]
     },
     "execution_count": 32,
     "metadata": {},
     "output_type": "execute_result"
    }
   ],
   "source": [
    "print('AgeCategory wise a person having HeartDisease')\n",
    "d1 = case_yes.copy()                             \n",
    "pivot_6 = d1.pivot_table(                  # Creating a pivot_table with data 'case_yes'\n",
    "        index = ['AgeCategory'],           # Shows the values of 'AgeCategory' feature\n",
    "        values = ['HeartDisease'],sort = ['AgeCategory'],aggfunc = 'count') # Count of people having HeartDisease as per AgeCategory\n",
    "pivot_6                                    # printing pivot_table"
   ]
  },
  {
   "cell_type": "code",
   "execution_count": 33,
   "id": "d1114572",
   "metadata": {},
   "outputs": [
    {
     "data": {
      "image/png": "[encoded data removed]",
      "text/plain": [
       "<Figure size 1080x360 with 1 Axes>"
      ]
     },
     "metadata": {},
     "output_type": "display_data"
    }
   ],
   "source": [
    "d_3=case_yes.copy()\n",
    "d_3.groupby('AgeCategory')[['HeartDisease']].count().plot.bar(color='g',figsize=(15,5))\n",
    "plt.title('AgeCategory wise a person having HeartDisease\\n',fontsize=22,color='purple')\n",
    "plt.xlabel('AgeCategory',fontsize=18,color = 'red')\n",
    "plt.ylabel('Count of People',fontsize=14,color = 'red')\n",
    "plt.show()"
   ]
  },
  {
   "cell_type": "markdown",
   "id": "21b4ecb1",
   "metadata": {},
   "source": [
    "### Observation :-\n",
    "* From the above Bar graph we can say that people having age more than 80+ have more chances of having a Heart Disease.\n",
    "* People of Age Category 18-24 has the least chances of having a Heart Disease."
   ]
  },
  {
   "cell_type": "code",
   "execution_count": 34,
   "id": "d7a98448",
   "metadata": {},
   "outputs": [
    {
     "name": "stdout",
     "output_type": "stream",
     "text": [
      "Count of people involved in PhysicaActivity\n"
     ]
    },
    {
     "data": {
      "text/html": [
       "<div>\n",
       "<style scoped>\n",
       "    .dataframe tbody tr th:only-of-type {\n",
       "        vertical-align: middle;\n",
       "    }\n",
       "\n",
       "    .dataframe tbody tr th {\n",
       "        vertical-align: top;\n",
       "    }\n",
       "\n",
       "    .dataframe thead th {\n",
       "        text-align: right;\n",
       "    }\n",
       "</style>\n",
       "<table border=\"1\" class=\"dataframe\">\n",
       "  <thead>\n",
       "    <tr style=\"text-align: right;\">\n",
       "      <th></th>\n",
       "      <th>PhysicalActivity</th>\n",
       "    </tr>\n",
       "    <tr>\n",
       "      <th>Sex</th>\n",
       "      <th></th>\n",
       "    </tr>\n",
       "  </thead>\n",
       "  <tbody>\n",
       "    <tr>\n",
       "      <th>Female</th>\n",
       "      <td>11234</td>\n",
       "    </tr>\n",
       "    <tr>\n",
       "      <th>Male</th>\n",
       "      <td>16139</td>\n",
       "    </tr>\n",
       "  </tbody>\n",
       "</table>\n",
       "</div>"
      ],
      "text/plain": [
       "        PhysicalActivity\n",
       "Sex                     \n",
       "Female             11234\n",
       "Male               16139"
      ]
     },
     "execution_count": 34,
     "metadata": {},
     "output_type": "execute_result"
    }
   ],
   "source": [
    "print('Count of people involved in PhysicaActivity')\n",
    "d1 = case_yes.copy()  \n",
    "pivot_7 = d1.pivot_table(                   # Creating a pivot_table with data 'case_yes'\n",
    "        index = ['Sex'],                    # Shows the values of 'Sex' feature\n",
    "        values = ['PhysicalActivity'],sort = ['Sex'],aggfunc = 'count') # Count of people involved in PhysicalActivity as per Sex\n",
    "pivot_7                                     # printing pivot_table"
   ]
  },
  {
   "cell_type": "code",
   "execution_count": 35,
   "id": "e7c355f5",
   "metadata": {},
   "outputs": [
    {
     "data": {
      "image/png": "[encoded data removed]",
      "text/plain": [
       "<Figure size 432x288 with 1 Axes>"
      ]
     },
     "metadata": {},
     "output_type": "display_data"
    }
   ],
   "source": [
    "sns.countplot('Sex',data = case_yes,palette = 'bright')\n",
    "plt.title('Count of Male and Female involved in Physical Activity\\n',fontsize=20,color='green')\n",
    "plt.xlabel('\\nSex',fontsize=16,color = 'red')\n",
    "plt.ylabel('Count\\n',fontsize=16,color = 'red')\n",
    "plt.show()"
   ]
  },
  {
   "cell_type": "markdown",
   "id": "19916ace",
   "metadata": {},
   "source": [
    "### Observation :-\n",
    "* From the above Count plot we can say that 'Males' are more involved in any kind of Physical Activity as compared to 'Female'."
   ]
  },
  {
   "cell_type": "code",
   "execution_count": 36,
   "id": "194d4ebb",
   "metadata": {},
   "outputs": [
    {
     "data": {
      "image/png": "[encoded data removed]",
      "text/plain": [
       "<Figure size 720x360 with 1 Axes>"
      ]
     },
     "metadata": {},
     "output_type": "display_data"
    }
   ],
   "source": [
    "fig = plt.subplots(figsize=(10, 5))\n",
    "sns.lineplot('MentalHealth','HeartDisease',data=df,color='r',label='MentalHealth')\n",
    "sns.lineplot('PhysicalHealth','HeartDisease',data=df,color='b',label='PhysicalHealth')\n",
    "plt.title('Heart Disease as per Mental and Physical Health\\n',fontsize=20,color = 'Blue')\n",
    "plt.xlabel('\\nHealth',fontsize=16,color='red')\n",
    "plt.ylabel('HeartDisease\\n',fontsize=16,color='red')\n",
    "plt.legend()\n",
    "plt.show()"
   ]
  },
  {
   "cell_type": "markdown",
   "id": "761fb28c",
   "metadata": {},
   "source": [
    "### Observation :-\n",
    "* From the above line graph we can say that if a person is having poor Mental and Physical Health, he/she may have more chances of having a Heart Disease."
   ]
  },
  {
   "cell_type": "code",
   "execution_count": 37,
   "id": "4e99bf3a",
   "metadata": {},
   "outputs": [
    {
     "data": {
      "image/png": "[encoded data removed]",
      "text/plain": [
       "<Figure size 1080x360 with 1 Axes>"
      ]
     },
     "metadata": {},
     "output_type": "display_data"
    }
   ],
   "source": [
    "fig = plt.subplots(figsize=(15, 5))\n",
    "sns.lineplot('AgeCategory','SleepTime',data=df,color='b',label='Age',ms=12,marker='*',mfc='r')\n",
    "plt.title('Age wise SleepTime of People\\n',fontsize=20,color='Blue')\n",
    "plt.xlabel('\\nAgeCategory',fontsize=16,color='green')\n",
    "plt.ylabel('SleepTime\\n',fontsize=16,color='green')\n",
    "plt.legend()\n",
    "plt.show()"
   ]
  },
  {
   "cell_type": "markdown",
   "id": "67fe354c",
   "metadata": {},
   "source": [
    "### Observation :- \n",
    "* In the above line graph we can see the SleepTime hours of a person with respect to Age Category.\n",
    "* People having age 80+ have the maximum SleepTime.\n",
    "* People under the age of 35-39 have least hours of SleepTime."
   ]
  },
  {
   "cell_type": "markdown",
   "id": "c67bd923",
   "metadata": {},
   "source": [
    "### * Information about each features *"
   ]
  },
  {
   "cell_type": "code",
   "execution_count": 38,
   "id": "76975de2",
   "metadata": {},
   "outputs": [
    {
     "data": {
      "image/png": "[encoded data removed]",
      "text/plain": [
       "<Figure size 432x288 with 2 Axes>"
      ]
     },
     "metadata": {},
     "output_type": "display_data"
    }
   ],
   "source": [
    "plt.subplot(1,2,1)\n",
    "palette_color = sns.color_palette('pastel')\n",
    "keys = ['No','Yes']\n",
    "plt.pie(x=df.Smoking.value_counts(),labels=keys,colors = palette_color,autopct='%1.1f%%')\n",
    "plt.xlabel('\\nSmoking',fontsize=16,color ='green')\n",
    "\n",
    "color2 = sns.color_palette('RdBu',5)\n",
    "plt.subplot(1,2,2)\n",
    "plt.pie(x=df.AlcoholDrinking.value_counts(),labels=keys,colors=color2,autopct='%1.1f%%')\n",
    "plt.title('No. of People involved in Smoking and AlcoholDrinking\\n',fontsize=20,color = 'b')\n",
    "plt.xlabel('\\nAlcohol',fontsize=16,color ='green')\n",
    "plt.show()"
   ]
  },
  {
   "cell_type": "markdown",
   "id": "581130e1",
   "metadata": {},
   "source": [
    "### Observation :-\n",
    "* From the above pie chart we can say :\n",
    "    - 41.2% of the total observations are addicted to 'Smoking'.\n",
    "    - 6.8% of the total observations are addicted to 'Alcohol'.\n",
    "    "
   ]
  },
  {
   "cell_type": "code",
   "execution_count": 39,
   "id": "a888b82f",
   "metadata": {},
   "outputs": [
    {
     "data": {
      "image/png": "[encoded data removed]",
      "text/plain": [
       "<Figure size 432x288 with 2 Axes>"
      ]
     },
     "metadata": {},
     "output_type": "display_data"
    }
   ],
   "source": [
    "plt.subplot(1,2,1) \n",
    "plt.pie(x=df.Stroke.value_counts(),labels=keys,colors= palette_color,autopct='%1.1f%%')\n",
    "plt.xlabel('\\nStroke',fontsize=16,color ='green')\n",
    "\n",
    "plt.subplot(1,2,2)\n",
    "plt.pie(x=df.DiffWalking.value_counts(),labels=keys,colors=color2,autopct='%1.1f%%')\n",
    "plt.title('No. of People Having Stroke and DiffWalking\\n',fontsize=20,color = 'b')\n",
    "plt.xlabel('\\nDiffWalking',fontsize=16,color ='green')\n",
    "plt.show()"
   ]
  },
  {
   "cell_type": "markdown",
   "id": "01af9270",
   "metadata": {},
   "source": [
    "### Observation :-\n",
    "* From the above pie chart we can say :\n",
    "    - 3.8% of the total observations are having to 'Stroke'.\n",
    "    - 13.9% of the total observations are having to 'Difficulty in Walking'.\n",
    "    "
   ]
  },
  {
   "cell_type": "code",
   "execution_count": 40,
   "id": "88316f5d",
   "metadata": {},
   "outputs": [
    {
     "data": {
      "image/png": "[encoded data removed]",
      "text/plain": [
       "<Figure size 432x288 with 2 Axes>"
      ]
     },
     "metadata": {},
     "output_type": "display_data"
    }
   ],
   "source": [
    "plt.subplot(1,2,1) \n",
    "plt.pie(x=df.Asthma.value_counts(),labels=keys,colors= palette_color,autopct='%1.1f%%')\n",
    "plt.xlabel('\\nAsthma',fontsize=16,color ='green')\n",
    "\n",
    "plt.subplot(1,2,2)\n",
    "plt.pie(x=df.PhysicalActivity.value_counts(),colors=color2,labels=keys,autopct='%1.1f%%')\n",
    "plt.title('No. of People Having Asthma and PhysicalActivity\\n',fontsize=20,color = 'b')\n",
    "plt.xlabel('\\nPhysicalActivity',fontsize=16,color ='green')\n",
    "\n",
    "plt.show()"
   ]
  },
  {
   "cell_type": "markdown",
   "id": "c35718dd",
   "metadata": {},
   "source": [
    "### Observation :-\n",
    "* From the above pie chart we can say :\n",
    "    - 13.4% of the total observations are suffering from 'Asthma'.\n",
    "    - 22.5% of the total observations are involved in 'Physical Activity'.\n",
    "    "
   ]
  },
  {
   "cell_type": "code",
   "execution_count": 41,
   "id": "7fd59cc5",
   "metadata": {},
   "outputs": [
    {
     "data": {
      "image/png": "[encoded data removed]",
      "text/plain": [
       "<Figure size 432x288 with 2 Axes>"
      ]
     },
     "metadata": {},
     "output_type": "display_data"
    }
   ],
   "source": [
    "plt.subplot(1,2,1) \n",
    "plt.pie(x=df.KidneyDisease.value_counts(),labels=keys,colors= palette_color,autopct='%1.1f%%')\n",
    "plt.xlabel('\\nKidneyDisease',fontsize=16,color ='green')\n",
    "\n",
    "plt.subplot(1,2,2)\n",
    "plt.pie(x=df.SkinCancer.value_counts(),labels=keys,colors=color2,autopct='%1.1f%%')\n",
    "plt.title('No. of People Having KidneyDisease and Skincancer\\n',fontsize=20,color = 'b')\n",
    "plt.xlabel('\\nSkinCancer',fontsize=16,color ='green')\n",
    "\n",
    "plt.show()"
   ]
  },
  {
   "cell_type": "markdown",
   "id": "8b68d268",
   "metadata": {},
   "source": [
    "### Observation :-\n",
    "* From the above pie chart we can say :\n",
    "    - 3.7% of the total observations are having to 'KidneyDisease'.\n",
    "    - 9.3% of the total observations are having to 'SkinCancer'.\n",
    "    "
   ]
  },
  {
   "cell_type": "code",
   "execution_count": 42,
   "id": "3ab10536",
   "metadata": {},
   "outputs": [
    {
     "data": {
      "image/png": "[encoded data removed]",
      "text/plain": [
       "<Figure size 432x288 with 1 Axes>"
      ]
     },
     "metadata": {},
     "output_type": "display_data"
    }
   ],
   "source": [
    "plt.pie(x=df.HeartDisease.value_counts(),labels=keys,colors=color2,autopct='%1.1f%%')\n",
    "plt.title('No. of People Having HeartDisease\\n',fontsize=20,color = 'b')\n",
    "plt.xlabel('\\nHeartDisease',fontsize=16,color ='green')\n",
    "plt.show()"
   ]
  },
  {
   "cell_type": "markdown",
   "id": "da65dbd1",
   "metadata": {},
   "source": [
    "### Observation :-\n",
    "* From the above pie chart we can say :\n",
    "    - 8.6% of the total observations are suffering from 'HeartDisease'.\n",
    "    "
   ]
  },
  {
   "cell_type": "code",
   "execution_count": 43,
   "id": "df964110",
   "metadata": {},
   "outputs": [
    {
     "data": {
      "text/html": [
       "<div>\n",
       "<style scoped>\n",
       "    .dataframe tbody tr th:only-of-type {\n",
       "        vertical-align: middle;\n",
       "    }\n",
       "\n",
       "    .dataframe tbody tr th {\n",
       "        vertical-align: top;\n",
       "    }\n",
       "\n",
       "    .dataframe thead th {\n",
       "        text-align: right;\n",
       "    }\n",
       "</style>\n",
       "<table border=\"1\" class=\"dataframe\">\n",
       "  <thead>\n",
       "    <tr style=\"text-align: right;\">\n",
       "      <th></th>\n",
       "      <th>BMI</th>\n",
       "      <th>PhysicalHealth</th>\n",
       "      <th>MentalHealth</th>\n",
       "      <th>SleepTime</th>\n",
       "    </tr>\n",
       "  </thead>\n",
       "  <tbody>\n",
       "    <tr>\n",
       "      <th>BMI</th>\n",
       "      <td>1.000000</td>\n",
       "      <td>0.109788</td>\n",
       "      <td>0.064131</td>\n",
       "      <td>-0.051822</td>\n",
       "    </tr>\n",
       "    <tr>\n",
       "      <th>PhysicalHealth</th>\n",
       "      <td>0.109788</td>\n",
       "      <td>1.000000</td>\n",
       "      <td>0.287987</td>\n",
       "      <td>-0.061387</td>\n",
       "    </tr>\n",
       "    <tr>\n",
       "      <th>MentalHealth</th>\n",
       "      <td>0.064131</td>\n",
       "      <td>0.287987</td>\n",
       "      <td>1.000000</td>\n",
       "      <td>-0.119717</td>\n",
       "    </tr>\n",
       "    <tr>\n",
       "      <th>SleepTime</th>\n",
       "      <td>-0.051822</td>\n",
       "      <td>-0.061387</td>\n",
       "      <td>-0.119717</td>\n",
       "      <td>1.000000</td>\n",
       "    </tr>\n",
       "  </tbody>\n",
       "</table>\n",
       "</div>"
      ],
      "text/plain": [
       "                     BMI  PhysicalHealth  MentalHealth  SleepTime\n",
       "BMI             1.000000        0.109788      0.064131  -0.051822\n",
       "PhysicalHealth  0.109788        1.000000      0.287987  -0.061387\n",
       "MentalHealth    0.064131        0.287987      1.000000  -0.119717\n",
       "SleepTime      -0.051822       -0.061387     -0.119717   1.000000"
      ]
     },
     "execution_count": 43,
     "metadata": {},
     "output_type": "execute_result"
    }
   ],
   "source": [
    "df.corr()"
   ]
  },
  {
   "cell_type": "code",
   "execution_count": 44,
   "id": "374fe364",
   "metadata": {
    "scrolled": true
   },
   "outputs": [
    {
     "data": {
      "image/png": "[encoded data removed]",
      "text/plain": [
       "<Figure size 432x288 with 2 Axes>"
      ]
     },
     "metadata": {},
     "output_type": "display_data"
    }
   ],
   "source": [
    "sns.heatmap(df.corr(),annot = True)\n",
    "plt.title('Correlation Between each features of the DataSet\\n',fontsize = 20,color = 'purple')\n",
    "plt.show()"
   ]
  },
  {
   "cell_type": "markdown",
   "id": "9d78307d",
   "metadata": {},
   "source": [
    "### Observation :- \n",
    "* From the above Heatmap we can say that MentalHealth and PhysicalHealth are highly correlated to each other."
   ]
  },
  {
   "cell_type": "markdown",
   "id": "713404f0",
   "metadata": {},
   "source": [
    "# Implementation of the Model"
   ]
  },
  {
   "cell_type": "markdown",
   "id": "bcd00efe",
   "metadata": {},
   "source": [
    "### Print the information about all the features"
   ]
  },
  {
   "cell_type": "code",
   "execution_count": 45,
   "id": "f4acfe64",
   "metadata": {},
   "outputs": [
    {
     "name": "stdout",
     "output_type": "stream",
     "text": [
      "<class 'pandas.core.frame.DataFrame'>\n",
      "RangeIndex: 319795 entries, 0 to 319794\n",
      "Data columns (total 18 columns):\n",
      " #   Column            Non-Null Count   Dtype  \n",
      "---  ------            --------------   -----  \n",
      " 0   HeartDisease      319795 non-null  object \n",
      " 1   BMI               319795 non-null  float64\n",
      " 2   Smoking           319795 non-null  object \n",
      " 3   AlcoholDrinking   319795 non-null  object \n",
      " 4   Stroke            319795 non-null  object \n",
      " 5   PhysicalHealth    319795 non-null  float64\n",
      " 6   MentalHealth      319795 non-null  float64\n",
      " 7   DiffWalking       319795 non-null  object \n",
      " 8   Sex               319795 non-null  object \n",
      " 9   AgeCategory       319795 non-null  object \n",
      " 10  Race              319795 non-null  object \n",
      " 11  Diabetic          319795 non-null  object \n",
      " 12  PhysicalActivity  319795 non-null  object \n",
      " 13  GenHealth         319795 non-null  object \n",
      " 14  SleepTime         319795 non-null  float64\n",
      " 15  Asthma            319795 non-null  object \n",
      " 16  KidneyDisease     319795 non-null  object \n",
      " 17  SkinCancer        319795 non-null  object \n",
      "dtypes: float64(4), object(14)\n",
      "memory usage: 43.9+ MB\n"
     ]
    }
   ],
   "source": [
    "df.info()"
   ]
  },
  {
   "cell_type": "markdown",
   "id": "1c3be9eb",
   "metadata": {},
   "source": [
    "### Print the dataset"
   ]
  },
  {
   "cell_type": "code",
   "execution_count": 46,
   "id": "4d818f04",
   "metadata": {},
   "outputs": [
    {
     "data": {
      "text/html": [
       "<div>\n",
       "<style scoped>\n",
       "    .dataframe tbody tr th:only-of-type {\n",
       "        vertical-align: middle;\n",
       "    }\n",
       "\n",
       "    .dataframe tbody tr th {\n",
       "        vertical-align: top;\n",
       "    }\n",
       "\n",
       "    .dataframe thead th {\n",
       "        text-align: right;\n",
       "    }\n",
       "</style>\n",
       "<table border=\"1\" class=\"dataframe\">\n",
       "  <thead>\n",
       "    <tr style=\"text-align: right;\">\n",
       "      <th></th>\n",
       "      <th>HeartDisease</th>\n",
       "      <th>BMI</th>\n",
       "      <th>Smoking</th>\n",
       "      <th>AlcoholDrinking</th>\n",
       "      <th>Stroke</th>\n",
       "      <th>PhysicalHealth</th>\n",
       "      <th>MentalHealth</th>\n",
       "      <th>DiffWalking</th>\n",
       "      <th>Sex</th>\n",
       "      <th>AgeCategory</th>\n",
       "      <th>Race</th>\n",
       "      <th>Diabetic</th>\n",
       "      <th>PhysicalActivity</th>\n",
       "      <th>GenHealth</th>\n",
       "      <th>SleepTime</th>\n",
       "      <th>Asthma</th>\n",
       "      <th>KidneyDisease</th>\n",
       "      <th>SkinCancer</th>\n",
       "    </tr>\n",
       "  </thead>\n",
       "  <tbody>\n",
       "    <tr>\n",
       "      <th>0</th>\n",
       "      <td>No</td>\n",
       "      <td>16.60</td>\n",
       "      <td>Yes</td>\n",
       "      <td>No</td>\n",
       "      <td>No</td>\n",
       "      <td>3.0</td>\n",
       "      <td>30.0</td>\n",
       "      <td>No</td>\n",
       "      <td>Female</td>\n",
       "      <td>55-59</td>\n",
       "      <td>White</td>\n",
       "      <td>Yes</td>\n",
       "      <td>Yes</td>\n",
       "      <td>Very good</td>\n",
       "      <td>5.0</td>\n",
       "      <td>Yes</td>\n",
       "      <td>No</td>\n",
       "      <td>Yes</td>\n",
       "    </tr>\n",
       "    <tr>\n",
       "      <th>1</th>\n",
       "      <td>No</td>\n",
       "      <td>20.34</td>\n",
       "      <td>No</td>\n",
       "      <td>No</td>\n",
       "      <td>Yes</td>\n",
       "      <td>0.0</td>\n",
       "      <td>0.0</td>\n",
       "      <td>No</td>\n",
       "      <td>Female</td>\n",
       "      <td>80 or older</td>\n",
       "      <td>White</td>\n",
       "      <td>No</td>\n",
       "      <td>Yes</td>\n",
       "      <td>Very good</td>\n",
       "      <td>7.0</td>\n",
       "      <td>No</td>\n",
       "      <td>No</td>\n",
       "      <td>No</td>\n",
       "    </tr>\n",
       "    <tr>\n",
       "      <th>2</th>\n",
       "      <td>No</td>\n",
       "      <td>26.58</td>\n",
       "      <td>Yes</td>\n",
       "      <td>No</td>\n",
       "      <td>No</td>\n",
       "      <td>20.0</td>\n",
       "      <td>30.0</td>\n",
       "      <td>No</td>\n",
       "      <td>Male</td>\n",
       "      <td>65-69</td>\n",
       "      <td>White</td>\n",
       "      <td>Yes</td>\n",
       "      <td>Yes</td>\n",
       "      <td>Fair</td>\n",
       "      <td>8.0</td>\n",
       "      <td>Yes</td>\n",
       "      <td>No</td>\n",
       "      <td>No</td>\n",
       "    </tr>\n",
       "    <tr>\n",
       "      <th>3</th>\n",
       "      <td>No</td>\n",
       "      <td>24.21</td>\n",
       "      <td>No</td>\n",
       "      <td>No</td>\n",
       "      <td>No</td>\n",
       "      <td>0.0</td>\n",
       "      <td>0.0</td>\n",
       "      <td>No</td>\n",
       "      <td>Female</td>\n",
       "      <td>75-79</td>\n",
       "      <td>White</td>\n",
       "      <td>No</td>\n",
       "      <td>No</td>\n",
       "      <td>Good</td>\n",
       "      <td>6.0</td>\n",
       "      <td>No</td>\n",
       "      <td>No</td>\n",
       "      <td>Yes</td>\n",
       "    </tr>\n",
       "    <tr>\n",
       "      <th>4</th>\n",
       "      <td>No</td>\n",
       "      <td>23.71</td>\n",
       "      <td>No</td>\n",
       "      <td>No</td>\n",
       "      <td>No</td>\n",
       "      <td>28.0</td>\n",
       "      <td>0.0</td>\n",
       "      <td>Yes</td>\n",
       "      <td>Female</td>\n",
       "      <td>40-44</td>\n",
       "      <td>White</td>\n",
       "      <td>No</td>\n",
       "      <td>Yes</td>\n",
       "      <td>Very good</td>\n",
       "      <td>8.0</td>\n",
       "      <td>No</td>\n",
       "      <td>No</td>\n",
       "      <td>No</td>\n",
       "    </tr>\n",
       "    <tr>\n",
       "      <th>...</th>\n",
       "      <td>...</td>\n",
       "      <td>...</td>\n",
       "      <td>...</td>\n",
       "      <td>...</td>\n",
       "      <td>...</td>\n",
       "      <td>...</td>\n",
       "      <td>...</td>\n",
       "      <td>...</td>\n",
       "      <td>...</td>\n",
       "      <td>...</td>\n",
       "      <td>...</td>\n",
       "      <td>...</td>\n",
       "      <td>...</td>\n",
       "      <td>...</td>\n",
       "      <td>...</td>\n",
       "      <td>...</td>\n",
       "      <td>...</td>\n",
       "      <td>...</td>\n",
       "    </tr>\n",
       "    <tr>\n",
       "      <th>319790</th>\n",
       "      <td>Yes</td>\n",
       "      <td>27.41</td>\n",
       "      <td>Yes</td>\n",
       "      <td>No</td>\n",
       "      <td>No</td>\n",
       "      <td>7.0</td>\n",
       "      <td>0.0</td>\n",
       "      <td>Yes</td>\n",
       "      <td>Male</td>\n",
       "      <td>60-64</td>\n",
       "      <td>Hispanic</td>\n",
       "      <td>Yes</td>\n",
       "      <td>No</td>\n",
       "      <td>Fair</td>\n",
       "      <td>6.0</td>\n",
       "      <td>Yes</td>\n",
       "      <td>No</td>\n",
       "      <td>No</td>\n",
       "    </tr>\n",
       "    <tr>\n",
       "      <th>319791</th>\n",
       "      <td>No</td>\n",
       "      <td>29.84</td>\n",
       "      <td>Yes</td>\n",
       "      <td>No</td>\n",
       "      <td>No</td>\n",
       "      <td>0.0</td>\n",
       "      <td>0.0</td>\n",
       "      <td>No</td>\n",
       "      <td>Male</td>\n",
       "      <td>35-39</td>\n",
       "      <td>Hispanic</td>\n",
       "      <td>No</td>\n",
       "      <td>Yes</td>\n",
       "      <td>Very good</td>\n",
       "      <td>5.0</td>\n",
       "      <td>Yes</td>\n",
       "      <td>No</td>\n",
       "      <td>No</td>\n",
       "    </tr>\n",
       "    <tr>\n",
       "      <th>319792</th>\n",
       "      <td>No</td>\n",
       "      <td>24.24</td>\n",
       "      <td>No</td>\n",
       "      <td>No</td>\n",
       "      <td>No</td>\n",
       "      <td>0.0</td>\n",
       "      <td>0.0</td>\n",
       "      <td>No</td>\n",
       "      <td>Female</td>\n",
       "      <td>45-49</td>\n",
       "      <td>Hispanic</td>\n",
       "      <td>No</td>\n",
       "      <td>Yes</td>\n",
       "      <td>Good</td>\n",
       "      <td>6.0</td>\n",
       "      <td>No</td>\n",
       "      <td>No</td>\n",
       "      <td>No</td>\n",
       "    </tr>\n",
       "    <tr>\n",
       "      <th>319793</th>\n",
       "      <td>No</td>\n",
       "      <td>32.81</td>\n",
       "      <td>No</td>\n",
       "      <td>No</td>\n",
       "      <td>No</td>\n",
       "      <td>0.0</td>\n",
       "      <td>0.0</td>\n",
       "      <td>No</td>\n",
       "      <td>Female</td>\n",
       "      <td>25-29</td>\n",
       "      <td>Hispanic</td>\n",
       "      <td>No</td>\n",
       "      <td>No</td>\n",
       "      <td>Good</td>\n",
       "      <td>12.0</td>\n",
       "      <td>No</td>\n",
       "      <td>No</td>\n",
       "      <td>No</td>\n",
       "    </tr>\n",
       "    <tr>\n",
       "      <th>319794</th>\n",
       "      <td>No</td>\n",
       "      <td>46.56</td>\n",
       "      <td>No</td>\n",
       "      <td>No</td>\n",
       "      <td>No</td>\n",
       "      <td>0.0</td>\n",
       "      <td>0.0</td>\n",
       "      <td>No</td>\n",
       "      <td>Female</td>\n",
       "      <td>80 or older</td>\n",
       "      <td>Hispanic</td>\n",
       "      <td>No</td>\n",
       "      <td>Yes</td>\n",
       "      <td>Good</td>\n",
       "      <td>8.0</td>\n",
       "      <td>No</td>\n",
       "      <td>No</td>\n",
       "      <td>No</td>\n",
       "    </tr>\n",
       "  </tbody>\n",
       "</table>\n",
       "<p>319795 rows × 18 columns</p>\n",
       "</div>"
      ],
      "text/plain": [
       "       HeartDisease    BMI Smoking AlcoholDrinking Stroke  PhysicalHealth  \\\n",
       "0                No  16.60     Yes              No     No             3.0   \n",
       "1                No  20.34      No              No    Yes             0.0   \n",
       "2                No  26.58     Yes              No     No            20.0   \n",
       "3                No  24.21      No              No     No             0.0   \n",
       "4                No  23.71      No              No     No            28.0   \n",
       "...             ...    ...     ...             ...    ...             ...   \n",
       "319790          Yes  27.41     Yes              No     No             7.0   \n",
       "319791           No  29.84     Yes              No     No             0.0   \n",
       "319792           No  24.24      No              No     No             0.0   \n",
       "319793           No  32.81      No              No     No             0.0   \n",
       "319794           No  46.56      No              No     No             0.0   \n",
       "\n",
       "        MentalHealth DiffWalking     Sex  AgeCategory      Race Diabetic  \\\n",
       "0               30.0          No  Female        55-59     White      Yes   \n",
       "1                0.0          No  Female  80 or older     White       No   \n",
       "2               30.0          No    Male        65-69     White      Yes   \n",
       "3                0.0          No  Female        75-79     White       No   \n",
       "4                0.0         Yes  Female        40-44     White       No   \n",
       "...              ...         ...     ...          ...       ...      ...   \n",
       "319790           0.0         Yes    Male        60-64  Hispanic      Yes   \n",
       "319791           0.0          No    Male        35-39  Hispanic       No   \n",
       "319792           0.0          No  Female        45-49  Hispanic       No   \n",
       "319793           0.0          No  Female        25-29  Hispanic       No   \n",
       "319794           0.0          No  Female  80 or older  Hispanic       No   \n",
       "\n",
       "       PhysicalActivity  GenHealth  SleepTime Asthma KidneyDisease SkinCancer  \n",
       "0                   Yes  Very good        5.0    Yes            No        Yes  \n",
       "1                   Yes  Very good        7.0     No            No         No  \n",
       "2                   Yes       Fair        8.0    Yes            No         No  \n",
       "3                    No       Good        6.0     No            No        Yes  \n",
       "4                   Yes  Very good        8.0     No            No         No  \n",
       "...                 ...        ...        ...    ...           ...        ...  \n",
       "319790               No       Fair        6.0    Yes            No         No  \n",
       "319791              Yes  Very good        5.0    Yes            No         No  \n",
       "319792              Yes       Good        6.0     No            No         No  \n",
       "319793               No       Good       12.0     No            No         No  \n",
       "319794              Yes       Good        8.0     No            No         No  \n",
       "\n",
       "[319795 rows x 18 columns]"
      ]
     },
     "execution_count": 46,
     "metadata": {},
     "output_type": "execute_result"
    }
   ],
   "source": [
    "df"
   ]
  },
  {
   "cell_type": "markdown",
   "id": "4b8b7e25",
   "metadata": {},
   "source": [
    "### Replacing Character values to Numeric"
   ]
  },
  {
   "cell_type": "code",
   "execution_count": 47,
   "id": "1136f924",
   "metadata": {},
   "outputs": [],
   "source": [
    "df.replace({'No':0,'Yes':1},inplace = True)     # To replace all the 'No' to 0 and 'Yes' to 1"
   ]
  },
  {
   "cell_type": "code",
   "execution_count": 48,
   "id": "1d162556",
   "metadata": {},
   "outputs": [
    {
     "data": {
      "text/plain": [
       "Female    167805\n",
       "Male      151990\n",
       "Name: Sex, dtype: int64"
      ]
     },
     "execution_count": 48,
     "metadata": {},
     "output_type": "execute_result"
    }
   ],
   "source": [
    "df.Sex.value_counts()   # To check the unique values in the 'Sex' feature."
   ]
  },
  {
   "cell_type": "code",
   "execution_count": 49,
   "id": "8ad58947",
   "metadata": {},
   "outputs": [],
   "source": [
    "df.Sex.replace({'Female':0,'Male':1},inplace = True) # To replace all 'Female' to 0 and 'Male' to 1"
   ]
  },
  {
   "cell_type": "code",
   "execution_count": 50,
   "id": "f97c0146",
   "metadata": {},
   "outputs": [
    {
     "data": {
      "text/plain": [
       "25-29          16955\n",
       "30-34          18753\n",
       "35-39          20550\n",
       "40-44          21006\n",
       "18-24          21064\n",
       "75-79          21482\n",
       "45-49          21791\n",
       "80 or older    24153\n",
       "50-54          25382\n",
       "55-59          29757\n",
       "70-74          31065\n",
       "60-64          33686\n",
       "65-69          34151\n",
       "Name: AgeCategory, dtype: int64"
      ]
     },
     "execution_count": 50,
     "metadata": {},
     "output_type": "execute_result"
    }
   ],
   "source": [
    "df.AgeCategory.value_counts().sort_values() # To check the unique values in the 'AgeCategory' feature."
   ]
  },
  {
   "cell_type": "code",
   "execution_count": 51,
   "id": "185b6ae3",
   "metadata": {},
   "outputs": [],
   "source": [
    "df.AgeCategory.replace({'18-24':0,'25-29':1,'30-34':2,'35-39':3,'40-44':4,'45-49':5,'50-54':6,'55-59':7,\n",
    "                         '60-64':8,'65-69':9,'70-74':10,'75-79':11,'80 or older':12},inplace = True)\n",
    "# Replacing each AgeCategory to corresponding numbers"
   ]
  },
  {
   "cell_type": "code",
   "execution_count": 52,
   "id": "a70cf5ab",
   "metadata": {},
   "outputs": [
    {
     "data": {
      "text/plain": [
       "White                             245212\n",
       "Hispanic                           27446\n",
       "Black                              22939\n",
       "Other                              10928\n",
       "Asian                               8068\n",
       "American Indian/Alaskan Native      5202\n",
       "Name: Race, dtype: int64"
      ]
     },
     "execution_count": 52,
     "metadata": {},
     "output_type": "execute_result"
    }
   ],
   "source": [
    "df.Race.value_counts()   # To check the unique values in the 'Race' feature."
   ]
  },
  {
   "cell_type": "code",
   "execution_count": 53,
   "id": "4de82177",
   "metadata": {},
   "outputs": [],
   "source": [
    "df.Race.replace({'White':0,'Hispanic':1,'Black':2,'Other':3,'Asian':4,'American Indian/Alaskan Native':5},inplace = True)\n",
    "# Replacing each Race values to corresponding numbers"
   ]
  },
  {
   "cell_type": "code",
   "execution_count": 54,
   "id": "87daba65",
   "metadata": {},
   "outputs": [
    {
     "data": {
      "text/plain": [
       "0                          269653\n",
       "1                           40802\n",
       "No, borderline diabetes      6781\n",
       "Yes (during pregnancy)       2559\n",
       "Name: Diabetic, dtype: int64"
      ]
     },
     "execution_count": 54,
     "metadata": {},
     "output_type": "execute_result"
    }
   ],
   "source": [
    "df.Diabetic.value_counts()  # To check the unique values in the 'Diabetic' feature."
   ]
  },
  {
   "cell_type": "code",
   "execution_count": 55,
   "id": "fdc61356",
   "metadata": {},
   "outputs": [],
   "source": [
    "df.Diabetic.replace({'No, borderline diabetes':2,'Yes (during pregnancy)':3},inplace = True)"
   ]
  },
  {
   "cell_type": "code",
   "execution_count": 56,
   "id": "317f49aa",
   "metadata": {},
   "outputs": [
    {
     "data": {
      "text/plain": [
       "Very good    113858\n",
       "Good          93129\n",
       "Excellent     66842\n",
       "Fair          34677\n",
       "Poor          11289\n",
       "Name: GenHealth, dtype: int64"
      ]
     },
     "execution_count": 56,
     "metadata": {},
     "output_type": "execute_result"
    }
   ],
   "source": [
    "df.GenHealth.value_counts()  # To check the unique values in the 'GenHealth' feature."
   ]
  },
  {
   "cell_type": "code",
   "execution_count": 57,
   "id": "4e73d043",
   "metadata": {},
   "outputs": [],
   "source": [
    "df.replace({'Poor':0,'Fair':1,'Good':2,'Very good':3,'Excellent':4},inplace = True)\n",
    "# Replacing each GenHealth values to corresponding numbers"
   ]
  },
  {
   "cell_type": "code",
   "execution_count": 58,
   "id": "97c8e678",
   "metadata": {},
   "outputs": [
    {
     "name": "stdout",
     "output_type": "stream",
     "text": [
      "<class 'pandas.core.frame.DataFrame'>\n",
      "RangeIndex: 319795 entries, 0 to 319794\n",
      "Data columns (total 18 columns):\n",
      " #   Column            Non-Null Count   Dtype  \n",
      "---  ------            --------------   -----  \n",
      " 0   HeartDisease      319795 non-null  int64  \n",
      " 1   BMI               319795 non-null  float64\n",
      " 2   Smoking           319795 non-null  int64  \n",
      " 3   AlcoholDrinking   319795 non-null  int64  \n",
      " 4   Stroke            319795 non-null  int64  \n",
      " 5   PhysicalHealth    319795 non-null  float64\n",
      " 6   MentalHealth      319795 non-null  float64\n",
      " 7   DiffWalking       319795 non-null  int64  \n",
      " 8   Sex               319795 non-null  int64  \n",
      " 9   AgeCategory       319795 non-null  int64  \n",
      " 10  Race              319795 non-null  int64  \n",
      " 11  Diabetic          319795 non-null  int64  \n",
      " 12  PhysicalActivity  319795 non-null  int64  \n",
      " 13  GenHealth         319795 non-null  int64  \n",
      " 14  SleepTime         319795 non-null  float64\n",
      " 15  Asthma            319795 non-null  int64  \n",
      " 16  KidneyDisease     319795 non-null  int64  \n",
      " 17  SkinCancer        319795 non-null  int64  \n",
      "dtypes: float64(4), int64(14)\n",
      "memory usage: 43.9 MB\n"
     ]
    }
   ],
   "source": [
    "df.info()"
   ]
  },
  {
   "cell_type": "markdown",
   "id": "16e6ece9",
   "metadata": {},
   "source": [
    "### Observation :-\n",
    "* By above information we can see that all the 'Object' features are converted to 'int'"
   ]
  },
  {
   "cell_type": "markdown",
   "id": "4028991a",
   "metadata": {},
   "source": [
    "### Print the updated dataset"
   ]
  },
  {
   "cell_type": "code",
   "execution_count": 59,
   "id": "9da5f951",
   "metadata": {},
   "outputs": [
    {
     "data": {
      "text/html": [
       "<div>\n",
       "<style scoped>\n",
       "    .dataframe tbody tr th:only-of-type {\n",
       "        vertical-align: middle;\n",
       "    }\n",
       "\n",
       "    .dataframe tbody tr th {\n",
       "        vertical-align: top;\n",
       "    }\n",
       "\n",
       "    .dataframe thead th {\n",
       "        text-align: right;\n",
       "    }\n",
       "</style>\n",
       "<table border=\"1\" class=\"dataframe\">\n",
       "  <thead>\n",
       "    <tr style=\"text-align: right;\">\n",
       "      <th></th>\n",
       "      <th>HeartDisease</th>\n",
       "      <th>BMI</th>\n",
       "      <th>Smoking</th>\n",
       "      <th>AlcoholDrinking</th>\n",
       "      <th>Stroke</th>\n",
       "      <th>PhysicalHealth</th>\n",
       "      <th>MentalHealth</th>\n",
       "      <th>DiffWalking</th>\n",
       "      <th>Sex</th>\n",
       "      <th>AgeCategory</th>\n",
       "      <th>Race</th>\n",
       "      <th>Diabetic</th>\n",
       "      <th>PhysicalActivity</th>\n",
       "      <th>GenHealth</th>\n",
       "      <th>SleepTime</th>\n",
       "      <th>Asthma</th>\n",
       "      <th>KidneyDisease</th>\n",
       "      <th>SkinCancer</th>\n",
       "    </tr>\n",
       "  </thead>\n",
       "  <tbody>\n",
       "    <tr>\n",
       "      <th>0</th>\n",
       "      <td>0</td>\n",
       "      <td>16.60</td>\n",
       "      <td>1</td>\n",
       "      <td>0</td>\n",
       "      <td>0</td>\n",
       "      <td>3.0</td>\n",
       "      <td>30.0</td>\n",
       "      <td>0</td>\n",
       "      <td>0</td>\n",
       "      <td>7</td>\n",
       "      <td>0</td>\n",
       "      <td>1</td>\n",
       "      <td>1</td>\n",
       "      <td>3</td>\n",
       "      <td>5.0</td>\n",
       "      <td>1</td>\n",
       "      <td>0</td>\n",
       "      <td>1</td>\n",
       "    </tr>\n",
       "    <tr>\n",
       "      <th>1</th>\n",
       "      <td>0</td>\n",
       "      <td>20.34</td>\n",
       "      <td>0</td>\n",
       "      <td>0</td>\n",
       "      <td>1</td>\n",
       "      <td>0.0</td>\n",
       "      <td>0.0</td>\n",
       "      <td>0</td>\n",
       "      <td>0</td>\n",
       "      <td>12</td>\n",
       "      <td>0</td>\n",
       "      <td>0</td>\n",
       "      <td>1</td>\n",
       "      <td>3</td>\n",
       "      <td>7.0</td>\n",
       "      <td>0</td>\n",
       "      <td>0</td>\n",
       "      <td>0</td>\n",
       "    </tr>\n",
       "    <tr>\n",
       "      <th>2</th>\n",
       "      <td>0</td>\n",
       "      <td>26.58</td>\n",
       "      <td>1</td>\n",
       "      <td>0</td>\n",
       "      <td>0</td>\n",
       "      <td>20.0</td>\n",
       "      <td>30.0</td>\n",
       "      <td>0</td>\n",
       "      <td>1</td>\n",
       "      <td>9</td>\n",
       "      <td>0</td>\n",
       "      <td>1</td>\n",
       "      <td>1</td>\n",
       "      <td>1</td>\n",
       "      <td>8.0</td>\n",
       "      <td>1</td>\n",
       "      <td>0</td>\n",
       "      <td>0</td>\n",
       "    </tr>\n",
       "    <tr>\n",
       "      <th>3</th>\n",
       "      <td>0</td>\n",
       "      <td>24.21</td>\n",
       "      <td>0</td>\n",
       "      <td>0</td>\n",
       "      <td>0</td>\n",
       "      <td>0.0</td>\n",
       "      <td>0.0</td>\n",
       "      <td>0</td>\n",
       "      <td>0</td>\n",
       "      <td>11</td>\n",
       "      <td>0</td>\n",
       "      <td>0</td>\n",
       "      <td>0</td>\n",
       "      <td>2</td>\n",
       "      <td>6.0</td>\n",
       "      <td>0</td>\n",
       "      <td>0</td>\n",
       "      <td>1</td>\n",
       "    </tr>\n",
       "    <tr>\n",
       "      <th>4</th>\n",
       "      <td>0</td>\n",
       "      <td>23.71</td>\n",
       "      <td>0</td>\n",
       "      <td>0</td>\n",
       "      <td>0</td>\n",
       "      <td>28.0</td>\n",
       "      <td>0.0</td>\n",
       "      <td>1</td>\n",
       "      <td>0</td>\n",
       "      <td>4</td>\n",
       "      <td>0</td>\n",
       "      <td>0</td>\n",
       "      <td>1</td>\n",
       "      <td>3</td>\n",
       "      <td>8.0</td>\n",
       "      <td>0</td>\n",
       "      <td>0</td>\n",
       "      <td>0</td>\n",
       "    </tr>\n",
       "    <tr>\n",
       "      <th>...</th>\n",
       "      <td>...</td>\n",
       "      <td>...</td>\n",
       "      <td>...</td>\n",
       "      <td>...</td>\n",
       "      <td>...</td>\n",
       "      <td>...</td>\n",
       "      <td>...</td>\n",
       "      <td>...</td>\n",
       "      <td>...</td>\n",
       "      <td>...</td>\n",
       "      <td>...</td>\n",
       "      <td>...</td>\n",
       "      <td>...</td>\n",
       "      <td>...</td>\n",
       "      <td>...</td>\n",
       "      <td>...</td>\n",
       "      <td>...</td>\n",
       "      <td>...</td>\n",
       "    </tr>\n",
       "    <tr>\n",
       "      <th>319790</th>\n",
       "      <td>1</td>\n",
       "      <td>27.41</td>\n",
       "      <td>1</td>\n",
       "      <td>0</td>\n",
       "      <td>0</td>\n",
       "      <td>7.0</td>\n",
       "      <td>0.0</td>\n",
       "      <td>1</td>\n",
       "      <td>1</td>\n",
       "      <td>8</td>\n",
       "      <td>1</td>\n",
       "      <td>1</td>\n",
       "      <td>0</td>\n",
       "      <td>1</td>\n",
       "      <td>6.0</td>\n",
       "      <td>1</td>\n",
       "      <td>0</td>\n",
       "      <td>0</td>\n",
       "    </tr>\n",
       "    <tr>\n",
       "      <th>319791</th>\n",
       "      <td>0</td>\n",
       "      <td>29.84</td>\n",
       "      <td>1</td>\n",
       "      <td>0</td>\n",
       "      <td>0</td>\n",
       "      <td>0.0</td>\n",
       "      <td>0.0</td>\n",
       "      <td>0</td>\n",
       "      <td>1</td>\n",
       "      <td>3</td>\n",
       "      <td>1</td>\n",
       "      <td>0</td>\n",
       "      <td>1</td>\n",
       "      <td>3</td>\n",
       "      <td>5.0</td>\n",
       "      <td>1</td>\n",
       "      <td>0</td>\n",
       "      <td>0</td>\n",
       "    </tr>\n",
       "    <tr>\n",
       "      <th>319792</th>\n",
       "      <td>0</td>\n",
       "      <td>24.24</td>\n",
       "      <td>0</td>\n",
       "      <td>0</td>\n",
       "      <td>0</td>\n",
       "      <td>0.0</td>\n",
       "      <td>0.0</td>\n",
       "      <td>0</td>\n",
       "      <td>0</td>\n",
       "      <td>5</td>\n",
       "      <td>1</td>\n",
       "      <td>0</td>\n",
       "      <td>1</td>\n",
       "      <td>2</td>\n",
       "      <td>6.0</td>\n",
       "      <td>0</td>\n",
       "      <td>0</td>\n",
       "      <td>0</td>\n",
       "    </tr>\n",
       "    <tr>\n",
       "      <th>319793</th>\n",
       "      <td>0</td>\n",
       "      <td>32.81</td>\n",
       "      <td>0</td>\n",
       "      <td>0</td>\n",
       "      <td>0</td>\n",
       "      <td>0.0</td>\n",
       "      <td>0.0</td>\n",
       "      <td>0</td>\n",
       "      <td>0</td>\n",
       "      <td>1</td>\n",
       "      <td>1</td>\n",
       "      <td>0</td>\n",
       "      <td>0</td>\n",
       "      <td>2</td>\n",
       "      <td>12.0</td>\n",
       "      <td>0</td>\n",
       "      <td>0</td>\n",
       "      <td>0</td>\n",
       "    </tr>\n",
       "    <tr>\n",
       "      <th>319794</th>\n",
       "      <td>0</td>\n",
       "      <td>46.56</td>\n",
       "      <td>0</td>\n",
       "      <td>0</td>\n",
       "      <td>0</td>\n",
       "      <td>0.0</td>\n",
       "      <td>0.0</td>\n",
       "      <td>0</td>\n",
       "      <td>0</td>\n",
       "      <td>12</td>\n",
       "      <td>1</td>\n",
       "      <td>0</td>\n",
       "      <td>1</td>\n",
       "      <td>2</td>\n",
       "      <td>8.0</td>\n",
       "      <td>0</td>\n",
       "      <td>0</td>\n",
       "      <td>0</td>\n",
       "    </tr>\n",
       "  </tbody>\n",
       "</table>\n",
       "<p>319795 rows × 18 columns</p>\n",
       "</div>"
      ],
      "text/plain": [
       "        HeartDisease    BMI  Smoking  AlcoholDrinking  Stroke  PhysicalHealth  \\\n",
       "0                  0  16.60        1                0       0             3.0   \n",
       "1                  0  20.34        0                0       1             0.0   \n",
       "2                  0  26.58        1                0       0            20.0   \n",
       "3                  0  24.21        0                0       0             0.0   \n",
       "4                  0  23.71        0                0       0            28.0   \n",
       "...              ...    ...      ...              ...     ...             ...   \n",
       "319790             1  27.41        1                0       0             7.0   \n",
       "319791             0  29.84        1                0       0             0.0   \n",
       "319792             0  24.24        0                0       0             0.0   \n",
       "319793             0  32.81        0                0       0             0.0   \n",
       "319794             0  46.56        0                0       0             0.0   \n",
       "\n",
       "        MentalHealth  DiffWalking  Sex  AgeCategory  Race  Diabetic  \\\n",
       "0               30.0            0    0            7     0         1   \n",
       "1                0.0            0    0           12     0         0   \n",
       "2               30.0            0    1            9     0         1   \n",
       "3                0.0            0    0           11     0         0   \n",
       "4                0.0            1    0            4     0         0   \n",
       "...              ...          ...  ...          ...   ...       ...   \n",
       "319790           0.0            1    1            8     1         1   \n",
       "319791           0.0            0    1            3     1         0   \n",
       "319792           0.0            0    0            5     1         0   \n",
       "319793           0.0            0    0            1     1         0   \n",
       "319794           0.0            0    0           12     1         0   \n",
       "\n",
       "        PhysicalActivity  GenHealth  SleepTime  Asthma  KidneyDisease  \\\n",
       "0                      1          3        5.0       1              0   \n",
       "1                      1          3        7.0       0              0   \n",
       "2                      1          1        8.0       1              0   \n",
       "3                      0          2        6.0       0              0   \n",
       "4                      1          3        8.0       0              0   \n",
       "...                  ...        ...        ...     ...            ...   \n",
       "319790                 0          1        6.0       1              0   \n",
       "319791                 1          3        5.0       1              0   \n",
       "319792                 1          2        6.0       0              0   \n",
       "319793                 0          2       12.0       0              0   \n",
       "319794                 1          2        8.0       0              0   \n",
       "\n",
       "        SkinCancer  \n",
       "0                1  \n",
       "1                0  \n",
       "2                0  \n",
       "3                1  \n",
       "4                0  \n",
       "...            ...  \n",
       "319790           0  \n",
       "319791           0  \n",
       "319792           0  \n",
       "319793           0  \n",
       "319794           0  \n",
       "\n",
       "[319795 rows x 18 columns]"
      ]
     },
     "execution_count": 59,
     "metadata": {},
     "output_type": "execute_result"
    }
   ],
   "source": [
    "df"
   ]
  },
  {
   "cell_type": "markdown",
   "id": "43d76e0e",
   "metadata": {},
   "source": [
    "### Assigning the value of x and y for train_test"
   ]
  },
  {
   "cell_type": "code",
   "execution_count": 60,
   "id": "1df70665",
   "metadata": {},
   "outputs": [],
   "source": [
    "x = df.drop(['HeartDisease'],axis = 1)"
   ]
  },
  {
   "cell_type": "code",
   "execution_count": 61,
   "id": "c7c8cdcb",
   "metadata": {},
   "outputs": [],
   "source": [
    "y = df.HeartDisease       # Taking HeartDisease as our Target variable"
   ]
  },
  {
   "cell_type": "code",
   "execution_count": 62,
   "id": "72b7db9f",
   "metadata": {},
   "outputs": [],
   "source": [
    "from sklearn.model_selection import train_test_split        "
   ]
  },
  {
   "cell_type": "code",
   "execution_count": 63,
   "id": "2d12295e",
   "metadata": {},
   "outputs": [],
   "source": [
    "x_train,x_test,y_train,y_test = train_test_split(x,y,test_size = 0.3)  # To split the data into train and test dataset"
   ]
  },
  {
   "cell_type": "markdown",
   "id": "70c103aa",
   "metadata": {},
   "source": [
    "### Print the shape of train and test data"
   ]
  },
  {
   "cell_type": "code",
   "execution_count": 64,
   "id": "2c9e84b6",
   "metadata": {
    "scrolled": true
   },
   "outputs": [
    {
     "name": "stdout",
     "output_type": "stream",
     "text": [
      "Training Data Shape:  (223856, 17)\n",
      "Training Target Shape:  (223856,)\n",
      "Test Data Shape:  (95939, 17)\n",
      "Test Target Shape:  (95939,)\n"
     ]
    }
   ],
   "source": [
    "print('Training Data Shape: ',x_train.shape)\n",
    "print('Training Target Shape: ',y_train.shape)\n",
    "print('Test Data Shape: ',x_test.shape)\n",
    "print('Test Target Shape: ',y_test.shape)"
   ]
  },
  {
   "cell_type": "markdown",
   "id": "5b580d28",
   "metadata": {},
   "source": [
    "### Observation :-\n",
    "* Splitting the whole data into trian and test data.\n",
    "    - Here train data in 70% of the whole data.\n",
    "    - test data is 30% of the whole data."
   ]
  },
  {
   "cell_type": "markdown",
   "id": "65d0866d",
   "metadata": {},
   "source": [
    "### LogisticRegression"
   ]
  },
  {
   "cell_type": "code",
   "execution_count": 65,
   "id": "91df2748",
   "metadata": {},
   "outputs": [],
   "source": [
    "from sklearn.linear_model import LogisticRegression  # Importing LogisticRegression from sklearn"
   ]
  },
  {
   "cell_type": "code",
   "execution_count": 66,
   "id": "40dc59da",
   "metadata": {},
   "outputs": [],
   "source": [
    "model1 = LogisticRegression()  # Assigning model1 as LogisticRegression model"
   ]
  },
  {
   "cell_type": "code",
   "execution_count": 67,
   "id": "ba58d2a1",
   "metadata": {},
   "outputs": [
    {
     "data": {
      "text/plain": [
       "LogisticRegression()"
      ]
     },
     "execution_count": 67,
     "metadata": {},
     "output_type": "execute_result"
    }
   ],
   "source": [
    "model1.fit(x_train,y_train)   # Train the data"
   ]
  },
  {
   "cell_type": "code",
   "execution_count": 68,
   "id": "e59f734c",
   "metadata": {},
   "outputs": [
    {
     "data": {
      "text/plain": [
       "91.45811400994381"
      ]
     },
     "execution_count": 68,
     "metadata": {},
     "output_type": "execute_result"
    }
   ],
   "source": [
    "model1.score(x_test,y_test)*100  # Finding the accuracy of our model"
   ]
  },
  {
   "cell_type": "code",
   "execution_count": 69,
   "id": "be9afd29",
   "metadata": {},
   "outputs": [],
   "source": [
    "from sklearn.metrics import accuracy_score  "
   ]
  },
  {
   "cell_type": "code",
   "execution_count": 70,
   "id": "4b43ee7d",
   "metadata": {},
   "outputs": [],
   "source": [
    "y_predict = model1.predict(x_test)   # Predicting the model"
   ]
  },
  {
   "cell_type": "code",
   "execution_count": 71,
   "id": "beaee3f0",
   "metadata": {},
   "outputs": [
    {
     "data": {
      "text/plain": [
       "91.45811400994381"
      ]
     },
     "execution_count": 71,
     "metadata": {},
     "output_type": "execute_result"
    }
   ],
   "source": [
    "acc_1 = accuracy_score(y_test,y_predict)*100  # Finding the accuracy of our model\n",
    "acc_1"
   ]
  },
  {
   "cell_type": "code",
   "execution_count": 72,
   "id": "131a2c86",
   "metadata": {},
   "outputs": [],
   "source": [
    "from sklearn.metrics import classification_report  "
   ]
  },
  {
   "cell_type": "code",
   "execution_count": 73,
   "id": "8874ceb1",
   "metadata": {
    "scrolled": true
   },
   "outputs": [
    {
     "name": "stdout",
     "output_type": "stream",
     "text": [
      "LogisticRegression - Classification Report\n",
      "\n",
      "              precision    recall  f1-score   support\n",
      "\n",
      "           0       0.92      0.99      0.95     87658\n",
      "           1       0.52      0.11      0.18      8281\n",
      "\n",
      "    accuracy                           0.91     95939\n",
      "   macro avg       0.72      0.55      0.57     95939\n",
      "weighted avg       0.89      0.91      0.89     95939\n",
      "\n"
     ]
    }
   ],
   "source": [
    "print('LogisticRegression - Classification Report\\n')\n",
    "print(classification_report(y_test,y_predict))"
   ]
  },
  {
   "cell_type": "markdown",
   "id": "a52c95c4",
   "metadata": {},
   "source": [
    "### Observation :-\n",
    "* By applying Logistic Regression, model accuracy is 92%."
   ]
  },
  {
   "cell_type": "markdown",
   "id": "e21b73fd",
   "metadata": {},
   "source": [
    "### DecisionTreeClassifier"
   ]
  },
  {
   "cell_type": "code",
   "execution_count": 74,
   "id": "5cb5b826",
   "metadata": {},
   "outputs": [],
   "source": [
    "from sklearn.tree import DecisionTreeClassifier  # Importing DecisionTreeClassifier from sklearn"
   ]
  },
  {
   "cell_type": "code",
   "execution_count": 75,
   "id": "23b55beb",
   "metadata": {},
   "outputs": [],
   "source": [
    "model2 = DecisionTreeClassifier()  # Assigning model2 as DecisionTreeClassifier model"
   ]
  },
  {
   "cell_type": "code",
   "execution_count": 76,
   "id": "313f161d",
   "metadata": {},
   "outputs": [
    {
     "data": {
      "text/plain": [
       "DecisionTreeClassifier()"
      ]
     },
     "execution_count": 76,
     "metadata": {},
     "output_type": "execute_result"
    }
   ],
   "source": [
    "model2.fit(x_train,y_train)    # Train the data"
   ]
  },
  {
   "cell_type": "code",
   "execution_count": 77,
   "id": "905ad005",
   "metadata": {},
   "outputs": [
    {
     "data": {
      "text/plain": [
       "86.25793472935928"
      ]
     },
     "execution_count": 77,
     "metadata": {},
     "output_type": "execute_result"
    }
   ],
   "source": [
    "model2.score(x_test,y_test)*100   # Finding the accuracy of our model"
   ]
  },
  {
   "cell_type": "code",
   "execution_count": 78,
   "id": "d03e2752",
   "metadata": {},
   "outputs": [],
   "source": [
    "y_predict2 = model2.predict(x_test)  # Predicting the model"
   ]
  },
  {
   "cell_type": "code",
   "execution_count": 79,
   "id": "b821c13b",
   "metadata": {},
   "outputs": [
    {
     "data": {
      "text/plain": [
       "86.25793472935928"
      ]
     },
     "execution_count": 79,
     "metadata": {},
     "output_type": "execute_result"
    }
   ],
   "source": [
    "acc_2 = accuracy_score(y_test,y_predict2)*100  # Finding the accuracy of our model\n",
    "acc_2"
   ]
  },
  {
   "cell_type": "code",
   "execution_count": 80,
   "id": "025a1da4",
   "metadata": {
    "scrolled": true
   },
   "outputs": [
    {
     "name": "stdout",
     "output_type": "stream",
     "text": [
      "DecisionTreeClassifier - Classification Report\n",
      "\n",
      "              precision    recall  f1-score   support\n",
      "\n",
      "           0       0.93      0.92      0.92     87658\n",
      "           1       0.23      0.25      0.24      8281\n",
      "\n",
      "    accuracy                           0.86     95939\n",
      "   macro avg       0.58      0.59      0.58     95939\n",
      "weighted avg       0.87      0.86      0.87     95939\n",
      "\n"
     ]
    }
   ],
   "source": [
    "print('DecisionTreeClassifier - Classification Report\\n')\n",
    "print(classification_report(y_test,y_predict2))"
   ]
  },
  {
   "cell_type": "markdown",
   "id": "9f51044c",
   "metadata": {},
   "source": [
    "### Observation :-\n",
    "* By applying DecisionTreeClassifier, model accuracy is 86%."
   ]
  },
  {
   "cell_type": "markdown",
   "id": "50a86519",
   "metadata": {},
   "source": [
    "### RandomForestClassifier"
   ]
  },
  {
   "cell_type": "code",
   "execution_count": 81,
   "id": "39cee9b1",
   "metadata": {},
   "outputs": [],
   "source": [
    "from sklearn.ensemble import RandomForestClassifier   # Importing DecisionTreeClassifier from sklearn"
   ]
  },
  {
   "cell_type": "code",
   "execution_count": 82,
   "id": "4ddf5ed4",
   "metadata": {},
   "outputs": [],
   "source": [
    "model3 = RandomForestClassifier()  # Assigning model3 as RandomForestClassifier model"
   ]
  },
  {
   "cell_type": "code",
   "execution_count": 83,
   "id": "d429d5cf",
   "metadata": {},
   "outputs": [
    {
     "data": {
      "text/plain": [
       "RandomForestClassifier()"
      ]
     },
     "execution_count": 83,
     "metadata": {},
     "output_type": "execute_result"
    }
   ],
   "source": [
    "model3.fit(x_train,y_train)     # Train the data"
   ]
  },
  {
   "cell_type": "code",
   "execution_count": 84,
   "id": "4019ad4f",
   "metadata": {},
   "outputs": [
    {
     "data": {
      "text/plain": [
       "90.57004971909234"
      ]
     },
     "execution_count": 84,
     "metadata": {},
     "output_type": "execute_result"
    }
   ],
   "source": [
    "model3.score(x_test,y_test)*100   # Finding the accuracy of our model"
   ]
  },
  {
   "cell_type": "code",
   "execution_count": 85,
   "id": "174b8544",
   "metadata": {},
   "outputs": [],
   "source": [
    "y_predict3 = model3.predict(x_test)   # Predicting the model"
   ]
  },
  {
   "cell_type": "code",
   "execution_count": 86,
   "id": "474852ac",
   "metadata": {},
   "outputs": [
    {
     "data": {
      "text/plain": [
       "90.57004971909234"
      ]
     },
     "execution_count": 86,
     "metadata": {},
     "output_type": "execute_result"
    }
   ],
   "source": [
    "acc_3 = accuracy_score(y_test,y_predict3)*100   # Finding the accuracy of our model\n",
    "acc_3"
   ]
  },
  {
   "cell_type": "code",
   "execution_count": 87,
   "id": "60ccb732",
   "metadata": {
    "scrolled": true
   },
   "outputs": [
    {
     "name": "stdout",
     "output_type": "stream",
     "text": [
      "RandomForestClassifier - Classification Report\n",
      "\n",
      "              precision    recall  f1-score   support\n",
      "\n",
      "           0       0.92      0.98      0.95     87658\n",
      "           1       0.36      0.12      0.18      8281\n",
      "\n",
      "    accuracy                           0.91     95939\n",
      "   macro avg       0.64      0.55      0.57     95939\n",
      "weighted avg       0.87      0.91      0.88     95939\n",
      "\n"
     ]
    }
   ],
   "source": [
    "print('RandomForestClassifier - Classification Report\\n')\n",
    "print(classification_report(y_test,y_predict3))"
   ]
  },
  {
   "cell_type": "markdown",
   "id": "68fa003d",
   "metadata": {},
   "source": [
    "### Observation :-\n",
    "* By applying RandomForestClassifier, model accuracy is 91%."
   ]
  },
  {
   "cell_type": "markdown",
   "id": "6a1eafa8",
   "metadata": {},
   "source": [
    "### Naive Bayes"
   ]
  },
  {
   "cell_type": "code",
   "execution_count": 88,
   "id": "53481f49",
   "metadata": {},
   "outputs": [],
   "source": [
    "from sklearn.naive_bayes import MultinomialNB"
   ]
  },
  {
   "cell_type": "code",
   "execution_count": 89,
   "id": "c70f986a",
   "metadata": {},
   "outputs": [],
   "source": [
    "model4 = MultinomialNB()"
   ]
  },
  {
   "cell_type": "code",
   "execution_count": 90,
   "id": "8d76a4d7",
   "metadata": {},
   "outputs": [
    {
     "data": {
      "text/plain": [
       "MultinomialNB()"
      ]
     },
     "execution_count": 90,
     "metadata": {},
     "output_type": "execute_result"
    }
   ],
   "source": [
    "model4.fit(x_train,y_train)"
   ]
  },
  {
   "cell_type": "code",
   "execution_count": 91,
   "id": "d5ca8a60",
   "metadata": {},
   "outputs": [
    {
     "data": {
      "text/plain": [
       "83.99608084303568"
      ]
     },
     "execution_count": 91,
     "metadata": {},
     "output_type": "execute_result"
    }
   ],
   "source": [
    "model4.score(x_test,y_test)*100"
   ]
  },
  {
   "cell_type": "code",
   "execution_count": 92,
   "id": "096dad7d",
   "metadata": {},
   "outputs": [],
   "source": [
    "y_predict4 = model4.predict(x_test)"
   ]
  },
  {
   "cell_type": "code",
   "execution_count": 93,
   "id": "35c0f734",
   "metadata": {},
   "outputs": [
    {
     "data": {
      "text/plain": [
       "array([0, 0, 0, ..., 0, 1, 0], dtype=int64)"
      ]
     },
     "execution_count": 93,
     "metadata": {},
     "output_type": "execute_result"
    }
   ],
   "source": [
    "y_predict4"
   ]
  },
  {
   "cell_type": "code",
   "execution_count": 94,
   "id": "eff2407a",
   "metadata": {},
   "outputs": [
    {
     "data": {
      "text/plain": [
       "83.99608084303568"
      ]
     },
     "execution_count": 94,
     "metadata": {},
     "output_type": "execute_result"
    }
   ],
   "source": [
    "acc_4 = accuracy_score(y_test,y_predict4)*100   # Finding the accuracy of our model\n",
    "acc_4"
   ]
  },
  {
   "cell_type": "code",
   "execution_count": 95,
   "id": "6d8b67e6",
   "metadata": {
    "scrolled": true
   },
   "outputs": [
    {
     "name": "stdout",
     "output_type": "stream",
     "text": [
      "NaiveBayes - Classification Report\n",
      "\n",
      "              precision    recall  f1-score   support\n",
      "\n",
      "           0       0.93      0.89      0.91     87658\n",
      "           1       0.22      0.33      0.26      8281\n",
      "\n",
      "    accuracy                           0.84     95939\n",
      "   macro avg       0.58      0.61      0.59     95939\n",
      "weighted avg       0.87      0.84      0.85     95939\n",
      "\n"
     ]
    }
   ],
   "source": [
    "print('NaiveBayes - Classification Report\\n')\n",
    "print(classification_report(y_test,y_predict4))"
   ]
  },
  {
   "cell_type": "markdown",
   "id": "a99ab690",
   "metadata": {},
   "source": [
    "### Observation :-\n",
    "* By applying Naive Bayes, model accuracy is 84%."
   ]
  },
  {
   "cell_type": "markdown",
   "id": "315b2e41",
   "metadata": {},
   "source": [
    "### Comparing accuracy of each model"
   ]
  },
  {
   "cell_type": "code",
   "execution_count": 96,
   "id": "03c0bd9e",
   "metadata": {},
   "outputs": [
    {
     "data": {
      "text/html": [
       "<div>\n",
       "<style scoped>\n",
       "    .dataframe tbody tr th:only-of-type {\n",
       "        vertical-align: middle;\n",
       "    }\n",
       "\n",
       "    .dataframe tbody tr th {\n",
       "        vertical-align: top;\n",
       "    }\n",
       "\n",
       "    .dataframe thead th {\n",
       "        text-align: right;\n",
       "    }\n",
       "</style>\n",
       "<table border=\"1\" class=\"dataframe\">\n",
       "  <thead>\n",
       "    <tr style=\"text-align: right;\">\n",
       "      <th></th>\n",
       "      <th>Model</th>\n",
       "      <th>Accuracy</th>\n",
       "    </tr>\n",
       "  </thead>\n",
       "  <tbody>\n",
       "    <tr>\n",
       "      <th>0</th>\n",
       "      <td>LR</td>\n",
       "      <td>91.458114</td>\n",
       "    </tr>\n",
       "    <tr>\n",
       "      <th>1</th>\n",
       "      <td>DT</td>\n",
       "      <td>86.257935</td>\n",
       "    </tr>\n",
       "    <tr>\n",
       "      <th>2</th>\n",
       "      <td>RF</td>\n",
       "      <td>90.570050</td>\n",
       "    </tr>\n",
       "    <tr>\n",
       "      <th>3</th>\n",
       "      <td>NB</td>\n",
       "      <td>83.996081</td>\n",
       "    </tr>\n",
       "  </tbody>\n",
       "</table>\n",
       "</div>"
      ],
      "text/plain": [
       "  Model   Accuracy\n",
       "0    LR  91.458114\n",
       "1    DT  86.257935\n",
       "2    RF  90.570050\n",
       "3    NB  83.996081"
      ]
     },
     "execution_count": 96,
     "metadata": {},
     "output_type": "execute_result"
    }
   ],
   "source": [
    "acc = pd.DataFrame({'Model':['LR','DT','RF','NB'],'Accuracy':[acc_1,acc_2,acc_3,acc_4]})\n",
    "acc        # Creating a new DataFrame with model name and model accuracy"
   ]
  },
  {
   "cell_type": "code",
   "execution_count": 97,
   "id": "e77d2100",
   "metadata": {
    "scrolled": false
   },
   "outputs": [
    {
     "data": {
      "image/png": "[encoded data removed]",
      "text/plain": [
       "<Figure size 432x288 with 1 Axes>"
      ]
     },
     "metadata": {},
     "output_type": "display_data"
    }
   ],
   "source": [
    "sns.barplot(x = 'Model',y = 'Accuracy',data = acc,palette = 'inferno_r')\n",
    "plt.title('Comparision of Accuracy\\n',fontsize = 20,color = 'green')\n",
    "plt.xlabel('\\nModel',fontsize = 16,color = 'red')\n",
    "plt.ylabel('Accuracy\\n',fontsize = 16,color = 'red')\n",
    "plt.show()"
   ]
  },
  {
   "cell_type": "markdown",
   "id": "4cc7db85",
   "metadata": {},
   "source": [
    "### Observation :-\n",
    "* From the above bar plot we can see that LogisticRegression model is providing best accuracy."
   ]
  },
  {
   "cell_type": "markdown",
   "id": "4256290c",
   "metadata": {},
   "source": [
    "### Confusion Matrix"
   ]
  },
  {
   "cell_type": "code",
   "execution_count": 98,
   "id": "7aab3c3d",
   "metadata": {},
   "outputs": [],
   "source": [
    "from sklearn.metrics import plot_confusion_matrix"
   ]
  },
  {
   "cell_type": "code",
   "execution_count": 99,
   "id": "7bab78fc",
   "metadata": {},
   "outputs": [
    {
     "data": {
      "image/png": "[encoded data removed]",
      "text/plain": [
       "<Figure size 432x288 with 2 Axes>"
      ]
     },
     "metadata": {},
     "output_type": "display_data"
    }
   ],
   "source": [
    "plot_confusion_matrix(model1,x_test,y_test)\n",
    "plt.title('Confusion Matrix of LogisticRegression Model\\n',fontsize = 20,color = 'blue')\n",
    "plt.xlabel('\\nPredicted',fontsize=16,color = 'green')\n",
    "plt.ylabel('Actual\\n',fontsize = 16, color = 'green')\n",
    "plt.show()"
   ]
  },
  {
   "cell_type": "markdown",
   "id": "1c96a192",
   "metadata": {},
   "source": [
    "### Creating new DataFrame with Actual and Predicted Values"
   ]
  },
  {
   "cell_type": "code",
   "execution_count": 100,
   "id": "41ce566d",
   "metadata": {},
   "outputs": [
    {
     "data": {
      "text/html": [
       "<div>\n",
       "<style scoped>\n",
       "    .dataframe tbody tr th:only-of-type {\n",
       "        vertical-align: middle;\n",
       "    }\n",
       "\n",
       "    .dataframe tbody tr th {\n",
       "        vertical-align: top;\n",
       "    }\n",
       "\n",
       "    .dataframe thead th {\n",
       "        text-align: right;\n",
       "    }\n",
       "</style>\n",
       "<table border=\"1\" class=\"dataframe\">\n",
       "  <thead>\n",
       "    <tr style=\"text-align: right;\">\n",
       "      <th></th>\n",
       "      <th>Actual</th>\n",
       "      <th>Predicted</th>\n",
       "    </tr>\n",
       "  </thead>\n",
       "  <tbody>\n",
       "    <tr>\n",
       "      <th>184893</th>\n",
       "      <td>0</td>\n",
       "      <td>0</td>\n",
       "    </tr>\n",
       "    <tr>\n",
       "      <th>236282</th>\n",
       "      <td>0</td>\n",
       "      <td>0</td>\n",
       "    </tr>\n",
       "    <tr>\n",
       "      <th>182814</th>\n",
       "      <td>0</td>\n",
       "      <td>0</td>\n",
       "    </tr>\n",
       "    <tr>\n",
       "      <th>79368</th>\n",
       "      <td>0</td>\n",
       "      <td>0</td>\n",
       "    </tr>\n",
       "    <tr>\n",
       "      <th>124341</th>\n",
       "      <td>0</td>\n",
       "      <td>0</td>\n",
       "    </tr>\n",
       "    <tr>\n",
       "      <th>...</th>\n",
       "      <td>...</td>\n",
       "      <td>...</td>\n",
       "    </tr>\n",
       "    <tr>\n",
       "      <th>202487</th>\n",
       "      <td>0</td>\n",
       "      <td>0</td>\n",
       "    </tr>\n",
       "    <tr>\n",
       "      <th>128294</th>\n",
       "      <td>0</td>\n",
       "      <td>0</td>\n",
       "    </tr>\n",
       "    <tr>\n",
       "      <th>161335</th>\n",
       "      <td>0</td>\n",
       "      <td>0</td>\n",
       "    </tr>\n",
       "    <tr>\n",
       "      <th>144097</th>\n",
       "      <td>0</td>\n",
       "      <td>0</td>\n",
       "    </tr>\n",
       "    <tr>\n",
       "      <th>71561</th>\n",
       "      <td>0</td>\n",
       "      <td>0</td>\n",
       "    </tr>\n",
       "  </tbody>\n",
       "</table>\n",
       "<p>95939 rows × 2 columns</p>\n",
       "</div>"
      ],
      "text/plain": [
       "        Actual  Predicted\n",
       "184893       0          0\n",
       "236282       0          0\n",
       "182814       0          0\n",
       "79368        0          0\n",
       "124341       0          0\n",
       "...        ...        ...\n",
       "202487       0          0\n",
       "128294       0          0\n",
       "161335       0          0\n",
       "144097       0          0\n",
       "71561        0          0\n",
       "\n",
       "[95939 rows x 2 columns]"
      ]
     },
     "execution_count": 100,
     "metadata": {},
     "output_type": "execute_result"
    }
   ],
   "source": [
    "new_df = pd.DataFrame({'Actual':y_test,'Predicted':y_predict})  # taking predicted value of LogisticRegression\n",
    "new_df"
   ]
  },
  {
   "cell_type": "markdown",
   "id": "f7ec4456",
   "metadata": {},
   "source": [
    "### Conclusion :"
   ]
  },
  {
   "cell_type": "markdown",
   "id": "b71eecd9",
   "metadata": {},
   "source": [
    "* From the above analysis we can conclude that above data is consist of 8.6% of the records having a HeartDisease.\n",
    "* On implementing different classification models on the dataset we have observed that the best model for predicting whether a person have a HeartDisease or not is LogisticRegression model.\n",
    "* The model is giving 92% accuracy, so we can consider this model for prediction of the HeartDisease.\n",
    "* By focusing on doing some PhysicalActivity, having a balanced SleepTime may result in a good Physical and Mental Health of a person and will decrease the chances of adapting any disease."
   ]
  },
  {
   "cell_type": "code",
   "execution_count": null,
   "id": "62c078c8",
   "metadata": {},
   "outputs": [],
   "source": []
  }
 ],
 "metadata": {
  "kernelspec": {
   "display_name": "Python 3 (ipykernel)",
   "language": "python",
   "name": "python3"
  },
  "language_info": {
   "codemirror_mode": {
    "name": "ipython",
    "version": 3
   },
   "file_extension": ".py",
   "mimetype": "text/x-python",
   "name": "python",
   "nbconvert_exporter": "python",
   "pygments_lexer": "ipython3",
   "version": "3.9.12"
  }
 },
 "nbformat": 4,
 "nbformat_minor": 5
}
